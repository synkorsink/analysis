{
 "cells": [
  {
   "cell_type": "markdown",
   "id": "BcHqF9GreTE3",
   "metadata": {
    "id": "BcHqF9GreTE3"
   },
   "source": [
    "# Attacker Analysis"
   ]
  },
  {
   "cell_type": "markdown",
   "id": "23e8752d",
   "metadata": {},
   "source": [
    "## Prerequisites"
   ]
  },
  {
   "cell_type": "code",
   "execution_count": 1,
   "id": "3a25f59e",
   "metadata": {},
   "outputs": [
    {
     "name": "stdout",
     "output_type": "stream",
     "text": [
      "Requirement already satisfied: matplotlib-venn in /opt/anaconda3/lib/python3.12/site-packages (1.1.1)\n",
      "Requirement already satisfied: matplotlib in /opt/anaconda3/lib/python3.12/site-packages (from matplotlib-venn) (3.8.4)\n",
      "Requirement already satisfied: numpy in /opt/anaconda3/lib/python3.12/site-packages (from matplotlib-venn) (1.26.4)\n",
      "Requirement already satisfied: scipy in /opt/anaconda3/lib/python3.12/site-packages (from matplotlib-venn) (1.13.1)\n",
      "Requirement already satisfied: contourpy>=1.0.1 in /opt/anaconda3/lib/python3.12/site-packages (from matplotlib->matplotlib-venn) (1.2.0)\n",
      "Requirement already satisfied: cycler>=0.10 in /opt/anaconda3/lib/python3.12/site-packages (from matplotlib->matplotlib-venn) (0.11.0)\n",
      "Requirement already satisfied: fonttools>=4.22.0 in /opt/anaconda3/lib/python3.12/site-packages (from matplotlib->matplotlib-venn) (4.51.0)\n",
      "Requirement already satisfied: kiwisolver>=1.3.1 in /opt/anaconda3/lib/python3.12/site-packages (from matplotlib->matplotlib-venn) (1.4.4)\n",
      "Requirement already satisfied: packaging>=20.0 in /opt/anaconda3/lib/python3.12/site-packages (from matplotlib->matplotlib-venn) (23.2)\n",
      "Requirement already satisfied: pillow>=8 in /opt/anaconda3/lib/python3.12/site-packages (from matplotlib->matplotlib-venn) (10.3.0)\n",
      "Requirement already satisfied: pyparsing>=2.3.1 in /opt/anaconda3/lib/python3.12/site-packages (from matplotlib->matplotlib-venn) (3.0.9)\n",
      "Requirement already satisfied: python-dateutil>=2.7 in /opt/anaconda3/lib/python3.12/site-packages (from matplotlib->matplotlib-venn) (2.9.0.post0)\n",
      "Requirement already satisfied: six>=1.5 in /opt/anaconda3/lib/python3.12/site-packages (from python-dateutil>=2.7->matplotlib->matplotlib-venn) (1.16.0)\n",
      "Requirement already satisfied: kaggle in /opt/anaconda3/lib/python3.12/site-packages (1.6.17)\n",
      "Requirement already satisfied: six>=1.10 in /opt/anaconda3/lib/python3.12/site-packages (from kaggle) (1.16.0)\n",
      "Requirement already satisfied: certifi>=2023.7.22 in /opt/anaconda3/lib/python3.12/site-packages (from kaggle) (2024.6.2)\n",
      "Requirement already satisfied: python-dateutil in /opt/anaconda3/lib/python3.12/site-packages (from kaggle) (2.9.0.post0)\n",
      "Requirement already satisfied: requests in /opt/anaconda3/lib/python3.12/site-packages (from kaggle) (2.32.2)\n",
      "Requirement already satisfied: tqdm in /opt/anaconda3/lib/python3.12/site-packages (from kaggle) (4.66.4)\n",
      "Requirement already satisfied: python-slugify in /opt/anaconda3/lib/python3.12/site-packages (from kaggle) (5.0.2)\n",
      "Requirement already satisfied: urllib3 in /opt/anaconda3/lib/python3.12/site-packages (from kaggle) (2.2.2)\n",
      "Requirement already satisfied: bleach in /opt/anaconda3/lib/python3.12/site-packages (from kaggle) (4.1.0)\n",
      "Requirement already satisfied: packaging in /opt/anaconda3/lib/python3.12/site-packages (from bleach->kaggle) (23.2)\n",
      "Requirement already satisfied: webencodings in /opt/anaconda3/lib/python3.12/site-packages (from bleach->kaggle) (0.5.1)\n",
      "Requirement already satisfied: text-unidecode>=1.3 in /opt/anaconda3/lib/python3.12/site-packages (from python-slugify->kaggle) (1.3)\n",
      "Requirement already satisfied: charset-normalizer<4,>=2 in /opt/anaconda3/lib/python3.12/site-packages (from requests->kaggle) (2.0.4)\n",
      "Requirement already satisfied: idna<4,>=2.5 in /opt/anaconda3/lib/python3.12/site-packages (from requests->kaggle) (3.7)\n",
      "Requirement already satisfied: stix2 in /opt/anaconda3/lib/python3.12/site-packages (3.0.1)\n",
      "Requirement already satisfied: pytz in /opt/anaconda3/lib/python3.12/site-packages (from stix2) (2024.1)\n",
      "Requirement already satisfied: requests in /opt/anaconda3/lib/python3.12/site-packages (from stix2) (2.32.2)\n",
      "Requirement already satisfied: simplejson in /opt/anaconda3/lib/python3.12/site-packages (from stix2) (3.19.3)\n",
      "Requirement already satisfied: stix2-patterns>=1.2.0 in /opt/anaconda3/lib/python3.12/site-packages (from stix2) (2.0.0)\n",
      "Requirement already satisfied: antlr4-python3-runtime~=4.9.0 in /opt/anaconda3/lib/python3.12/site-packages (from stix2-patterns>=1.2.0->stix2) (4.9.3)\n",
      "Requirement already satisfied: six in /opt/anaconda3/lib/python3.12/site-packages (from stix2-patterns>=1.2.0->stix2) (1.16.0)\n",
      "Requirement already satisfied: charset-normalizer<4,>=2 in /opt/anaconda3/lib/python3.12/site-packages (from requests->stix2) (2.0.4)\n",
      "Requirement already satisfied: idna<4,>=2.5 in /opt/anaconda3/lib/python3.12/site-packages (from requests->stix2) (3.7)\n",
      "Requirement already satisfied: urllib3<3,>=1.21.1 in /opt/anaconda3/lib/python3.12/site-packages (from requests->stix2) (2.2.2)\n",
      "Requirement already satisfied: certifi>=2017.4.17 in /opt/anaconda3/lib/python3.12/site-packages (from requests->stix2) (2024.6.2)\n",
      "Requirement already satisfied: taxii2-client in /opt/anaconda3/lib/python3.12/site-packages (2.3.0)\n",
      "Requirement already satisfied: requests in /opt/anaconda3/lib/python3.12/site-packages (from taxii2-client) (2.32.2)\n",
      "Requirement already satisfied: six in /opt/anaconda3/lib/python3.12/site-packages (from taxii2-client) (1.16.0)\n",
      "Requirement already satisfied: pytz in /opt/anaconda3/lib/python3.12/site-packages (from taxii2-client) (2024.1)\n",
      "Requirement already satisfied: charset-normalizer<4,>=2 in /opt/anaconda3/lib/python3.12/site-packages (from requests->taxii2-client) (2.0.4)\n",
      "Requirement already satisfied: idna<4,>=2.5 in /opt/anaconda3/lib/python3.12/site-packages (from requests->taxii2-client) (3.7)\n",
      "Requirement already satisfied: urllib3<3,>=1.21.1 in /opt/anaconda3/lib/python3.12/site-packages (from requests->taxii2-client) (2.2.2)\n",
      "Requirement already satisfied: certifi>=2017.4.17 in /opt/anaconda3/lib/python3.12/site-packages (from requests->taxii2-client) (2024.6.2)\n",
      "Requirement already satisfied: six in /opt/anaconda3/lib/python3.12/site-packages (1.16.0)\n",
      "Requirement already satisfied: attackcti in /opt/anaconda3/lib/python3.12/site-packages (0.4.4)\n",
      "Requirement already satisfied: stix2 in /opt/anaconda3/lib/python3.12/site-packages (from attackcti) (3.0.1)\n",
      "Requirement already satisfied: taxii2-client in /opt/anaconda3/lib/python3.12/site-packages (from attackcti) (2.3.0)\n",
      "Requirement already satisfied: pydantic in /opt/anaconda3/lib/python3.12/site-packages (from attackcti) (2.5.3)\n",
      "Requirement already satisfied: annotated-types>=0.4.0 in /opt/anaconda3/lib/python3.12/site-packages (from pydantic->attackcti) (0.6.0)\n",
      "Requirement already satisfied: pydantic-core==2.14.6 in /opt/anaconda3/lib/python3.12/site-packages (from pydantic->attackcti) (2.14.6)\n",
      "Requirement already satisfied: typing-extensions>=4.6.1 in /opt/anaconda3/lib/python3.12/site-packages (from pydantic->attackcti) (4.11.0)\n",
      "Requirement already satisfied: pytz in /opt/anaconda3/lib/python3.12/site-packages (from stix2->attackcti) (2024.1)\n",
      "Requirement already satisfied: requests in /opt/anaconda3/lib/python3.12/site-packages (from stix2->attackcti) (2.32.2)\n",
      "Requirement already satisfied: simplejson in /opt/anaconda3/lib/python3.12/site-packages (from stix2->attackcti) (3.19.3)\n",
      "Requirement already satisfied: stix2-patterns>=1.2.0 in /opt/anaconda3/lib/python3.12/site-packages (from stix2->attackcti) (2.0.0)\n",
      "Requirement already satisfied: six in /opt/anaconda3/lib/python3.12/site-packages (from taxii2-client->attackcti) (1.16.0)\n",
      "Requirement already satisfied: antlr4-python3-runtime~=4.9.0 in /opt/anaconda3/lib/python3.12/site-packages (from stix2-patterns>=1.2.0->stix2->attackcti) (4.9.3)\n",
      "Requirement already satisfied: charset-normalizer<4,>=2 in /opt/anaconda3/lib/python3.12/site-packages (from requests->stix2->attackcti) (2.0.4)\n",
      "Requirement already satisfied: idna<4,>=2.5 in /opt/anaconda3/lib/python3.12/site-packages (from requests->stix2->attackcti) (3.7)\n",
      "Requirement already satisfied: urllib3<3,>=1.21.1 in /opt/anaconda3/lib/python3.12/site-packages (from requests->stix2->attackcti) (2.2.2)\n",
      "Requirement already satisfied: certifi>=2017.4.17 in /opt/anaconda3/lib/python3.12/site-packages (from requests->stix2->attackcti) (2024.6.2)\n",
      "Requirement already satisfied: tqdm in /opt/anaconda3/lib/python3.12/site-packages (4.66.4)\n"
     ]
    }
   ],
   "source": [
    "!pip install matplotlib-venn\n",
    "!pip install kaggle\n",
    "!pip install stix2 \n",
    "!pip install taxii2-client\n",
    "!pip install six\n",
    "!pip install attackcti\n",
    "!pip install tqdm\n",
    "\n",
    "import os\n",
    "import ast\n",
    "import zipfile\n",
    "import pandas as pd\n",
    "import matplotlib.pyplot as plt\n",
    "import seaborn as sns\n",
    "import matplotlib.patches as patches\n",
    "import numpy as np\n",
    "# Additional imports for the new analyses\n",
    "import plotly.express as px  # For fancy charts like treemaps and donut charts\n",
    "import plotly.graph_objs as go  # For chord diagrams and advanced plotting\n",
    "from matplotlib_venn import venn2  # For Venn diagrams, if needed\n",
    "from sklearn.preprocessing import MultiLabelBinarizer\n",
    "from tqdm import tqdm\n",
    "import statsmodels.api as sm\n",
    "import plotly.express as px\n"
   ]
  },
  {
   "cell_type": "markdown",
   "id": "a79ae414",
   "metadata": {},
   "source": [
    "## A.1 Download our compiled attacker data from Kaggle\n",
    "First, we need to load the data from the merged CSV file and prepare it for analysis."
   ]
  },
  {
   "cell_type": "code",
   "execution_count": 6,
   "id": "69feac05",
   "metadata": {},
   "outputs": [
    {
     "name": "stdout",
     "output_type": "stream",
     "text": [
      "Dataset URL: https://www.kaggle.com/datasets/synkorsink/cve-attack-ttp\n",
      "License(s): apache-2.0\n",
      "Downloading cve-attack-ttp.zip to kaggle_dataset\n",
      " 99%|█████████████████████████████████████▌| 35.0M/35.4M [00:03<00:00, 13.7MB/s]\n",
      "100%|██████████████████████████████████████| 35.4M/35.4M [00:03<00:00, 11.3MB/s]\n"
     ]
    },
    {
     "name": "stderr",
     "output_type": "stream",
     "text": [
      "/var/folders/qb/z7q3w2md0c3c0s29ngj6p0600000gn/T/ipykernel_33808/1397782334.py:19: DtypeWarning: Columns (0,1,2,3,4,5,8,9,10,11,12) have mixed types. Specify dtype option on import or set low_memory=False.\n",
      "  attack_df = pd.read_csv('kaggle_dataset/cve_attack_mapping.csv')\n"
     ]
    },
    {
     "data": {
      "text/html": [
       "<div>\n",
       "<style scoped>\n",
       "    .dataframe tbody tr th:only-of-type {\n",
       "        vertical-align: middle;\n",
       "    }\n",
       "\n",
       "    .dataframe tbody tr th {\n",
       "        vertical-align: top;\n",
       "    }\n",
       "\n",
       "    .dataframe thead th {\n",
       "        text-align: right;\n",
       "    }\n",
       "</style>\n",
       "<table border=\"1\" class=\"dataframe\">\n",
       "  <thead>\n",
       "    <tr style=\"text-align: right;\">\n",
       "      <th></th>\n",
       "      <th>cve_id</th>\n",
       "      <th>description</th>\n",
       "      <th>publisher</th>\n",
       "      <th>published_date</th>\n",
       "      <th>cvss_version</th>\n",
       "      <th>cvss_vector</th>\n",
       "      <th>cvss_score</th>\n",
       "      <th>impact_score</th>\n",
       "      <th>exploitability_score</th>\n",
       "      <th>epss_score</th>\n",
       "      <th>cpe_strings</th>\n",
       "      <th>attack_tactic</th>\n",
       "      <th>attack_technique</th>\n",
       "      <th>confidence</th>\n",
       "    </tr>\n",
       "  </thead>\n",
       "  <tbody>\n",
       "    <tr>\n",
       "      <th>0</th>\n",
       "      <td>CVE-2023-0001</td>\n",
       "      <td>An information exposure vulnerability in the P...</td>\n",
       "      <td>psirt@paloaltonetworks.com</td>\n",
       "      <td>2023-02-08T18:15Z</td>\n",
       "      <td>3.1</td>\n",
       "      <td>CVSS:3.1/AV:L/AC:L/PR:H/UI:N/S:U/C:H/I:H/A:H</td>\n",
       "      <td>6.7</td>\n",
       "      <td>5.9</td>\n",
       "      <td>0.8</td>\n",
       "      <td>0</td>\n",
       "      <td>[]</td>\n",
       "      <td>['defense-evasion']</td>\n",
       "      <td>T1112</td>\n",
       "      <td>0.075567</td>\n",
       "    </tr>\n",
       "    <tr>\n",
       "      <th>1</th>\n",
       "      <td>CVE-2023-0002</td>\n",
       "      <td>A problem with a protection mechanism in the P...</td>\n",
       "      <td>psirt@paloaltonetworks.com</td>\n",
       "      <td>2023-02-08T18:15Z</td>\n",
       "      <td>3.1</td>\n",
       "      <td>CVSS:3.1/AV:L/AC:L/PR:L/UI:N/S:U/C:H/I:H/A:H</td>\n",
       "      <td>7.8</td>\n",
       "      <td>5.9</td>\n",
       "      <td>1.8</td>\n",
       "      <td>0</td>\n",
       "      <td>[]</td>\n",
       "      <td>['defense-evasion']</td>\n",
       "      <td>T1070</td>\n",
       "      <td>0.111238</td>\n",
       "    </tr>\n",
       "    <tr>\n",
       "      <th>2</th>\n",
       "      <td>CVE-2023-0003</td>\n",
       "      <td>A file disclosure vulnerability in the Palo Al...</td>\n",
       "      <td>psirt@paloaltonetworks.com</td>\n",
       "      <td>2023-02-08T18:15Z</td>\n",
       "      <td>3.1</td>\n",
       "      <td>CVSS:3.1/AV:N/AC:L/PR:L/UI:N/S:U/C:H/I:N/A:N</td>\n",
       "      <td>6.5</td>\n",
       "      <td>3.6</td>\n",
       "      <td>2.8</td>\n",
       "      <td>0</td>\n",
       "      <td>['cpe:2.3:a:paloaltonetworks:cortex_xsoar:6.8....</td>\n",
       "      <td>['discovery']</td>\n",
       "      <td>T1083</td>\n",
       "      <td>0.190795</td>\n",
       "    </tr>\n",
       "    <tr>\n",
       "      <th>3</th>\n",
       "      <td>CVE-2023-0003</td>\n",
       "      <td>A file disclosure vulnerability in the Palo Al...</td>\n",
       "      <td>psirt@paloaltonetworks.com</td>\n",
       "      <td>2023-02-08T18:15Z</td>\n",
       "      <td>3.1</td>\n",
       "      <td>CVSS:3.1/AV:N/AC:L/PR:L/UI:N/S:U/C:H/I:N/A:N</td>\n",
       "      <td>6.5</td>\n",
       "      <td>3.6</td>\n",
       "      <td>2.8</td>\n",
       "      <td>0</td>\n",
       "      <td>['cpe:2.3:a:paloaltonetworks:cortex_xsoar:6.8....</td>\n",
       "      <td>['command-and-control']</td>\n",
       "      <td>T1105</td>\n",
       "      <td>0.173198</td>\n",
       "    </tr>\n",
       "    <tr>\n",
       "      <th>4</th>\n",
       "      <td>CVE-2023-0003</td>\n",
       "      <td>A file disclosure vulnerability in the Palo Al...</td>\n",
       "      <td>psirt@paloaltonetworks.com</td>\n",
       "      <td>2023-02-08T18:15Z</td>\n",
       "      <td>3.1</td>\n",
       "      <td>CVSS:3.1/AV:N/AC:L/PR:L/UI:N/S:U/C:H/I:N/A:N</td>\n",
       "      <td>6.5</td>\n",
       "      <td>3.6</td>\n",
       "      <td>2.8</td>\n",
       "      <td>0</td>\n",
       "      <td>['cpe:2.3:a:paloaltonetworks:cortex_xsoar:6.8....</td>\n",
       "      <td>['collection']</td>\n",
       "      <td>T1005</td>\n",
       "      <td>0.166163</td>\n",
       "    </tr>\n",
       "    <tr>\n",
       "      <th>5</th>\n",
       "      <td>CVE-2023-0004</td>\n",
       "      <td>A local file deletion vulnerability in Palo Al...</td>\n",
       "      <td>psirt@paloaltonetworks.com</td>\n",
       "      <td>2023-04-12T17:15Z</td>\n",
       "      <td>3.1</td>\n",
       "      <td>CVSS:3.1/AV:N/AC:L/PR:H/UI:N/S:U/C:N/I:H/A:H</td>\n",
       "      <td>6.5</td>\n",
       "      <td>5.2</td>\n",
       "      <td>1.2</td>\n",
       "      <td>0</td>\n",
       "      <td>['cpe:2.3:o:paloaltonetworks:pan-os:*:*:*:*:*:...</td>\n",
       "      <td>['defense-evasion']</td>\n",
       "      <td>T1070</td>\n",
       "      <td>0.652210</td>\n",
       "    </tr>\n",
       "    <tr>\n",
       "      <th>6</th>\n",
       "      <td>CVE-2023-0005</td>\n",
       "      <td>A vulnerability in Palo Alto Networks PAN-OS s...</td>\n",
       "      <td>psirt@paloaltonetworks.com</td>\n",
       "      <td>2023-04-12T17:15Z</td>\n",
       "      <td>3.1</td>\n",
       "      <td>CVSS:3.1/AV:N/AC:L/PR:H/UI:N/S:U/C:H/I:N/A:N</td>\n",
       "      <td>4.9</td>\n",
       "      <td>3.6</td>\n",
       "      <td>1.2</td>\n",
       "      <td>0</td>\n",
       "      <td>['cpe:2.3:o:paloaltonetworks:pan-os:*:*:*:*:*:...</td>\n",
       "      <td>['credential-access']</td>\n",
       "      <td>T1552</td>\n",
       "      <td>0.328307</td>\n",
       "    </tr>\n",
       "    <tr>\n",
       "      <th>7</th>\n",
       "      <td>CVE-2023-0006</td>\n",
       "      <td>A local file deletion vulnerability in the Pal...</td>\n",
       "      <td>psirt@paloaltonetworks.com</td>\n",
       "      <td>2023-04-12T17:15Z</td>\n",
       "      <td>3.1</td>\n",
       "      <td>CVSS:3.1/AV:L/AC:H/PR:L/UI:N/S:U/C:N/I:H/A:H</td>\n",
       "      <td>6.3</td>\n",
       "      <td>5.2</td>\n",
       "      <td>1.0</td>\n",
       "      <td>0</td>\n",
       "      <td>['cpe:2.3:a:paloaltonetworks:globalprotect:6.1...</td>\n",
       "      <td>['defense-evasion']</td>\n",
       "      <td>T1070</td>\n",
       "      <td>0.715306</td>\n",
       "    </tr>\n",
       "    <tr>\n",
       "      <th>8</th>\n",
       "      <td>CVE-2023-0007</td>\n",
       "      <td>A cross-site scripting (XSS) vulnerability in ...</td>\n",
       "      <td>psirt@paloaltonetworks.com</td>\n",
       "      <td>2023-05-10T17:15Z</td>\n",
       "      <td>3.1</td>\n",
       "      <td>CVSS:3.1/AV:N/AC:L/PR:H/UI:R/S:C/C:L/I:L/A:N</td>\n",
       "      <td>4.8</td>\n",
       "      <td>2.7</td>\n",
       "      <td>1.7</td>\n",
       "      <td>0</td>\n",
       "      <td>[]</td>\n",
       "      <td>['collection']</td>\n",
       "      <td>T1185</td>\n",
       "      <td>0.075816</td>\n",
       "    </tr>\n",
       "    <tr>\n",
       "      <th>9</th>\n",
       "      <td>CVE-2023-0008</td>\n",
       "      <td>A file disclosure vulnerability in Palo Alto N...</td>\n",
       "      <td>psirt@paloaltonetworks.com</td>\n",
       "      <td>2023-05-10T17:15Z</td>\n",
       "      <td>3.1</td>\n",
       "      <td>CVSS:3.1/AV:N/AC:H/PR:H/UI:N/S:U/C:H/I:N/A:N</td>\n",
       "      <td>4.4</td>\n",
       "      <td>3.6</td>\n",
       "      <td>0.7</td>\n",
       "      <td>0</td>\n",
       "      <td>['cpe:2.3:o:paloaltonetworks:pan-os:*:*:*:*:*:...</td>\n",
       "      <td>['collection']</td>\n",
       "      <td>T1005</td>\n",
       "      <td>0.135041</td>\n",
       "    </tr>\n",
       "  </tbody>\n",
       "</table>\n",
       "</div>"
      ],
      "text/plain": [
       "          cve_id                                        description  \\\n",
       "0  CVE-2023-0001  An information exposure vulnerability in the P...   \n",
       "1  CVE-2023-0002  A problem with a protection mechanism in the P...   \n",
       "2  CVE-2023-0003  A file disclosure vulnerability in the Palo Al...   \n",
       "3  CVE-2023-0003  A file disclosure vulnerability in the Palo Al...   \n",
       "4  CVE-2023-0003  A file disclosure vulnerability in the Palo Al...   \n",
       "5  CVE-2023-0004  A local file deletion vulnerability in Palo Al...   \n",
       "6  CVE-2023-0005  A vulnerability in Palo Alto Networks PAN-OS s...   \n",
       "7  CVE-2023-0006  A local file deletion vulnerability in the Pal...   \n",
       "8  CVE-2023-0007  A cross-site scripting (XSS) vulnerability in ...   \n",
       "9  CVE-2023-0008  A file disclosure vulnerability in Palo Alto N...   \n",
       "\n",
       "                    publisher     published_date cvss_version  \\\n",
       "0  psirt@paloaltonetworks.com  2023-02-08T18:15Z          3.1   \n",
       "1  psirt@paloaltonetworks.com  2023-02-08T18:15Z          3.1   \n",
       "2  psirt@paloaltonetworks.com  2023-02-08T18:15Z          3.1   \n",
       "3  psirt@paloaltonetworks.com  2023-02-08T18:15Z          3.1   \n",
       "4  psirt@paloaltonetworks.com  2023-02-08T18:15Z          3.1   \n",
       "5  psirt@paloaltonetworks.com  2023-04-12T17:15Z          3.1   \n",
       "6  psirt@paloaltonetworks.com  2023-04-12T17:15Z          3.1   \n",
       "7  psirt@paloaltonetworks.com  2023-04-12T17:15Z          3.1   \n",
       "8  psirt@paloaltonetworks.com  2023-05-10T17:15Z          3.1   \n",
       "9  psirt@paloaltonetworks.com  2023-05-10T17:15Z          3.1   \n",
       "\n",
       "                                    cvss_vector  cvss_score  impact_score  \\\n",
       "0  CVSS:3.1/AV:L/AC:L/PR:H/UI:N/S:U/C:H/I:H/A:H         6.7           5.9   \n",
       "1  CVSS:3.1/AV:L/AC:L/PR:L/UI:N/S:U/C:H/I:H/A:H         7.8           5.9   \n",
       "2  CVSS:3.1/AV:N/AC:L/PR:L/UI:N/S:U/C:H/I:N/A:N         6.5           3.6   \n",
       "3  CVSS:3.1/AV:N/AC:L/PR:L/UI:N/S:U/C:H/I:N/A:N         6.5           3.6   \n",
       "4  CVSS:3.1/AV:N/AC:L/PR:L/UI:N/S:U/C:H/I:N/A:N         6.5           3.6   \n",
       "5  CVSS:3.1/AV:N/AC:L/PR:H/UI:N/S:U/C:N/I:H/A:H         6.5           5.2   \n",
       "6  CVSS:3.1/AV:N/AC:L/PR:H/UI:N/S:U/C:H/I:N/A:N         4.9           3.6   \n",
       "7  CVSS:3.1/AV:L/AC:H/PR:L/UI:N/S:U/C:N/I:H/A:H         6.3           5.2   \n",
       "8  CVSS:3.1/AV:N/AC:L/PR:H/UI:R/S:C/C:L/I:L/A:N         4.8           2.7   \n",
       "9  CVSS:3.1/AV:N/AC:H/PR:H/UI:N/S:U/C:H/I:N/A:N         4.4           3.6   \n",
       "\n",
       "  exploitability_score epss_score  \\\n",
       "0                  0.8          0   \n",
       "1                  1.8          0   \n",
       "2                  2.8          0   \n",
       "3                  2.8          0   \n",
       "4                  2.8          0   \n",
       "5                  1.2          0   \n",
       "6                  1.2          0   \n",
       "7                  1.0          0   \n",
       "8                  1.7          0   \n",
       "9                  0.7          0   \n",
       "\n",
       "                                         cpe_strings            attack_tactic  \\\n",
       "0                                                 []      ['defense-evasion']   \n",
       "1                                                 []      ['defense-evasion']   \n",
       "2  ['cpe:2.3:a:paloaltonetworks:cortex_xsoar:6.8....            ['discovery']   \n",
       "3  ['cpe:2.3:a:paloaltonetworks:cortex_xsoar:6.8....  ['command-and-control']   \n",
       "4  ['cpe:2.3:a:paloaltonetworks:cortex_xsoar:6.8....           ['collection']   \n",
       "5  ['cpe:2.3:o:paloaltonetworks:pan-os:*:*:*:*:*:...      ['defense-evasion']   \n",
       "6  ['cpe:2.3:o:paloaltonetworks:pan-os:*:*:*:*:*:...    ['credential-access']   \n",
       "7  ['cpe:2.3:a:paloaltonetworks:globalprotect:6.1...      ['defense-evasion']   \n",
       "8                                                 []           ['collection']   \n",
       "9  ['cpe:2.3:o:paloaltonetworks:pan-os:*:*:*:*:*:...           ['collection']   \n",
       "\n",
       "  attack_technique  confidence  \n",
       "0            T1112    0.075567  \n",
       "1            T1070    0.111238  \n",
       "2            T1083    0.190795  \n",
       "3            T1105    0.173198  \n",
       "4            T1005    0.166163  \n",
       "5            T1070    0.652210  \n",
       "6            T1552    0.328307  \n",
       "7            T1070    0.715306  \n",
       "8            T1185    0.075816  \n",
       "9            T1005    0.135041  "
      ]
     },
     "execution_count": 6,
     "metadata": {},
     "output_type": "execute_result"
    }
   ],
   "source": [
    "# Step 2: Define the dataset identifier\n",
    "dataset_identifier = 'synkorsink/cve-attack-ttp'  # Replace with your dataset identifier\n",
    "\n",
    "# Step 3: Create a directory to store the dataset\n",
    "os.makedirs('kaggle_dataset', exist_ok=True)\n",
    "\n",
    "# Step 4: Download the dataset\n",
    "!kaggle datasets download -d {dataset_identifier} -p kaggle_dataset --force\n",
    "\n",
    "# Step 5: List all downloaded files\n",
    "downloaded_files = os.listdir('kaggle_dataset')\n",
    "\n",
    "# Step 6: Extract all zip files in the directory\n",
    "for file_name in downloaded_files:\n",
    "    if file_name.endswith('.zip'):\n",
    "        with zipfile.ZipFile(os.path.join('kaggle_dataset', file_name), 'r') as zip_ref:\n",
    "            zip_ref.extractall('kaggle_dataset')\n",
    "\n",
    "attack_df = pd.read_csv('kaggle_dataset/cve_attack_mapping.csv')\n",
    "# Save the DataFrame to a CSV file\n",
    "attack_df.to_csv('cve_attack_mapping.csv', index=False)\n",
    "\n",
    "attack_df.head(10)"
   ]
  },
  {
   "cell_type": "markdown",
   "id": "939e6f08-e43f-4c93-8135-012057ea38ba",
   "metadata": {},
   "source": [
    "## A.2 Filter out techniques with confidence below 0.175"
   ]
  },
  {
   "cell_type": "code",
   "execution_count": 40,
   "id": "cf5302be-ef64-4592-acef-2d2c902a1ced",
   "metadata": {},
   "outputs": [
    {
     "name": "stdout",
     "output_type": "stream",
     "text": [
      "265971\n",
      "413646\n",
      "160456\n"
     ]
    }
   ],
   "source": [
    "print(len(attack_df['cve_id'].unique()))\n",
    "print(len(attack_df))\n",
    "attack_df = attack_df[attack_df['confidence'] >= 0.175]\n",
    "print(len(attack_df['cve_id'].unique()))"
   ]
  },
  {
   "cell_type": "markdown",
   "id": "40600812",
   "metadata": {},
   "source": [
    "## A.2 Check CVE rejected reasons"
   ]
  },
  {
   "cell_type": "code",
   "execution_count": 42,
   "id": "9c4d461a-f773-4a27-a674-798600a01200",
   "metadata": {},
   "outputs": [
    {
     "name": "stdout",
     "output_type": "stream",
     "text": [
      "1167\n",
      "262062\n",
      "159301\n"
     ]
    }
   ],
   "source": [
    "# Filter descriptions starting with 'Rejected'\n",
    "rejected_df = attack_df[attack_df['description'].str.startswith('Rejected')]\n",
    "\n",
    "# Sort the filtered DataFrame in descending order based on description\n",
    "rejected_df = rejected_df.sort_values(by='description', ascending=False)\n",
    "rejected_df['reason'] = rejected_df['description'].str.replace('Rejected:', '').str.strip()\n",
    "\n",
    "# Group by the reasons and count occurrences\n",
    "reason_counts = rejected_df['reason'].value_counts().nlargest(10)\n",
    "\n",
    "print(len(rejected_df))\n",
    "\n",
    "# Remove descriptions starting with 'Rejected' from attack_df\n",
    "attack_df = attack_df[~attack_df['description'].str.startswith('Rejected')]\n",
    "\n",
    "# Sort the remaining DataFrame in descending order based on some column (optional)\n",
    "# For example, you could sort by 'description' or any other column you need:\n",
    "attack_df = attack_df.sort_values(by='description', ascending=False)\n",
    "\n",
    "print(len(attack_df))\n",
    "print(len(attack_df['cve_id'].unique()))\n"
   ]
  },
  {
   "cell_type": "markdown",
   "id": "e379381d-0558-4413-b813-333876d93c02",
   "metadata": {},
   "source": [
    "## A3. Show descriptive statistics for columns"
   ]
  },
  {
   "cell_type": "code",
   "execution_count": 44,
   "id": "09e8e382",
   "metadata": {},
   "outputs": [
    {
     "data": {
      "text/html": [
       "<div>\n",
       "<style scoped>\n",
       "    .dataframe tbody tr th:only-of-type {\n",
       "        vertical-align: middle;\n",
       "    }\n",
       "\n",
       "    .dataframe tbody tr th {\n",
       "        vertical-align: top;\n",
       "    }\n",
       "\n",
       "    .dataframe thead th {\n",
       "        text-align: right;\n",
       "    }\n",
       "</style>\n",
       "<table border=\"1\" class=\"dataframe\">\n",
       "  <thead>\n",
       "    <tr style=\"text-align: right;\">\n",
       "      <th></th>\n",
       "      <th>cvss_version</th>\n",
       "      <th>cvss_score</th>\n",
       "      <th>impact_score</th>\n",
       "      <th>exploitability_score</th>\n",
       "      <th>epss_score</th>\n",
       "      <th>confidence</th>\n",
       "    </tr>\n",
       "  </thead>\n",
       "  <tbody>\n",
       "    <tr>\n",
       "      <th>count</th>\n",
       "      <td>262062</td>\n",
       "      <td>243854</td>\n",
       "      <td>243854</td>\n",
       "      <td>243854</td>\n",
       "      <td>262062</td>\n",
       "      <td>262062</td>\n",
       "    </tr>\n",
       "    <tr>\n",
       "      <th>mean</th>\n",
       "      <td>2.67229</td>\n",
       "      <td>7.01007</td>\n",
       "      <td>5.05686</td>\n",
       "      <td>4.45354</td>\n",
       "      <td>0</td>\n",
       "      <td>0.297786</td>\n",
       "    </tr>\n",
       "    <tr>\n",
       "      <th>std</th>\n",
       "      <td>0.5215</td>\n",
       "      <td>1.77711</td>\n",
       "      <td>2.04343</td>\n",
       "      <td>3.05259</td>\n",
       "      <td>0</td>\n",
       "      <td>0.118369</td>\n",
       "    </tr>\n",
       "    <tr>\n",
       "      <th>min</th>\n",
       "      <td>2</td>\n",
       "      <td>0</td>\n",
       "      <td>0</td>\n",
       "      <td>0.1</td>\n",
       "      <td>0</td>\n",
       "      <td>0.175001</td>\n",
       "    </tr>\n",
       "    <tr>\n",
       "      <th>25%</th>\n",
       "      <td>2</td>\n",
       "      <td>5.5</td>\n",
       "      <td>3.6</td>\n",
       "      <td>2.1</td>\n",
       "      <td>0</td>\n",
       "      <td>0.208775</td>\n",
       "    </tr>\n",
       "    <tr>\n",
       "      <th>50%</th>\n",
       "      <td>3</td>\n",
       "      <td>7.5</td>\n",
       "      <td>5.9</td>\n",
       "      <td>3.9</td>\n",
       "      <td>0</td>\n",
       "      <td>0.267598</td>\n",
       "    </tr>\n",
       "    <tr>\n",
       "      <th>75%</th>\n",
       "      <td>3.1</td>\n",
       "      <td>7.8</td>\n",
       "      <td>5.9</td>\n",
       "      <td>6.8</td>\n",
       "      <td>0</td>\n",
       "      <td>0.34789</td>\n",
       "    </tr>\n",
       "    <tr>\n",
       "      <th>max</th>\n",
       "      <td>3.1</td>\n",
       "      <td>10</td>\n",
       "      <td>10</td>\n",
       "      <td>10</td>\n",
       "      <td>0</td>\n",
       "      <td>0.903186</td>\n",
       "    </tr>\n",
       "  </tbody>\n",
       "</table>\n",
       "</div>"
      ],
      "text/plain": [
       "      cvss_version cvss_score impact_score exploitability_score epss_score  \\\n",
       "count       262062     243854       243854               243854     262062   \n",
       "mean       2.67229    7.01007      5.05686              4.45354          0   \n",
       "std         0.5215    1.77711      2.04343              3.05259          0   \n",
       "min              2          0            0                  0.1          0   \n",
       "25%              2        5.5          3.6                  2.1          0   \n",
       "50%              3        7.5          5.9                  3.9          0   \n",
       "75%            3.1        7.8          5.9                  6.8          0   \n",
       "max            3.1         10           10                   10          0   \n",
       "\n",
       "      confidence  \n",
       "count     262062  \n",
       "mean    0.297786  \n",
       "std     0.118369  \n",
       "min     0.175001  \n",
       "25%     0.208775  \n",
       "50%     0.267598  \n",
       "75%      0.34789  \n",
       "max     0.903186  "
      ]
     },
     "execution_count": 44,
     "metadata": {},
     "output_type": "execute_result"
    }
   ],
   "source": [
    "attack_df.describe().apply(lambda s: s.apply(lambda x: format(x, 'g')))"
   ]
  },
  {
   "cell_type": "markdown",
   "id": "0f3a4fa1-ba87-4589-a3c6-6ea258f73679",
   "metadata": {},
   "source": [
    "## A.4 Show CVEs by year"
   ]
  },
  {
   "cell_type": "code",
   "execution_count": 46,
   "id": "650327b7",
   "metadata": {},
   "outputs": [
    {
     "data": {
      "image/png": "[encoded data removed]",
      "text/plain": [
       "<Figure size 2000x500 with 1 Axes>"
      ]
     },
     "metadata": {},
     "output_type": "display_data"
    }
   ],
   "source": [
    "# Extract year from CVE ID\n",
    "a4_df = attack_df\n",
    "\n",
    "# Extract the year from the CVE identifier\n",
    "a4_df['year'] = a4_df['cve_id'].str.split('-').str[1]\n",
    "\n",
    "# Convert to integer if necessary\n",
    "a4_df['year'] = a4_df['year'].astype(int)\n",
    "\n",
    "# Remove specified columns\n",
    "a4_df = a4_df.drop(columns=['attack_technique', 'confidence', 'attack_mitigation', 'defend_tactic', 'defend_technique'])\n",
    "\n",
    "# Remove duplicate entries based on CVE ID, keeping the first occurrence\n",
    "a4_df = a4_df.drop_duplicates(subset=['cve_id'])\n",
    "\n",
    "years = list(range(a4_df['year'].min(), a4_df['year'].max() + 1))\n",
    "cves_per_year = a4_df['year'].value_counts().reindex(years, fill_value=0).sort_index()\n",
    "plt.figure(figsize=(20, 5))\n",
    "sns.lineplot(x=cves_per_year.index, y=cves_per_year.values, marker='o')\n",
    "plt.title('CVEs per Year')\n",
    "plt.xlabel('Year')\n",
    "plt.ylabel('Number of CVEs')\n",
    "plt.xticks(cves_per_year.index)\n",
    "plt.show()"
   ]
  },
  {
   "cell_type": "markdown",
   "id": "1LN9uBFXeTE6",
   "metadata": {
    "id": "1LN9uBFXeTE6"
   },
   "source": [
    "## F.1 Findings\n"
   ]
  },
  {
   "cell_type": "markdown",
   "id": "8f29dcd4",
   "metadata": {},
   "source": [
    "### A.3.1 ATT&CK tactics found in CVE and their kill chain phases"
   ]
  },
  {
   "cell_type": "code",
   "execution_count": 49,
   "id": "5e5d0d15",
   "metadata": {
    "colab": {
     "base_uri": "https://localhost:8080/",
     "height": 823
    },
    "id": "5e5d0d15",
    "outputId": "6f3c730f-05e6-44f1-be42-f0e54a4290fb"
   },
   "outputs": [
    {
     "name": "stdout",
     "output_type": "stream",
     "text": [
      "The total percentage is 100.00% and sums up correctly to 100%.\n",
      "\\newcommand{\\ReconPct}{0.11\\%}\n",
      "\\newcommand{\\ResourcePct}{1.19\\%}\n",
      "\\newcommand{\\InitialPct}{7.63\\%}\n",
      "\\newcommand{\\ExecutionPct}{19.61\\%}\n",
      "\\newcommand{\\PersistencePct}{6.96\\%}\n",
      "\\newcommand{\\PrivilegePct}{9.99\\%}\n",
      "\\newcommand{\\DefensePct}{20.13\\%}\n",
      "\\newcommand{\\CredentialPct}{4.54\\%}\n",
      "\\newcommand{\\DiscoveryPct}{5.96\\%}\n",
      "\\newcommand{\\LateralPct}{2.90\\%}\n",
      "\\newcommand{\\CollectionPct}{3.03\\%}\n",
      "\\newcommand{\\CommandPct}{4.89\\%}\n",
      "\\newcommand{\\ExfiltrationPct}{0.07\\%}\n",
      "\\newcommand{\\ImpactPct}{12.99\\%}\n"
     ]
    }
   ],
   "source": [
    "# Step 1: Ensure attack_tactic column contains valid lists\n",
    "attack_df['attack_tactic'] = attack_df['attack_tactic'].apply(lambda x: ast.literal_eval(x) if isinstance(x, str) else x)\n",
    "\n",
    "# Step 2: Drop rows with NaN in attack_tactic\n",
    "a31_df = attack_df.dropna(subset=['attack_tactic'])\n",
    "\n",
    "\n",
    "# Step 3: Explode the list of attack_tactic into separate rows\n",
    "a31_df = a31_df.explode('attack_tactic')\n",
    "\n",
    "a31_df = a31_df.drop_duplicates(subset=['cve_id', 'attack_tactic'])\n",
    "\n",
    "# Step 4: Create the mapping between dataset format and the ATT&CK kill chain\n",
    "tactic_mapping = {\n",
    "    'reconnaissance': 'Reconnaissance',\n",
    "    'resource-development': 'Resource Development',\n",
    "    'initial-access': 'Initial Access',\n",
    "    'execution': 'Execution',\n",
    "    'persistence': 'Persistence',\n",
    "    'privilege-escalation': 'Privilege Escalation',\n",
    "    'defense-evasion': 'Defense Evasion',\n",
    "    'credential-access': 'Credential Access',\n",
    "    'discovery': 'Discovery',\n",
    "    'lateral-movement': 'Lateral Movement',\n",
    "    'collection': 'Collection',\n",
    "    'command-and-control': 'Command and Control',\n",
    "    'exfiltration': 'Exfiltration',\n",
    "    'impact': 'Impact'\n",
    "}\n",
    "\n",
    "# Step 5: Translate the attack_tactic values using the mapping\n",
    "a31_df['attack_tactic_translated'] = a31_df['attack_tactic'].map(tactic_mapping)\n",
    "\n",
    "# Step 6: Define the kill chain phases in the correct order\n",
    "kill_chain_phases = [\n",
    "    'Reconnaissance', 'Resource Development', 'Initial Access', 'Execution',\n",
    "    'Persistence', 'Privilege Escalation', 'Defense Evasion', 'Credential Access',\n",
    "    'Discovery', 'Lateral Movement', 'Collection', 'Command and Control',\n",
    "    'Exfiltration', 'Impact'\n",
    "]\n",
    "\n",
    "# Step 7: Count the occurrences of each translated tactic\n",
    "tactic_counts_translated = a31_df['attack_tactic_translated'].value_counts().reindex(kill_chain_phases).fillna(0)\n",
    "\n",
    "# Step 8: Calculate relative values (percentages)\n",
    "total_tactics = tactic_counts_translated.sum()\n",
    "tactic_relative_values = (tactic_counts_translated / total_tactics) * 100\n",
    "\n",
    "# Check if the total of the relative values equals 100%\n",
    "total_percentage = tactic_relative_values.sum()\n",
    "if not np.isclose(total_percentage, 100.0, atol=0.01):\n",
    "    print(f\"Warning: The total percentage is {total_percentage:.2f}% instead of 100.00%\")\n",
    "else:\n",
    "    print(f\"The total percentage is {total_percentage:.2f}% and sums up correctly to 100%.\")\n",
    "\n",
    "# Print the LaTeX commands with the calculated percentages\n",
    "latex_command_template = \"\\\\newcommand{{\\\\{name}Pct}}{{{value:.2f}\\\\%}}\"\n",
    "\n",
    "phase_to_command_name = {\n",
    "    'Reconnaissance': 'Recon',\n",
    "    'Resource Development': 'Resource',\n",
    "    'Initial Access': 'Initial',\n",
    "    'Execution': 'Execution',\n",
    "    'Persistence': 'Persistence',\n",
    "    'Privilege Escalation': 'Privilege',\n",
    "    'Defense Evasion': 'Defense',\n",
    "    'Credential Access': 'Credential',\n",
    "    'Discovery': 'Discovery',\n",
    "    'Lateral Movement': 'Lateral',\n",
    "    'Collection': 'Collection',\n",
    "    'Command and Control': 'Command',\n",
    "    'Exfiltration': 'Exfiltration',\n",
    "    'Impact': 'Impact'\n",
    "}\n",
    "\n",
    "for phase, value in tactic_relative_values.items():\n",
    "    latex_command = latex_command_template.format(name=phase_to_command_name[phase], value=value)\n",
    "    print(latex_command)\n"
   ]
  },
  {
   "cell_type": "markdown",
   "id": "a20f738d",
   "metadata": {},
   "source": [
    "### A.3.1 ATT&CK techniques found in CVEs"
   ]
  },
  {
   "cell_type": "code",
   "execution_count": null,
   "id": "479bdb16-6d16-4dad-aa66-a24ddbe09c1e",
   "metadata": {},
   "outputs": [],
   "source": []
  },
  {
   "cell_type": "markdown",
   "id": "_bq2qmKReTE7",
   "metadata": {
    "id": "_bq2qmKReTE7"
   },
   "source": [
    "### A.3.3 ATT&CK technique distribution within CVEs over the years"
   ]
  },
  {
   "cell_type": "code",
   "execution_count": 53,
   "id": "e9ff4784",
   "metadata": {},
   "outputs": [
    {
     "data": {
      "application/vnd.plotly.v1+json": {
       "config": {
        "plotlyServerURL": "https://plot.ly"
       },
       "data": [
        {
         "fillpattern": {
          "shape": ""
         },
         "hovertemplate": "=Collection<br>Year=%{x}<br>Relative frequency (%)=%{y}<extra></extra>",
         "legendgroup": "Collection",
         "line": {
          "color": "#c5b0d5"
         },
         "marker": {
          "symbol": "circle"
         },
         "mode": "lines",
         "name": "Collection",
         "orientation": "v",
         "showlegend": true,
         "stackgroup": "1",
         "type": "scatter",
         "x": [
          1988,
          1989,
          1990,
          1991,
          1992,
          1993,
          1994,
          1995,
          1996,
          1997,
          1998,
          1999,
          2000,
          2001,
          2002,
          2003,
          2004,
          2005,
          2006,
          2007,
          2008,
          2009,
          2010,
          2011,
          2012,
          2013,
          2014,
          2015,
          2016,
          2017,
          2018,
          2019,
          2020,
          2021,
          2022,
          2023,
          2024
         ],
         "xaxis": "x",
         "y": [
          0,
          0,
          0.05,
          0,
          0,
          0.041666666666666664,
          0,
          0.0625,
          0.008064516129032258,
          0.01092896174863388,
          0.01876675603217158,
          0.02585487906588824,
          0.015615962984384037,
          0.021785714285714287,
          0.02373685995252628,
          0.02330004755111745,
          0.021225607668606643,
          0.024166099387338325,
          0.024136922176711526,
          0.027228070175438598,
          0.017215112736136504,
          0.020167098818784212,
          0.025,
          0.020424042015172145,
          0.021739130434782608,
          0.023591494645351544,
          0.015177678814868673,
          0.020134228187919462,
          0.01995697896749522,
          0.03880681818181818,
          0.03128237000207168,
          0.03411381609551869,
          0.02765785213167836,
          0.03264947712940049,
          0.022703384486020602,
          0.027830356086596474,
          0.029461756373937678
         ],
         "yaxis": "y"
        },
        {
         "fillpattern": {
          "shape": ""
         },
         "hovertemplate": "=Command and Control<br>Year=%{x}<br>Relative frequency (%)=%{y}<extra></extra>",
         "legendgroup": "Command and Control",
         "line": {
          "color": "#f7b6d2"
         },
         "marker": {
          "symbol": "circle"
         },
         "mode": "lines",
         "name": "Command and Control",
         "orientation": "v",
         "showlegend": true,
         "stackgroup": "1",
         "type": "scatter",
         "x": [
          1988,
          1989,
          1990,
          1991,
          1992,
          1993,
          1994,
          1995,
          1996,
          1997,
          1998,
          1999,
          2000,
          2001,
          2002,
          2003,
          2004,
          2005,
          2006,
          2007,
          2008,
          2009,
          2010,
          2011,
          2012,
          2013,
          2014,
          2015,
          2016,
          2017,
          2018,
          2019,
          2020,
          2021,
          2022,
          2023,
          2024
         ],
         "xaxis": "x",
         "y": [
          0,
          0,
          0,
          0.038461538461538464,
          0.041666666666666664,
          0,
          0,
          0.03125,
          0.008064516129032258,
          0.03278688524590164,
          0.040214477211796246,
          0.04837364470391994,
          0.04164256795835743,
          0.06,
          0.05866395388267209,
          0.042796005706134094,
          0.05340636768230058,
          0.05292716133424098,
          0.04900526623756583,
          0.062456140350877196,
          0.043266301035953685,
          0.048977239988475946,
          0.03792517006802721,
          0.04493289243337872,
          0.044082125603864736,
          0.04656216048424647,
          0.0435335817504317,
          0.051608423975931496,
          0.04947418738049713,
          0.04193181818181818,
          0.044800082867205306,
          0.045898588928516046,
          0.04726569526893326,
          0.045860940368803386,
          0.04561698549505991,
          0.042558854844433926,
          0.03584857069276333
         ],
         "yaxis": "y"
        },
        {
         "fillpattern": {
          "shape": ""
         },
         "hovertemplate": "=Credential Access<br>Year=%{x}<br>Relative frequency (%)=%{y}<extra></extra>",
         "legendgroup": "Credential Access",
         "line": {
          "color": "#17becf"
         },
         "marker": {
          "symbol": "circle"
         },
         "mode": "lines",
         "name": "Credential Access",
         "orientation": "v",
         "showlegend": true,
         "stackgroup": "1",
         "type": "scatter",
         "x": [
          1988,
          1989,
          1990,
          1991,
          1992,
          1993,
          1994,
          1995,
          1996,
          1997,
          1998,
          1999,
          2000,
          2001,
          2002,
          2003,
          2004,
          2005,
          2006,
          2007,
          2008,
          2009,
          2010,
          2011,
          2012,
          2013,
          2014,
          2015,
          2016,
          2017,
          2018,
          2019,
          2020,
          2021,
          2022,
          2023,
          2024
         ],
         "xaxis": "x",
         "y": [
          0,
          0,
          0,
          0.07692307692307693,
          0,
          0,
          0,
          0,
          0.016129032258064516,
          0.03825136612021858,
          0.05630026809651475,
          0.06839032527105922,
          0.05436668594563331,
          0.06321428571428571,
          0.07494065785011868,
          0.06371849738468854,
          0.0671003081136597,
          0.04952348536419333,
          0.054271503803393795,
          0.05473684210526316,
          0.04722730042656916,
          0.07476231633535005,
          0.047448979591836735,
          0.047850612721260455,
          0.06385869565217392,
          0.06813596150861399,
          0.060074525129510135,
          0.07104836843323305,
          0.046367112810707455,
          0.051022727272727275,
          0.04982390718873006,
          0.056752984958908355,
          0.05131318582478863,
          0.044743354354594075,
          0.04127251068600659,
          0.03915769549272448,
          0.030466134432140097
         ],
         "yaxis": "y"
        },
        {
         "fillpattern": {
          "shape": ""
         },
         "hovertemplate": "=Defense Evasion<br>Year=%{x}<br>Relative frequency (%)=%{y}<extra></extra>",
         "legendgroup": "Defense Evasion",
         "line": {
          "color": "#e377c2"
         },
         "marker": {
          "symbol": "circle"
         },
         "mode": "lines",
         "name": "Defense Evasion",
         "orientation": "v",
         "showlegend": true,
         "stackgroup": "1",
         "type": "scatter",
         "x": [
          1988,
          1989,
          1990,
          1991,
          1992,
          1993,
          1994,
          1995,
          1996,
          1997,
          1998,
          1999,
          2000,
          2001,
          2002,
          2003,
          2004,
          2005,
          2006,
          2007,
          2008,
          2009,
          2010,
          2011,
          2012,
          2013,
          2014,
          2015,
          2016,
          2017,
          2018,
          2019,
          2020,
          2021,
          2022,
          2023,
          2024
         ],
         "xaxis": "x",
         "y": [
          0.4,
          0.3333333333333333,
          0.3,
          0.34615384615384615,
          0.375,
          0.3333333333333333,
          0.391304347826087,
          0.375,
          0.3870967741935484,
          0.3005464480874317,
          0.2520107238605898,
          0.21851542952460384,
          0.17987275882012724,
          0.18642857142857142,
          0.19735503560528994,
          0.2211126961483595,
          0.2078055460458747,
          0.19962559564329477,
          0.17451726155646577,
          0.1967719298245614,
          0.19378427787934185,
          0.18899452607317777,
          0.19268707482993197,
          0.17545224664462167,
          0.19082125603864733,
          0.1761601738320658,
          0.25411251476869945,
          0.17565378384633187,
          0.1701720841300191,
          0.18670454545454546,
          0.20499274911953594,
          0.19837700935545563,
          0.21082928584277746,
          0.20715255049093956,
          0.20002102165230187,
          0.19744469419141134,
          0.1828483131599279
         ],
         "yaxis": "y"
        },
        {
         "fillpattern": {
          "shape": ""
         },
         "hovertemplate": "=Discovery<br>Year=%{x}<br>Relative frequency (%)=%{y}<extra></extra>",
         "legendgroup": "Discovery",
         "line": {
          "color": "#bcbd22"
         },
         "marker": {
          "symbol": "circle"
         },
         "mode": "lines",
         "name": "Discovery",
         "orientation": "v",
         "showlegend": true,
         "stackgroup": "1",
         "type": "scatter",
         "x": [
          1988,
          1989,
          1990,
          1991,
          1992,
          1993,
          1994,
          1995,
          1996,
          1997,
          1998,
          1999,
          2000,
          2001,
          2002,
          2003,
          2004,
          2005,
          2006,
          2007,
          2008,
          2009,
          2010,
          2011,
          2012,
          2013,
          2014,
          2015,
          2016,
          2017,
          2018,
          2019,
          2020,
          2021,
          2022,
          2023,
          2024
         ],
         "xaxis": "x",
         "y": [
          0,
          0,
          0.1,
          0.07692307692307693,
          0,
          0.041666666666666664,
          0.021739130434782608,
          0,
          0.07258064516129033,
          0.10109289617486339,
          0.06702412868632708,
          0.10592160133444536,
          0.09427414690572586,
          0.1025,
          0.10139030179721939,
          0.0932001902044698,
          0.08250599109893872,
          0.08253914227365555,
          0.08484493856056173,
          0.07185964912280701,
          0.05941499085923217,
          0.06813598386632094,
          0.0707482993197279,
          0.053686053297023924,
          0.05661231884057971,
          0.05835790780692224,
          0.05662092156684541,
          0.05299699143716732,
          0.058197896749521985,
          0.059147727272727275,
          0.0518437953180029,
          0.05577092055615858,
          0.05504587155963303,
          0.05232697373672866,
          0.05024174900147151,
          0.044954454039985804,
          0.04048416173062065
         ],
         "yaxis": "y"
        },
        {
         "fillpattern": {
          "shape": ""
         },
         "hovertemplate": "=Execution<br>Year=%{x}<br>Relative frequency (%)=%{y}<extra></extra>",
         "legendgroup": "Execution",
         "line": {
          "color": "#d62728"
         },
         "marker": {
          "symbol": "circle"
         },
         "mode": "lines",
         "name": "Execution",
         "orientation": "v",
         "showlegend": true,
         "stackgroup": "1",
         "type": "scatter",
         "x": [
          1988,
          1989,
          1990,
          1991,
          1992,
          1993,
          1994,
          1995,
          1996,
          1997,
          1998,
          1999,
          2000,
          2001,
          2002,
          2003,
          2004,
          2005,
          2006,
          2007,
          2008,
          2009,
          2010,
          2011,
          2012,
          2013,
          2014,
          2015,
          2016,
          2017,
          2018,
          2019,
          2020,
          2021,
          2022,
          2023,
          2024
         ],
         "xaxis": "x",
         "y": [
          0.2,
          0.16666666666666666,
          0.05,
          0,
          0.125,
          0,
          0.021739130434782608,
          0.125,
          0.056451612903225805,
          0.07377049180327869,
          0.08847184986595175,
          0.09924937447873228,
          0.12608444187391557,
          0.10392857142857143,
          0.09087826381824347,
          0.06894912030432715,
          0.08182129407737077,
          0.15197413206262764,
          0.18124634289057928,
          0.14119298245614034,
          0.21084704448507008,
          0.1755978104292711,
          0.1477891156462585,
          0.1408286325617584,
          0.10356280193236715,
          0.11376687878317554,
          0.0870671635008634,
          0.14012959962971536,
          0.1349187380497132,
          0.12664772727272727,
          0.18660658794282162,
          0.18473148291724814,
          0.179483720093542,
          0.1707910912429153,
          0.19697288206853059,
          0.22243582160179817,
          0.30182848313159927
         ],
         "yaxis": "y"
        },
        {
         "fillpattern": {
          "shape": ""
         },
         "hovertemplate": "=Exfiltration<br>Year=%{x}<br>Relative frequency (%)=%{y}<extra></extra>",
         "legendgroup": "Exfiltration",
         "line": {
          "color": "#98df8a"
         },
         "marker": {
          "symbol": "circle"
         },
         "mode": "lines",
         "name": "Exfiltration",
         "orientation": "v",
         "showlegend": true,
         "stackgroup": "1",
         "type": "scatter",
         "x": [
          1988,
          1989,
          1990,
          1991,
          1992,
          1993,
          1994,
          1995,
          1996,
          1997,
          1998,
          1999,
          2000,
          2001,
          2002,
          2003,
          2004,
          2005,
          2006,
          2007,
          2008,
          2009,
          2010,
          2011,
          2012,
          2013,
          2014,
          2015,
          2016,
          2017,
          2018,
          2019,
          2020,
          2021,
          2022,
          2023,
          2024
         ],
         "xaxis": "x",
         "y": [
          0,
          0,
          0,
          0,
          0,
          0,
          0,
          0,
          0,
          0.00273224043715847,
          0,
          0,
          0,
          0.0007142857142857143,
          0.00033909799932180403,
          0.0009510223490252021,
          0.0010270455323519343,
          0.0010211027910142954,
          0.001023990637799883,
          0.0016842105263157896,
          0.0006093845216331506,
          0.0002881014116969173,
          0.0008503401360544217,
          0.001167088115152694,
          0.0006038647342995169,
          0.0001552072016141549,
          0.0007270744342452058,
          0.0006942837306179125,
          0.0008365200764818356,
          0.0002840909090909091,
          0.0005179200331468821,
          0.0007753140021708792,
          0.0007195538765965102,
          0.0007982757244352199,
          0.0008058300049050522,
          0.0003549035845262037,
          0.00041205253669842907
         ],
         "yaxis": "y"
        },
        {
         "fillpattern": {
          "shape": ""
         },
         "hovertemplate": "=Impact<br>Year=%{x}<br>Relative frequency (%)=%{y}<extra></extra>",
         "legendgroup": "Impact",
         "line": {
          "color": "#ff9896"
         },
         "marker": {
          "symbol": "circle"
         },
         "mode": "lines",
         "name": "Impact",
         "orientation": "v",
         "showlegend": true,
         "stackgroup": "1",
         "type": "scatter",
         "x": [
          1988,
          1989,
          1990,
          1991,
          1992,
          1993,
          1994,
          1995,
          1996,
          1997,
          1998,
          1999,
          2000,
          2001,
          2002,
          2003,
          2004,
          2005,
          2006,
          2007,
          2008,
          2009,
          2010,
          2011,
          2012,
          2013,
          2014,
          2015,
          2016,
          2017,
          2018,
          2019,
          2020,
          2021,
          2022,
          2023,
          2024
         ],
         "xaxis": "x",
         "y": [
          0,
          0,
          0,
          0,
          0.125,
          0.125,
          0.08695652173913043,
          0.0625,
          0.0967741935483871,
          0.14754098360655737,
          0.2680965147453083,
          0.22935779816513763,
          0.3100057836899942,
          0.2810714285714286,
          0.25669718548660564,
          0.2710413694721826,
          0.2704553235193427,
          0.20302927161334242,
          0.1743709771796372,
          0.20280701754385966,
          0.18799512492382695,
          0.17934312878133102,
          0.225,
          0.3016922777669714,
          0.2798913043478261,
          0.2891510166071706,
          0.18195037716986276,
          0.24866928951631567,
          0.2740200764818356,
          0.23789772727272726,
          0.140200952972861,
          0.10740683310073913,
          0.10163698506925706,
          0.1327133391873553,
          0.12507883119613203,
          0.11126227374896487,
          0.08163790883337625
         ],
         "yaxis": "y"
        },
        {
         "fillpattern": {
          "shape": ""
         },
         "hovertemplate": "=Initial Access<br>Year=%{x}<br>Relative frequency (%)=%{y}<extra></extra>",
         "legendgroup": "Initial Access",
         "line": {
          "color": "#2ca02c"
         },
         "marker": {
          "symbol": "circle"
         },
         "mode": "lines",
         "name": "Initial Access",
         "orientation": "v",
         "showlegend": true,
         "stackgroup": "1",
         "type": "scatter",
         "x": [
          1988,
          1989,
          1990,
          1991,
          1992,
          1993,
          1994,
          1995,
          1996,
          1997,
          1998,
          1999,
          2000,
          2001,
          2002,
          2003,
          2004,
          2005,
          2006,
          2007,
          2008,
          2009,
          2010,
          2011,
          2012,
          2013,
          2014,
          2015,
          2016,
          2017,
          2018,
          2019,
          2020,
          2021,
          2022,
          2023,
          2024
         ],
         "xaxis": "x",
         "y": [
          0,
          0,
          0,
          0,
          0,
          0.041666666666666664,
          0,
          0,
          0.008064516129032258,
          0.00819672131147541,
          0.002680965147453083,
          0.004170141784820684,
          0.006940427993059572,
          0.014285714285714285,
          0.018311291963377416,
          0.024251069900142655,
          0.03731598767545361,
          0.06756296800544588,
          0.08937975424224692,
          0.06582456140350877,
          0.09308348567946374,
          0.0749063670411985,
          0.06241496598639456,
          0.048628671464695586,
          0.051630434782608696,
          0.04795902529877386,
          0.0499863673543579,
          0.05993982874334645,
          0.04565009560229445,
          0.05352272727272727,
          0.054847731510254814,
          0.05783842456194759,
          0.05742939377585897,
          0.07008860860541231,
          0.08100343353654264,
          0.0841417248314208,
          0.08467679629152718
         ],
         "yaxis": "y"
        },
        {
         "fillpattern": {
          "shape": ""
         },
         "hovertemplate": "=Lateral Movement<br>Year=%{x}<br>Relative frequency (%)=%{y}<extra></extra>",
         "legendgroup": "Lateral Movement",
         "line": {
          "color": "#7f7f7f"
         },
         "marker": {
          "symbol": "circle"
         },
         "mode": "lines",
         "name": "Lateral Movement",
         "orientation": "v",
         "showlegend": true,
         "stackgroup": "1",
         "type": "scatter",
         "x": [
          1988,
          1989,
          1990,
          1991,
          1992,
          1993,
          1994,
          1995,
          1996,
          1997,
          1998,
          1999,
          2000,
          2001,
          2002,
          2003,
          2004,
          2005,
          2006,
          2007,
          2008,
          2009,
          2010,
          2011,
          2012,
          2013,
          2014,
          2015,
          2016,
          2017,
          2018,
          2019,
          2020,
          2021,
          2022,
          2023,
          2024
         ],
         "xaxis": "x",
         "y": [
          0,
          0,
          0,
          0,
          0,
          0,
          0,
          0.03125,
          0,
          0.01092896174863388,
          0.005361930294906166,
          0.010842368640533779,
          0.013880855986119144,
          0.013928571428571429,
          0.019667683960664633,
          0.021873514027579647,
          0.02704553235193427,
          0.018890401633764466,
          0.018431831480397894,
          0.02343859649122807,
          0.026203534430225474,
          0.03197925669835782,
          0.015646258503401362,
          0.02664851196265318,
          0.020380434782608696,
          0.02467794505665063,
          0.01990366263746251,
          0.019902800277713493,
          0.017805927342256216,
          0.03363636363636364,
          0.04319453076444997,
          0.047707654933581436,
          0.03512322360136715,
          0.024227668236608924,
          0.019480064466400392,
          0.018277534603099492,
          0.020370847283028588
         ],
         "yaxis": "y"
        },
        {
         "fillpattern": {
          "shape": ""
         },
         "hovertemplate": "=Persistence<br>Year=%{x}<br>Relative frequency (%)=%{y}<extra></extra>",
         "legendgroup": "Persistence",
         "line": {
          "color": "#9467bd"
         },
         "marker": {
          "symbol": "circle"
         },
         "mode": "lines",
         "name": "Persistence",
         "orientation": "v",
         "showlegend": true,
         "stackgroup": "1",
         "type": "scatter",
         "x": [
          1988,
          1989,
          1990,
          1991,
          1992,
          1993,
          1994,
          1995,
          1996,
          1997,
          1998,
          1999,
          2000,
          2001,
          2002,
          2003,
          2004,
          2005,
          2006,
          2007,
          2008,
          2009,
          2010,
          2011,
          2012,
          2013,
          2014,
          2015,
          2016,
          2017,
          2018,
          2019,
          2020,
          2021,
          2022,
          2023,
          2024
         ],
         "xaxis": "x",
         "y": [
          0,
          0,
          0,
          0,
          0.041666666666666664,
          0.08333333333333333,
          0.021739130434782608,
          0.03125,
          0.03225806451612903,
          0.02459016393442623,
          0.032171581769437,
          0.03669724770642202,
          0.03412377096587623,
          0.0325,
          0.04781281790437437,
          0.05325725154541132,
          0.059568640876412185,
          0.06296800544588155,
          0.0836746635459333,
          0.07508771929824562,
          0.05987202925045704,
          0.06698357821953328,
          0.07670068027210884,
          0.04921221552227193,
          0.07185990338164251,
          0.05339127735526929,
          0.049804598745796604,
          0.060981254339273316,
          0.03955544933078394,
          0.05443181818181818,
          0.05562461155997514,
          0.07127720059957617,
          0.06943694909156323,
          0.06861179851520716,
          0.06141826080863289,
          0.058085886667455344,
          0.0737058975019315
         ],
         "yaxis": "y"
        },
        {
         "fillpattern": {
          "shape": ""
         },
         "hovertemplate": "=Privilege Escalation<br>Year=%{x}<br>Relative frequency (%)=%{y}<extra></extra>",
         "legendgroup": "Privilege Escalation",
         "line": {
          "color": "#8c564b"
         },
         "marker": {
          "symbol": "circle"
         },
         "mode": "lines",
         "name": "Privilege Escalation",
         "orientation": "v",
         "showlegend": true,
         "stackgroup": "1",
         "type": "scatter",
         "x": [
          1988,
          1989,
          1990,
          1991,
          1992,
          1993,
          1994,
          1995,
          1996,
          1997,
          1998,
          1999,
          2000,
          2001,
          2002,
          2003,
          2004,
          2005,
          2006,
          2007,
          2008,
          2009,
          2010,
          2011,
          2012,
          2013,
          2014,
          2015,
          2016,
          2017,
          2018,
          2019,
          2020,
          2021,
          2022,
          2023,
          2024
         ],
         "xaxis": "x",
         "y": [
          0.4,
          0.5,
          0.5,
          0.46153846153846156,
          0.2916666666666667,
          0.3333333333333333,
          0.45652173913043476,
          0.28125,
          0.31451612903225806,
          0.23770491803278687,
          0.16621983914209115,
          0.14929107589658047,
          0.11798727588201273,
          0.11678571428571428,
          0.10545947778908105,
          0.11364717070851164,
          0.08490243067442657,
          0.07896528250510551,
          0.061000585137507314,
          0.07157894736842105,
          0.0578915295551493,
          0.06295015845577644,
          0.09438775510204081,
          0.08422485897685275,
          0.0893719806763285,
          0.09033059133943815,
          0.04953194583295465,
          0.09291830594769729,
          0.13826481835564053,
          0.10227272727272728,
          0.1256991920447483,
          0.12896056236108958,
          0.15600827486958085,
          0.1436896303983396,
          0.1489734426459253,
          0.1464864545131906,
          0.11112541849085758
         ],
         "yaxis": "y"
        },
        {
         "fillpattern": {
          "shape": ""
         },
         "hovertemplate": "=Reconnaissance<br>Year=%{x}<br>Relative frequency (%)=%{y}<extra></extra>",
         "legendgroup": "Reconnaissance",
         "line": {
          "color": "#1f77b4"
         },
         "marker": {
          "symbol": "circle"
         },
         "mode": "lines",
         "name": "Reconnaissance",
         "orientation": "v",
         "showlegend": true,
         "stackgroup": "1",
         "type": "scatter",
         "x": [
          1988,
          1989,
          1990,
          1991,
          1992,
          1993,
          1994,
          1995,
          1996,
          1997,
          1998,
          1999,
          2000,
          2001,
          2002,
          2003,
          2004,
          2005,
          2006,
          2007,
          2008,
          2009,
          2010,
          2011,
          2012,
          2013,
          2014,
          2015,
          2016,
          2017,
          2018,
          2019,
          2020,
          2021,
          2022,
          2023,
          2024
         ],
         "xaxis": "x",
         "y": [
          0,
          0,
          0,
          0,
          0,
          0,
          0,
          0,
          0,
          0,
          0,
          0.0008340283569641367,
          0,
          0.00035714285714285714,
          0.001017293997965412,
          0.00047551117451260106,
          0.0010270455323519343,
          0.0010211027910142954,
          0.0007314218841427735,
          0.0009824561403508772,
          0.00015234613040828764,
          0.000864304235090752,
          0.0006802721088435374,
          0.0009725734292939117,
          0.0007548309178743961,
          0.0007760360080707744,
          0.0003635372171226029,
          0.0005785697755149271,
          0.0013145315487571702,
          0.0014772727272727272,
          0.001243008079552517,
          0.0012405024034734067,
          0.0012592192840438928,
          0.0012373273728745909,
          0.001156190876602901,
          0.0010055601561575773,
          0.0007725985063095545
         ],
         "yaxis": "y"
        },
        {
         "fillpattern": {
          "shape": ""
         },
         "hovertemplate": "=Resource Development<br>Year=%{x}<br>Relative frequency (%)=%{y}<extra></extra>",
         "legendgroup": "Resource Development",
         "line": {
          "color": "#ff7f0e"
         },
         "marker": {
          "symbol": "circle"
         },
         "mode": "lines",
         "name": "Resource Development",
         "orientation": "v",
         "showlegend": true,
         "stackgroup": "1",
         "type": "scatter",
         "x": [
          1988,
          1989,
          1990,
          1991,
          1992,
          1993,
          1994,
          1995,
          1996,
          1997,
          1998,
          1999,
          2000,
          2001,
          2002,
          2003,
          2004,
          2005,
          2006,
          2007,
          2008,
          2009,
          2010,
          2011,
          2012,
          2013,
          2014,
          2015,
          2016,
          2017,
          2018,
          2019,
          2020,
          2021,
          2022,
          2023,
          2024
         ],
         "xaxis": "x",
         "y": [
          0,
          0,
          0,
          0,
          0,
          0,
          0,
          0,
          0,
          0.01092896174863388,
          0.002680965147453083,
          0.0025020850708924102,
          0.005205320994794679,
          0.0025,
          0.003730077992539844,
          0.0014265335235378032,
          0.004792879150975694,
          0.005786249149081007,
          0.0033645406670567584,
          0.004350877192982456,
          0.002437538086532602,
          0.006050129645635264,
          0.0027210884353741495,
          0.004279323088893211,
          0.004830917874396135,
          0.00698432407263697,
          0.131146051076979,
          0.0047442721592224025,
          0.003465583173996176,
          0.012215909090909092,
          0.009322560596643879,
          0.009148705225616375,
          0.006790789710379564,
          0.005108964636385408,
          0.0052554130754677315,
          0.006003785638234946,
          0.006361061035281998
         ],
         "yaxis": "y"
        }
       ],
       "layout": {
        "height": 400,
        "legend": {
         "font": {
          "size": 9
         },
         "orientation": "h",
         "title": {
          "text": ""
         },
         "tracegroupgap": 0,
         "x": 0.5,
         "xanchor": "center",
         "y": 1.1,
         "yanchor": "bottom"
        },
        "margin": {
         "b": 20,
         "l": 20,
         "r": 20,
         "t": 60
        },
        "showlegend": true,
        "template": {
         "data": {
          "bar": [
           {
            "error_x": {
             "color": "#2a3f5f"
            },
            "error_y": {
             "color": "#2a3f5f"
            },
            "marker": {
             "line": {
              "color": "#E5ECF6",
              "width": 0.5
             },
             "pattern": {
              "fillmode": "overlay",
              "size": 10,
              "solidity": 0.2
             }
            },
            "type": "bar"
           }
          ],
          "barpolar": [
           {
            "marker": {
             "line": {
              "color": "#E5ECF6",
              "width": 0.5
             },
             "pattern": {
              "fillmode": "overlay",
              "size": 10,
              "solidity": 0.2
             }
            },
            "type": "barpolar"
           }
          ],
          "carpet": [
           {
            "aaxis": {
             "endlinecolor": "#2a3f5f",
             "gridcolor": "white",
             "linecolor": "white",
             "minorgridcolor": "white",
             "startlinecolor": "#2a3f5f"
            },
            "baxis": {
             "endlinecolor": "#2a3f5f",
             "gridcolor": "white",
             "linecolor": "white",
             "minorgridcolor": "white",
             "startlinecolor": "#2a3f5f"
            },
            "type": "carpet"
           }
          ],
          "choropleth": [
           {
            "colorbar": {
             "outlinewidth": 0,
             "ticks": ""
            },
            "type": "choropleth"
           }
          ],
          "contour": [
           {
            "colorbar": {
             "outlinewidth": 0,
             "ticks": ""
            },
            "colorscale": [
             [
              0,
              "#0d0887"
             ],
             [
              0.1111111111111111,
              "#46039f"
             ],
             [
              0.2222222222222222,
              "#7201a8"
             ],
             [
              0.3333333333333333,
              "#9c179e"
             ],
             [
              0.4444444444444444,
              "#bd3786"
             ],
             [
              0.5555555555555556,
              "#d8576b"
             ],
             [
              0.6666666666666666,
              "#ed7953"
             ],
             [
              0.7777777777777778,
              "#fb9f3a"
             ],
             [
              0.8888888888888888,
              "#fdca26"
             ],
             [
              1,
              "#f0f921"
             ]
            ],
            "type": "contour"
           }
          ],
          "contourcarpet": [
           {
            "colorbar": {
             "outlinewidth": 0,
             "ticks": ""
            },
            "type": "contourcarpet"
           }
          ],
          "heatmap": [
           {
            "colorbar": {
             "outlinewidth": 0,
             "ticks": ""
            },
            "colorscale": [
             [
              0,
              "#0d0887"
             ],
             [
              0.1111111111111111,
              "#46039f"
             ],
             [
              0.2222222222222222,
              "#7201a8"
             ],
             [
              0.3333333333333333,
              "#9c179e"
             ],
             [
              0.4444444444444444,
              "#bd3786"
             ],
             [
              0.5555555555555556,
              "#d8576b"
             ],
             [
              0.6666666666666666,
              "#ed7953"
             ],
             [
              0.7777777777777778,
              "#fb9f3a"
             ],
             [
              0.8888888888888888,
              "#fdca26"
             ],
             [
              1,
              "#f0f921"
             ]
            ],
            "type": "heatmap"
           }
          ],
          "heatmapgl": [
           {
            "colorbar": {
             "outlinewidth": 0,
             "ticks": ""
            },
            "colorscale": [
             [
              0,
              "#0d0887"
             ],
             [
              0.1111111111111111,
              "#46039f"
             ],
             [
              0.2222222222222222,
              "#7201a8"
             ],
             [
              0.3333333333333333,
              "#9c179e"
             ],
             [
              0.4444444444444444,
              "#bd3786"
             ],
             [
              0.5555555555555556,
              "#d8576b"
             ],
             [
              0.6666666666666666,
              "#ed7953"
             ],
             [
              0.7777777777777778,
              "#fb9f3a"
             ],
             [
              0.8888888888888888,
              "#fdca26"
             ],
             [
              1,
              "#f0f921"
             ]
            ],
            "type": "heatmapgl"
           }
          ],
          "histogram": [
           {
            "marker": {
             "pattern": {
              "fillmode": "overlay",
              "size": 10,
              "solidity": 0.2
             }
            },
            "type": "histogram"
           }
          ],
          "histogram2d": [
           {
            "colorbar": {
             "outlinewidth": 0,
             "ticks": ""
            },
            "colorscale": [
             [
              0,
              "#0d0887"
             ],
             [
              0.1111111111111111,
              "#46039f"
             ],
             [
              0.2222222222222222,
              "#7201a8"
             ],
             [
              0.3333333333333333,
              "#9c179e"
             ],
             [
              0.4444444444444444,
              "#bd3786"
             ],
             [
              0.5555555555555556,
              "#d8576b"
             ],
             [
              0.6666666666666666,
              "#ed7953"
             ],
             [
              0.7777777777777778,
              "#fb9f3a"
             ],
             [
              0.8888888888888888,
              "#fdca26"
             ],
             [
              1,
              "#f0f921"
             ]
            ],
            "type": "histogram2d"
           }
          ],
          "histogram2dcontour": [
           {
            "colorbar": {
             "outlinewidth": 0,
             "ticks": ""
            },
            "colorscale": [
             [
              0,
              "#0d0887"
             ],
             [
              0.1111111111111111,
              "#46039f"
             ],
             [
              0.2222222222222222,
              "#7201a8"
             ],
             [
              0.3333333333333333,
              "#9c179e"
             ],
             [
              0.4444444444444444,
              "#bd3786"
             ],
             [
              0.5555555555555556,
              "#d8576b"
             ],
             [
              0.6666666666666666,
              "#ed7953"
             ],
             [
              0.7777777777777778,
              "#fb9f3a"
             ],
             [
              0.8888888888888888,
              "#fdca26"
             ],
             [
              1,
              "#f0f921"
             ]
            ],
            "type": "histogram2dcontour"
           }
          ],
          "mesh3d": [
           {
            "colorbar": {
             "outlinewidth": 0,
             "ticks": ""
            },
            "type": "mesh3d"
           }
          ],
          "parcoords": [
           {
            "line": {
             "colorbar": {
              "outlinewidth": 0,
              "ticks": ""
             }
            },
            "type": "parcoords"
           }
          ],
          "pie": [
           {
            "automargin": true,
            "type": "pie"
           }
          ],
          "scatter": [
           {
            "fillpattern": {
             "fillmode": "overlay",
             "size": 10,
             "solidity": 0.2
            },
            "type": "scatter"
           }
          ],
          "scatter3d": [
           {
            "line": {
             "colorbar": {
              "outlinewidth": 0,
              "ticks": ""
             }
            },
            "marker": {
             "colorbar": {
              "outlinewidth": 0,
              "ticks": ""
             }
            },
            "type": "scatter3d"
           }
          ],
          "scattercarpet": [
           {
            "marker": {
             "colorbar": {
              "outlinewidth": 0,
              "ticks": ""
             }
            },
            "type": "scattercarpet"
           }
          ],
          "scattergeo": [
           {
            "marker": {
             "colorbar": {
              "outlinewidth": 0,
              "ticks": ""
             }
            },
            "type": "scattergeo"
           }
          ],
          "scattergl": [
           {
            "marker": {
             "colorbar": {
              "outlinewidth": 0,
              "ticks": ""
             }
            },
            "type": "scattergl"
           }
          ],
          "scattermapbox": [
           {
            "marker": {
             "colorbar": {
              "outlinewidth": 0,
              "ticks": ""
             }
            },
            "type": "scattermapbox"
           }
          ],
          "scatterpolar": [
           {
            "marker": {
             "colorbar": {
              "outlinewidth": 0,
              "ticks": ""
             }
            },
            "type": "scatterpolar"
           }
          ],
          "scatterpolargl": [
           {
            "marker": {
             "colorbar": {
              "outlinewidth": 0,
              "ticks": ""
             }
            },
            "type": "scatterpolargl"
           }
          ],
          "scatterternary": [
           {
            "marker": {
             "colorbar": {
              "outlinewidth": 0,
              "ticks": ""
             }
            },
            "type": "scatterternary"
           }
          ],
          "surface": [
           {
            "colorbar": {
             "outlinewidth": 0,
             "ticks": ""
            },
            "colorscale": [
             [
              0,
              "#0d0887"
             ],
             [
              0.1111111111111111,
              "#46039f"
             ],
             [
              0.2222222222222222,
              "#7201a8"
             ],
             [
              0.3333333333333333,
              "#9c179e"
             ],
             [
              0.4444444444444444,
              "#bd3786"
             ],
             [
              0.5555555555555556,
              "#d8576b"
             ],
             [
              0.6666666666666666,
              "#ed7953"
             ],
             [
              0.7777777777777778,
              "#fb9f3a"
             ],
             [
              0.8888888888888888,
              "#fdca26"
             ],
             [
              1,
              "#f0f921"
             ]
            ],
            "type": "surface"
           }
          ],
          "table": [
           {
            "cells": {
             "fill": {
              "color": "#EBF0F8"
             },
             "line": {
              "color": "white"
             }
            },
            "header": {
             "fill": {
              "color": "#C8D4E3"
             },
             "line": {
              "color": "white"
             }
            },
            "type": "table"
           }
          ]
         },
         "layout": {
          "annotationdefaults": {
           "arrowcolor": "#2a3f5f",
           "arrowhead": 0,
           "arrowwidth": 1
          },
          "autotypenumbers": "strict",
          "coloraxis": {
           "colorbar": {
            "outlinewidth": 0,
            "ticks": ""
           }
          },
          "colorscale": {
           "diverging": [
            [
             0,
             "#8e0152"
            ],
            [
             0.1,
             "#c51b7d"
            ],
            [
             0.2,
             "#de77ae"
            ],
            [
             0.3,
             "#f1b6da"
            ],
            [
             0.4,
             "#fde0ef"
            ],
            [
             0.5,
             "#f7f7f7"
            ],
            [
             0.6,
             "#e6f5d0"
            ],
            [
             0.7,
             "#b8e186"
            ],
            [
             0.8,
             "#7fbc41"
            ],
            [
             0.9,
             "#4d9221"
            ],
            [
             1,
             "#276419"
            ]
           ],
           "sequential": [
            [
             0,
             "#0d0887"
            ],
            [
             0.1111111111111111,
             "#46039f"
            ],
            [
             0.2222222222222222,
             "#7201a8"
            ],
            [
             0.3333333333333333,
             "#9c179e"
            ],
            [
             0.4444444444444444,
             "#bd3786"
            ],
            [
             0.5555555555555556,
             "#d8576b"
            ],
            [
             0.6666666666666666,
             "#ed7953"
            ],
            [
             0.7777777777777778,
             "#fb9f3a"
            ],
            [
             0.8888888888888888,
             "#fdca26"
            ],
            [
             1,
             "#f0f921"
            ]
           ],
           "sequentialminus": [
            [
             0,
             "#0d0887"
            ],
            [
             0.1111111111111111,
             "#46039f"
            ],
            [
             0.2222222222222222,
             "#7201a8"
            ],
            [
             0.3333333333333333,
             "#9c179e"
            ],
            [
             0.4444444444444444,
             "#bd3786"
            ],
            [
             0.5555555555555556,
             "#d8576b"
            ],
            [
             0.6666666666666666,
             "#ed7953"
            ],
            [
             0.7777777777777778,
             "#fb9f3a"
            ],
            [
             0.8888888888888888,
             "#fdca26"
            ],
            [
             1,
             "#f0f921"
            ]
           ]
          },
          "colorway": [
           "#636efa",
           "#EF553B",
           "#00cc96",
           "#ab63fa",
           "#FFA15A",
           "#19d3f3",
           "#FF6692",
           "#B6E880",
           "#FF97FF",
           "#FECB52"
          ],
          "font": {
           "color": "#2a3f5f"
          },
          "geo": {
           "bgcolor": "white",
           "lakecolor": "white",
           "landcolor": "#E5ECF6",
           "showlakes": true,
           "showland": true,
           "subunitcolor": "white"
          },
          "hoverlabel": {
           "align": "left"
          },
          "hovermode": "closest",
          "mapbox": {
           "style": "light"
          },
          "paper_bgcolor": "white",
          "plot_bgcolor": "#E5ECF6",
          "polar": {
           "angularaxis": {
            "gridcolor": "white",
            "linecolor": "white",
            "ticks": ""
           },
           "bgcolor": "#E5ECF6",
           "radialaxis": {
            "gridcolor": "white",
            "linecolor": "white",
            "ticks": ""
           }
          },
          "scene": {
           "xaxis": {
            "backgroundcolor": "#E5ECF6",
            "gridcolor": "white",
            "gridwidth": 2,
            "linecolor": "white",
            "showbackground": true,
            "ticks": "",
            "zerolinecolor": "white"
           },
           "yaxis": {
            "backgroundcolor": "#E5ECF6",
            "gridcolor": "white",
            "gridwidth": 2,
            "linecolor": "white",
            "showbackground": true,
            "ticks": "",
            "zerolinecolor": "white"
           },
           "zaxis": {
            "backgroundcolor": "#E5ECF6",
            "gridcolor": "white",
            "gridwidth": 2,
            "linecolor": "white",
            "showbackground": true,
            "ticks": "",
            "zerolinecolor": "white"
           }
          },
          "shapedefaults": {
           "line": {
            "color": "#2a3f5f"
           }
          },
          "ternary": {
           "aaxis": {
            "gridcolor": "white",
            "linecolor": "white",
            "ticks": ""
           },
           "baxis": {
            "gridcolor": "white",
            "linecolor": "white",
            "ticks": ""
           },
           "bgcolor": "#E5ECF6",
           "caxis": {
            "gridcolor": "white",
            "linecolor": "white",
            "ticks": ""
           }
          },
          "title": {
           "x": 0.05
          },
          "xaxis": {
           "automargin": true,
           "gridcolor": "white",
           "linecolor": "white",
           "ticks": "",
           "title": {
            "standoff": 15
           },
           "zerolinecolor": "white",
           "zerolinewidth": 2
          },
          "yaxis": {
           "automargin": true,
           "gridcolor": "white",
           "linecolor": "white",
           "ticks": "",
           "title": {
            "standoff": 15
           },
           "zerolinecolor": "white",
           "zerolinewidth": 2
          }
         }
        },
        "title": {
         "x": 0.5
        },
        "width": 600,
        "xaxis": {
         "anchor": "y",
         "autorange": true,
         "domain": [
          0,
          1
         ],
         "range": [
          1988,
          2024
         ],
         "title": {
          "text": "Year"
         },
         "type": "linear"
        },
        "yaxis": {
         "anchor": "x",
         "autorange": true,
         "domain": [
          0,
          1
         ],
         "range": [
          0,
          1.0526315789473686
         ],
         "tickformat": "%",
         "title": {
          "text": "Relative frequency (%)"
         },
         "type": "linear"
        }
       }
      },
      "text/html": [
       "<div>                            <div id=\"50676c5f-215b-4547-a3e6-e39a2aab6e50\" class=\"plotly-graph-div\" style=\"height:400px; width:600px;\"></div>            <script type=\"text/javascript\">                require([\"plotly\"], function(Plotly) {                    window.PLOTLYENV=window.PLOTLYENV || {};                                    if (document.getElementById(\"50676c5f-215b-4547-a3e6-e39a2aab6e50\")) {                    Plotly.newPlot(                        \"50676c5f-215b-4547-a3e6-e39a2aab6e50\",                        [{\"fillpattern\":{\"shape\":\"\"},\"hovertemplate\":\"=Collection\\u003cbr\\u003eYear=%{x}\\u003cbr\\u003eRelative frequency (%)=%{y}\\u003cextra\\u003e\\u003c\\u002fextra\\u003e\",\"legendgroup\":\"Collection\",\"line\":{\"color\":\"#c5b0d5\"},\"marker\":{\"symbol\":\"circle\"},\"mode\":\"lines\",\"name\":\"Collection\",\"orientation\":\"v\",\"showlegend\":true,\"stackgroup\":\"1\",\"x\":[1988,1989,1990,1991,1992,1993,1994,1995,1996,1997,1998,1999,2000,2001,2002,2003,2004,2005,2006,2007,2008,2009,2010,2011,2012,2013,2014,2015,2016,2017,2018,2019,2020,2021,2022,2023,2024],\"xaxis\":\"x\",\"y\":[0.0,0.0,0.05,0.0,0.0,0.041666666666666664,0.0,0.0625,0.008064516129032258,0.01092896174863388,0.01876675603217158,0.02585487906588824,0.015615962984384037,0.021785714285714287,0.02373685995252628,0.02330004755111745,0.021225607668606643,0.024166099387338325,0.024136922176711526,0.027228070175438598,0.017215112736136504,0.020167098818784212,0.025,0.020424042015172145,0.021739130434782608,0.023591494645351544,0.015177678814868673,0.020134228187919462,0.01995697896749522,0.03880681818181818,0.03128237000207168,0.03411381609551869,0.02765785213167836,0.03264947712940049,0.022703384486020602,0.027830356086596474,0.029461756373937678],\"yaxis\":\"y\",\"type\":\"scatter\"},{\"fillpattern\":{\"shape\":\"\"},\"hovertemplate\":\"=Command and Control\\u003cbr\\u003eYear=%{x}\\u003cbr\\u003eRelative frequency (%)=%{y}\\u003cextra\\u003e\\u003c\\u002fextra\\u003e\",\"legendgroup\":\"Command and Control\",\"line\":{\"color\":\"#f7b6d2\"},\"marker\":{\"symbol\":\"circle\"},\"mode\":\"lines\",\"name\":\"Command and Control\",\"orientation\":\"v\",\"showlegend\":true,\"stackgroup\":\"1\",\"x\":[1988,1989,1990,1991,1992,1993,1994,1995,1996,1997,1998,1999,2000,2001,2002,2003,2004,2005,2006,2007,2008,2009,2010,2011,2012,2013,2014,2015,2016,2017,2018,2019,2020,2021,2022,2023,2024],\"xaxis\":\"x\",\"y\":[0.0,0.0,0.0,0.038461538461538464,0.041666666666666664,0.0,0.0,0.03125,0.008064516129032258,0.03278688524590164,0.040214477211796246,0.04837364470391994,0.04164256795835743,0.06,0.05866395388267209,0.042796005706134094,0.05340636768230058,0.05292716133424098,0.04900526623756583,0.062456140350877196,0.043266301035953685,0.048977239988475946,0.03792517006802721,0.04493289243337872,0.044082125603864736,0.04656216048424647,0.0435335817504317,0.051608423975931496,0.04947418738049713,0.04193181818181818,0.044800082867205306,0.045898588928516046,0.04726569526893326,0.045860940368803386,0.04561698549505991,0.042558854844433926,0.03584857069276333],\"yaxis\":\"y\",\"type\":\"scatter\"},{\"fillpattern\":{\"shape\":\"\"},\"hovertemplate\":\"=Credential Access\\u003cbr\\u003eYear=%{x}\\u003cbr\\u003eRelative frequency (%)=%{y}\\u003cextra\\u003e\\u003c\\u002fextra\\u003e\",\"legendgroup\":\"Credential Access\",\"line\":{\"color\":\"#17becf\"},\"marker\":{\"symbol\":\"circle\"},\"mode\":\"lines\",\"name\":\"Credential Access\",\"orientation\":\"v\",\"showlegend\":true,\"stackgroup\":\"1\",\"x\":[1988,1989,1990,1991,1992,1993,1994,1995,1996,1997,1998,1999,2000,2001,2002,2003,2004,2005,2006,2007,2008,2009,2010,2011,2012,2013,2014,2015,2016,2017,2018,2019,2020,2021,2022,2023,2024],\"xaxis\":\"x\",\"y\":[0.0,0.0,0.0,0.07692307692307693,0.0,0.0,0.0,0.0,0.016129032258064516,0.03825136612021858,0.05630026809651475,0.06839032527105922,0.05436668594563331,0.06321428571428571,0.07494065785011868,0.06371849738468854,0.0671003081136597,0.04952348536419333,0.054271503803393795,0.05473684210526316,0.04722730042656916,0.07476231633535005,0.047448979591836735,0.047850612721260455,0.06385869565217392,0.06813596150861399,0.060074525129510135,0.07104836843323305,0.046367112810707455,0.051022727272727275,0.04982390718873006,0.056752984958908355,0.05131318582478863,0.044743354354594075,0.04127251068600659,0.03915769549272448,0.030466134432140097],\"yaxis\":\"y\",\"type\":\"scatter\"},{\"fillpattern\":{\"shape\":\"\"},\"hovertemplate\":\"=Defense Evasion\\u003cbr\\u003eYear=%{x}\\u003cbr\\u003eRelative frequency (%)=%{y}\\u003cextra\\u003e\\u003c\\u002fextra\\u003e\",\"legendgroup\":\"Defense Evasion\",\"line\":{\"color\":\"#e377c2\"},\"marker\":{\"symbol\":\"circle\"},\"mode\":\"lines\",\"name\":\"Defense Evasion\",\"orientation\":\"v\",\"showlegend\":true,\"stackgroup\":\"1\",\"x\":[1988,1989,1990,1991,1992,1993,1994,1995,1996,1997,1998,1999,2000,2001,2002,2003,2004,2005,2006,2007,2008,2009,2010,2011,2012,2013,2014,2015,2016,2017,2018,2019,2020,2021,2022,2023,2024],\"xaxis\":\"x\",\"y\":[0.4,0.3333333333333333,0.3,0.34615384615384615,0.375,0.3333333333333333,0.391304347826087,0.375,0.3870967741935484,0.3005464480874317,0.2520107238605898,0.21851542952460384,0.17987275882012724,0.18642857142857142,0.19735503560528994,0.2211126961483595,0.2078055460458747,0.19962559564329477,0.17451726155646577,0.1967719298245614,0.19378427787934185,0.18899452607317777,0.19268707482993197,0.17545224664462167,0.19082125603864733,0.1761601738320658,0.25411251476869945,0.17565378384633187,0.1701720841300191,0.18670454545454546,0.20499274911953594,0.19837700935545563,0.21082928584277746,0.20715255049093956,0.20002102165230187,0.19744469419141134,0.1828483131599279],\"yaxis\":\"y\",\"type\":\"scatter\"},{\"fillpattern\":{\"shape\":\"\"},\"hovertemplate\":\"=Discovery\\u003cbr\\u003eYear=%{x}\\u003cbr\\u003eRelative frequency (%)=%{y}\\u003cextra\\u003e\\u003c\\u002fextra\\u003e\",\"legendgroup\":\"Discovery\",\"line\":{\"color\":\"#bcbd22\"},\"marker\":{\"symbol\":\"circle\"},\"mode\":\"lines\",\"name\":\"Discovery\",\"orientation\":\"v\",\"showlegend\":true,\"stackgroup\":\"1\",\"x\":[1988,1989,1990,1991,1992,1993,1994,1995,1996,1997,1998,1999,2000,2001,2002,2003,2004,2005,2006,2007,2008,2009,2010,2011,2012,2013,2014,2015,2016,2017,2018,2019,2020,2021,2022,2023,2024],\"xaxis\":\"x\",\"y\":[0.0,0.0,0.1,0.07692307692307693,0.0,0.041666666666666664,0.021739130434782608,0.0,0.07258064516129033,0.10109289617486339,0.06702412868632708,0.10592160133444536,0.09427414690572586,0.1025,0.10139030179721939,0.0932001902044698,0.08250599109893872,0.08253914227365555,0.08484493856056173,0.07185964912280701,0.05941499085923217,0.06813598386632094,0.0707482993197279,0.053686053297023924,0.05661231884057971,0.05835790780692224,0.05662092156684541,0.05299699143716732,0.058197896749521985,0.059147727272727275,0.0518437953180029,0.05577092055615858,0.05504587155963303,0.05232697373672866,0.05024174900147151,0.044954454039985804,0.04048416173062065],\"yaxis\":\"y\",\"type\":\"scatter\"},{\"fillpattern\":{\"shape\":\"\"},\"hovertemplate\":\"=Execution\\u003cbr\\u003eYear=%{x}\\u003cbr\\u003eRelative frequency (%)=%{y}\\u003cextra\\u003e\\u003c\\u002fextra\\u003e\",\"legendgroup\":\"Execution\",\"line\":{\"color\":\"#d62728\"},\"marker\":{\"symbol\":\"circle\"},\"mode\":\"lines\",\"name\":\"Execution\",\"orientation\":\"v\",\"showlegend\":true,\"stackgroup\":\"1\",\"x\":[1988,1989,1990,1991,1992,1993,1994,1995,1996,1997,1998,1999,2000,2001,2002,2003,2004,2005,2006,2007,2008,2009,2010,2011,2012,2013,2014,2015,2016,2017,2018,2019,2020,2021,2022,2023,2024],\"xaxis\":\"x\",\"y\":[0.2,0.16666666666666666,0.05,0.0,0.125,0.0,0.021739130434782608,0.125,0.056451612903225805,0.07377049180327869,0.08847184986595175,0.09924937447873228,0.12608444187391557,0.10392857142857143,0.09087826381824347,0.06894912030432715,0.08182129407737077,0.15197413206262764,0.18124634289057928,0.14119298245614034,0.21084704448507008,0.1755978104292711,0.1477891156462585,0.1408286325617584,0.10356280193236715,0.11376687878317554,0.0870671635008634,0.14012959962971536,0.1349187380497132,0.12664772727272727,0.18660658794282162,0.18473148291724814,0.179483720093542,0.1707910912429153,0.19697288206853059,0.22243582160179817,0.30182848313159927],\"yaxis\":\"y\",\"type\":\"scatter\"},{\"fillpattern\":{\"shape\":\"\"},\"hovertemplate\":\"=Exfiltration\\u003cbr\\u003eYear=%{x}\\u003cbr\\u003eRelative frequency (%)=%{y}\\u003cextra\\u003e\\u003c\\u002fextra\\u003e\",\"legendgroup\":\"Exfiltration\",\"line\":{\"color\":\"#98df8a\"},\"marker\":{\"symbol\":\"circle\"},\"mode\":\"lines\",\"name\":\"Exfiltration\",\"orientation\":\"v\",\"showlegend\":true,\"stackgroup\":\"1\",\"x\":[1988,1989,1990,1991,1992,1993,1994,1995,1996,1997,1998,1999,2000,2001,2002,2003,2004,2005,2006,2007,2008,2009,2010,2011,2012,2013,2014,2015,2016,2017,2018,2019,2020,2021,2022,2023,2024],\"xaxis\":\"x\",\"y\":[0.0,0.0,0.0,0.0,0.0,0.0,0.0,0.0,0.0,0.00273224043715847,0.0,0.0,0.0,0.0007142857142857143,0.00033909799932180403,0.0009510223490252021,0.0010270455323519343,0.0010211027910142954,0.001023990637799883,0.0016842105263157896,0.0006093845216331506,0.0002881014116969173,0.0008503401360544217,0.001167088115152694,0.0006038647342995169,0.0001552072016141549,0.0007270744342452058,0.0006942837306179125,0.0008365200764818356,0.0002840909090909091,0.0005179200331468821,0.0007753140021708792,0.0007195538765965102,0.0007982757244352199,0.0008058300049050522,0.0003549035845262037,0.00041205253669842907],\"yaxis\":\"y\",\"type\":\"scatter\"},{\"fillpattern\":{\"shape\":\"\"},\"hovertemplate\":\"=Impact\\u003cbr\\u003eYear=%{x}\\u003cbr\\u003eRelative frequency (%)=%{y}\\u003cextra\\u003e\\u003c\\u002fextra\\u003e\",\"legendgroup\":\"Impact\",\"line\":{\"color\":\"#ff9896\"},\"marker\":{\"symbol\":\"circle\"},\"mode\":\"lines\",\"name\":\"Impact\",\"orientation\":\"v\",\"showlegend\":true,\"stackgroup\":\"1\",\"x\":[1988,1989,1990,1991,1992,1993,1994,1995,1996,1997,1998,1999,2000,2001,2002,2003,2004,2005,2006,2007,2008,2009,2010,2011,2012,2013,2014,2015,2016,2017,2018,2019,2020,2021,2022,2023,2024],\"xaxis\":\"x\",\"y\":[0.0,0.0,0.0,0.0,0.125,0.125,0.08695652173913043,0.0625,0.0967741935483871,0.14754098360655737,0.2680965147453083,0.22935779816513763,0.3100057836899942,0.2810714285714286,0.25669718548660564,0.2710413694721826,0.2704553235193427,0.20302927161334242,0.1743709771796372,0.20280701754385966,0.18799512492382695,0.17934312878133102,0.225,0.3016922777669714,0.2798913043478261,0.2891510166071706,0.18195037716986276,0.24866928951631567,0.2740200764818356,0.23789772727272726,0.140200952972861,0.10740683310073913,0.10163698506925706,0.1327133391873553,0.12507883119613203,0.11126227374896487,0.08163790883337625],\"yaxis\":\"y\",\"type\":\"scatter\"},{\"fillpattern\":{\"shape\":\"\"},\"hovertemplate\":\"=Initial Access\\u003cbr\\u003eYear=%{x}\\u003cbr\\u003eRelative frequency (%)=%{y}\\u003cextra\\u003e\\u003c\\u002fextra\\u003e\",\"legendgroup\":\"Initial Access\",\"line\":{\"color\":\"#2ca02c\"},\"marker\":{\"symbol\":\"circle\"},\"mode\":\"lines\",\"name\":\"Initial Access\",\"orientation\":\"v\",\"showlegend\":true,\"stackgroup\":\"1\",\"x\":[1988,1989,1990,1991,1992,1993,1994,1995,1996,1997,1998,1999,2000,2001,2002,2003,2004,2005,2006,2007,2008,2009,2010,2011,2012,2013,2014,2015,2016,2017,2018,2019,2020,2021,2022,2023,2024],\"xaxis\":\"x\",\"y\":[0.0,0.0,0.0,0.0,0.0,0.041666666666666664,0.0,0.0,0.008064516129032258,0.00819672131147541,0.002680965147453083,0.004170141784820684,0.006940427993059572,0.014285714285714285,0.018311291963377416,0.024251069900142655,0.03731598767545361,0.06756296800544588,0.08937975424224692,0.06582456140350877,0.09308348567946374,0.0749063670411985,0.06241496598639456,0.048628671464695586,0.051630434782608696,0.04795902529877386,0.0499863673543579,0.05993982874334645,0.04565009560229445,0.05352272727272727,0.054847731510254814,0.05783842456194759,0.05742939377585897,0.07008860860541231,0.08100343353654264,0.0841417248314208,0.08467679629152718],\"yaxis\":\"y\",\"type\":\"scatter\"},{\"fillpattern\":{\"shape\":\"\"},\"hovertemplate\":\"=Lateral Movement\\u003cbr\\u003eYear=%{x}\\u003cbr\\u003eRelative frequency (%)=%{y}\\u003cextra\\u003e\\u003c\\u002fextra\\u003e\",\"legendgroup\":\"Lateral Movement\",\"line\":{\"color\":\"#7f7f7f\"},\"marker\":{\"symbol\":\"circle\"},\"mode\":\"lines\",\"name\":\"Lateral Movement\",\"orientation\":\"v\",\"showlegend\":true,\"stackgroup\":\"1\",\"x\":[1988,1989,1990,1991,1992,1993,1994,1995,1996,1997,1998,1999,2000,2001,2002,2003,2004,2005,2006,2007,2008,2009,2010,2011,2012,2013,2014,2015,2016,2017,2018,2019,2020,2021,2022,2023,2024],\"xaxis\":\"x\",\"y\":[0.0,0.0,0.0,0.0,0.0,0.0,0.0,0.03125,0.0,0.01092896174863388,0.005361930294906166,0.010842368640533779,0.013880855986119144,0.013928571428571429,0.019667683960664633,0.021873514027579647,0.02704553235193427,0.018890401633764466,0.018431831480397894,0.02343859649122807,0.026203534430225474,0.03197925669835782,0.015646258503401362,0.02664851196265318,0.020380434782608696,0.02467794505665063,0.01990366263746251,0.019902800277713493,0.017805927342256216,0.03363636363636364,0.04319453076444997,0.047707654933581436,0.03512322360136715,0.024227668236608924,0.019480064466400392,0.018277534603099492,0.020370847283028588],\"yaxis\":\"y\",\"type\":\"scatter\"},{\"fillpattern\":{\"shape\":\"\"},\"hovertemplate\":\"=Persistence\\u003cbr\\u003eYear=%{x}\\u003cbr\\u003eRelative frequency (%)=%{y}\\u003cextra\\u003e\\u003c\\u002fextra\\u003e\",\"legendgroup\":\"Persistence\",\"line\":{\"color\":\"#9467bd\"},\"marker\":{\"symbol\":\"circle\"},\"mode\":\"lines\",\"name\":\"Persistence\",\"orientation\":\"v\",\"showlegend\":true,\"stackgroup\":\"1\",\"x\":[1988,1989,1990,1991,1992,1993,1994,1995,1996,1997,1998,1999,2000,2001,2002,2003,2004,2005,2006,2007,2008,2009,2010,2011,2012,2013,2014,2015,2016,2017,2018,2019,2020,2021,2022,2023,2024],\"xaxis\":\"x\",\"y\":[0.0,0.0,0.0,0.0,0.041666666666666664,0.08333333333333333,0.021739130434782608,0.03125,0.03225806451612903,0.02459016393442623,0.032171581769437,0.03669724770642202,0.03412377096587623,0.0325,0.04781281790437437,0.05325725154541132,0.059568640876412185,0.06296800544588155,0.0836746635459333,0.07508771929824562,0.05987202925045704,0.06698357821953328,0.07670068027210884,0.04921221552227193,0.07185990338164251,0.05339127735526929,0.049804598745796604,0.060981254339273316,0.03955544933078394,0.05443181818181818,0.05562461155997514,0.07127720059957617,0.06943694909156323,0.06861179851520716,0.06141826080863289,0.058085886667455344,0.0737058975019315],\"yaxis\":\"y\",\"type\":\"scatter\"},{\"fillpattern\":{\"shape\":\"\"},\"hovertemplate\":\"=Privilege Escalation\\u003cbr\\u003eYear=%{x}\\u003cbr\\u003eRelative frequency (%)=%{y}\\u003cextra\\u003e\\u003c\\u002fextra\\u003e\",\"legendgroup\":\"Privilege Escalation\",\"line\":{\"color\":\"#8c564b\"},\"marker\":{\"symbol\":\"circle\"},\"mode\":\"lines\",\"name\":\"Privilege Escalation\",\"orientation\":\"v\",\"showlegend\":true,\"stackgroup\":\"1\",\"x\":[1988,1989,1990,1991,1992,1993,1994,1995,1996,1997,1998,1999,2000,2001,2002,2003,2004,2005,2006,2007,2008,2009,2010,2011,2012,2013,2014,2015,2016,2017,2018,2019,2020,2021,2022,2023,2024],\"xaxis\":\"x\",\"y\":[0.4,0.5,0.5,0.46153846153846156,0.2916666666666667,0.3333333333333333,0.45652173913043476,0.28125,0.31451612903225806,0.23770491803278687,0.16621983914209115,0.14929107589658047,0.11798727588201273,0.11678571428571428,0.10545947778908105,0.11364717070851164,0.08490243067442657,0.07896528250510551,0.061000585137507314,0.07157894736842105,0.0578915295551493,0.06295015845577644,0.09438775510204081,0.08422485897685275,0.0893719806763285,0.09033059133943815,0.04953194583295465,0.09291830594769729,0.13826481835564053,0.10227272727272728,0.1256991920447483,0.12896056236108958,0.15600827486958085,0.1436896303983396,0.1489734426459253,0.1464864545131906,0.11112541849085758],\"yaxis\":\"y\",\"type\":\"scatter\"},{\"fillpattern\":{\"shape\":\"\"},\"hovertemplate\":\"=Reconnaissance\\u003cbr\\u003eYear=%{x}\\u003cbr\\u003eRelative frequency (%)=%{y}\\u003cextra\\u003e\\u003c\\u002fextra\\u003e\",\"legendgroup\":\"Reconnaissance\",\"line\":{\"color\":\"#1f77b4\"},\"marker\":{\"symbol\":\"circle\"},\"mode\":\"lines\",\"name\":\"Reconnaissance\",\"orientation\":\"v\",\"showlegend\":true,\"stackgroup\":\"1\",\"x\":[1988,1989,1990,1991,1992,1993,1994,1995,1996,1997,1998,1999,2000,2001,2002,2003,2004,2005,2006,2007,2008,2009,2010,2011,2012,2013,2014,2015,2016,2017,2018,2019,2020,2021,2022,2023,2024],\"xaxis\":\"x\",\"y\":[0.0,0.0,0.0,0.0,0.0,0.0,0.0,0.0,0.0,0.0,0.0,0.0008340283569641367,0.0,0.00035714285714285714,0.001017293997965412,0.00047551117451260106,0.0010270455323519343,0.0010211027910142954,0.0007314218841427735,0.0009824561403508772,0.00015234613040828764,0.000864304235090752,0.0006802721088435374,0.0009725734292939117,0.0007548309178743961,0.0007760360080707744,0.0003635372171226029,0.0005785697755149271,0.0013145315487571702,0.0014772727272727272,0.001243008079552517,0.0012405024034734067,0.0012592192840438928,0.0012373273728745909,0.001156190876602901,0.0010055601561575773,0.0007725985063095545],\"yaxis\":\"y\",\"type\":\"scatter\"},{\"fillpattern\":{\"shape\":\"\"},\"hovertemplate\":\"=Resource Development\\u003cbr\\u003eYear=%{x}\\u003cbr\\u003eRelative frequency (%)=%{y}\\u003cextra\\u003e\\u003c\\u002fextra\\u003e\",\"legendgroup\":\"Resource Development\",\"line\":{\"color\":\"#ff7f0e\"},\"marker\":{\"symbol\":\"circle\"},\"mode\":\"lines\",\"name\":\"Resource Development\",\"orientation\":\"v\",\"showlegend\":true,\"stackgroup\":\"1\",\"x\":[1988,1989,1990,1991,1992,1993,1994,1995,1996,1997,1998,1999,2000,2001,2002,2003,2004,2005,2006,2007,2008,2009,2010,2011,2012,2013,2014,2015,2016,2017,2018,2019,2020,2021,2022,2023,2024],\"xaxis\":\"x\",\"y\":[0.0,0.0,0.0,0.0,0.0,0.0,0.0,0.0,0.0,0.01092896174863388,0.002680965147453083,0.0025020850708924102,0.005205320994794679,0.0025,0.003730077992539844,0.0014265335235378032,0.004792879150975694,0.005786249149081007,0.0033645406670567584,0.004350877192982456,0.002437538086532602,0.006050129645635264,0.0027210884353741495,0.004279323088893211,0.004830917874396135,0.00698432407263697,0.131146051076979,0.0047442721592224025,0.003465583173996176,0.012215909090909092,0.009322560596643879,0.009148705225616375,0.006790789710379564,0.005108964636385408,0.0052554130754677315,0.006003785638234946,0.006361061035281998],\"yaxis\":\"y\",\"type\":\"scatter\"}],                        {\"template\":{\"data\":{\"histogram2dcontour\":[{\"type\":\"histogram2dcontour\",\"colorbar\":{\"outlinewidth\":0,\"ticks\":\"\"},\"colorscale\":[[0.0,\"#0d0887\"],[0.1111111111111111,\"#46039f\"],[0.2222222222222222,\"#7201a8\"],[0.3333333333333333,\"#9c179e\"],[0.4444444444444444,\"#bd3786\"],[0.5555555555555556,\"#d8576b\"],[0.6666666666666666,\"#ed7953\"],[0.7777777777777778,\"#fb9f3a\"],[0.8888888888888888,\"#fdca26\"],[1.0,\"#f0f921\"]]}],\"choropleth\":[{\"type\":\"choropleth\",\"colorbar\":{\"outlinewidth\":0,\"ticks\":\"\"}}],\"histogram2d\":[{\"type\":\"histogram2d\",\"colorbar\":{\"outlinewidth\":0,\"ticks\":\"\"},\"colorscale\":[[0.0,\"#0d0887\"],[0.1111111111111111,\"#46039f\"],[0.2222222222222222,\"#7201a8\"],[0.3333333333333333,\"#9c179e\"],[0.4444444444444444,\"#bd3786\"],[0.5555555555555556,\"#d8576b\"],[0.6666666666666666,\"#ed7953\"],[0.7777777777777778,\"#fb9f3a\"],[0.8888888888888888,\"#fdca26\"],[1.0,\"#f0f921\"]]}],\"heatmap\":[{\"type\":\"heatmap\",\"colorbar\":{\"outlinewidth\":0,\"ticks\":\"\"},\"colorscale\":[[0.0,\"#0d0887\"],[0.1111111111111111,\"#46039f\"],[0.2222222222222222,\"#7201a8\"],[0.3333333333333333,\"#9c179e\"],[0.4444444444444444,\"#bd3786\"],[0.5555555555555556,\"#d8576b\"],[0.6666666666666666,\"#ed7953\"],[0.7777777777777778,\"#fb9f3a\"],[0.8888888888888888,\"#fdca26\"],[1.0,\"#f0f921\"]]}],\"heatmapgl\":[{\"type\":\"heatmapgl\",\"colorbar\":{\"outlinewidth\":0,\"ticks\":\"\"},\"colorscale\":[[0.0,\"#0d0887\"],[0.1111111111111111,\"#46039f\"],[0.2222222222222222,\"#7201a8\"],[0.3333333333333333,\"#9c179e\"],[0.4444444444444444,\"#bd3786\"],[0.5555555555555556,\"#d8576b\"],[0.6666666666666666,\"#ed7953\"],[0.7777777777777778,\"#fb9f3a\"],[0.8888888888888888,\"#fdca26\"],[1.0,\"#f0f921\"]]}],\"contourcarpet\":[{\"type\":\"contourcarpet\",\"colorbar\":{\"outlinewidth\":0,\"ticks\":\"\"}}],\"contour\":[{\"type\":\"contour\",\"colorbar\":{\"outlinewidth\":0,\"ticks\":\"\"},\"colorscale\":[[0.0,\"#0d0887\"],[0.1111111111111111,\"#46039f\"],[0.2222222222222222,\"#7201a8\"],[0.3333333333333333,\"#9c179e\"],[0.4444444444444444,\"#bd3786\"],[0.5555555555555556,\"#d8576b\"],[0.6666666666666666,\"#ed7953\"],[0.7777777777777778,\"#fb9f3a\"],[0.8888888888888888,\"#fdca26\"],[1.0,\"#f0f921\"]]}],\"surface\":[{\"type\":\"surface\",\"colorbar\":{\"outlinewidth\":0,\"ticks\":\"\"},\"colorscale\":[[0.0,\"#0d0887\"],[0.1111111111111111,\"#46039f\"],[0.2222222222222222,\"#7201a8\"],[0.3333333333333333,\"#9c179e\"],[0.4444444444444444,\"#bd3786\"],[0.5555555555555556,\"#d8576b\"],[0.6666666666666666,\"#ed7953\"],[0.7777777777777778,\"#fb9f3a\"],[0.8888888888888888,\"#fdca26\"],[1.0,\"#f0f921\"]]}],\"mesh3d\":[{\"type\":\"mesh3d\",\"colorbar\":{\"outlinewidth\":0,\"ticks\":\"\"}}],\"scatter\":[{\"fillpattern\":{\"fillmode\":\"overlay\",\"size\":10,\"solidity\":0.2},\"type\":\"scatter\"}],\"parcoords\":[{\"type\":\"parcoords\",\"line\":{\"colorbar\":{\"outlinewidth\":0,\"ticks\":\"\"}}}],\"scatterpolargl\":[{\"type\":\"scatterpolargl\",\"marker\":{\"colorbar\":{\"outlinewidth\":0,\"ticks\":\"\"}}}],\"bar\":[{\"error_x\":{\"color\":\"#2a3f5f\"},\"error_y\":{\"color\":\"#2a3f5f\"},\"marker\":{\"line\":{\"color\":\"#E5ECF6\",\"width\":0.5},\"pattern\":{\"fillmode\":\"overlay\",\"size\":10,\"solidity\":0.2}},\"type\":\"bar\"}],\"scattergeo\":[{\"type\":\"scattergeo\",\"marker\":{\"colorbar\":{\"outlinewidth\":0,\"ticks\":\"\"}}}],\"scatterpolar\":[{\"type\":\"scatterpolar\",\"marker\":{\"colorbar\":{\"outlinewidth\":0,\"ticks\":\"\"}}}],\"histogram\":[{\"marker\":{\"pattern\":{\"fillmode\":\"overlay\",\"size\":10,\"solidity\":0.2}},\"type\":\"histogram\"}],\"scattergl\":[{\"type\":\"scattergl\",\"marker\":{\"colorbar\":{\"outlinewidth\":0,\"ticks\":\"\"}}}],\"scatter3d\":[{\"type\":\"scatter3d\",\"line\":{\"colorbar\":{\"outlinewidth\":0,\"ticks\":\"\"}},\"marker\":{\"colorbar\":{\"outlinewidth\":0,\"ticks\":\"\"}}}],\"scattermapbox\":[{\"type\":\"scattermapbox\",\"marker\":{\"colorbar\":{\"outlinewidth\":0,\"ticks\":\"\"}}}],\"scatterternary\":[{\"type\":\"scatterternary\",\"marker\":{\"colorbar\":{\"outlinewidth\":0,\"ticks\":\"\"}}}],\"scattercarpet\":[{\"type\":\"scattercarpet\",\"marker\":{\"colorbar\":{\"outlinewidth\":0,\"ticks\":\"\"}}}],\"carpet\":[{\"aaxis\":{\"endlinecolor\":\"#2a3f5f\",\"gridcolor\":\"white\",\"linecolor\":\"white\",\"minorgridcolor\":\"white\",\"startlinecolor\":\"#2a3f5f\"},\"baxis\":{\"endlinecolor\":\"#2a3f5f\",\"gridcolor\":\"white\",\"linecolor\":\"white\",\"minorgridcolor\":\"white\",\"startlinecolor\":\"#2a3f5f\"},\"type\":\"carpet\"}],\"table\":[{\"cells\":{\"fill\":{\"color\":\"#EBF0F8\"},\"line\":{\"color\":\"white\"}},\"header\":{\"fill\":{\"color\":\"#C8D4E3\"},\"line\":{\"color\":\"white\"}},\"type\":\"table\"}],\"barpolar\":[{\"marker\":{\"line\":{\"color\":\"#E5ECF6\",\"width\":0.5},\"pattern\":{\"fillmode\":\"overlay\",\"size\":10,\"solidity\":0.2}},\"type\":\"barpolar\"}],\"pie\":[{\"automargin\":true,\"type\":\"pie\"}]},\"layout\":{\"autotypenumbers\":\"strict\",\"colorway\":[\"#636efa\",\"#EF553B\",\"#00cc96\",\"#ab63fa\",\"#FFA15A\",\"#19d3f3\",\"#FF6692\",\"#B6E880\",\"#FF97FF\",\"#FECB52\"],\"font\":{\"color\":\"#2a3f5f\"},\"hovermode\":\"closest\",\"hoverlabel\":{\"align\":\"left\"},\"paper_bgcolor\":\"white\",\"plot_bgcolor\":\"#E5ECF6\",\"polar\":{\"bgcolor\":\"#E5ECF6\",\"angularaxis\":{\"gridcolor\":\"white\",\"linecolor\":\"white\",\"ticks\":\"\"},\"radialaxis\":{\"gridcolor\":\"white\",\"linecolor\":\"white\",\"ticks\":\"\"}},\"ternary\":{\"bgcolor\":\"#E5ECF6\",\"aaxis\":{\"gridcolor\":\"white\",\"linecolor\":\"white\",\"ticks\":\"\"},\"baxis\":{\"gridcolor\":\"white\",\"linecolor\":\"white\",\"ticks\":\"\"},\"caxis\":{\"gridcolor\":\"white\",\"linecolor\":\"white\",\"ticks\":\"\"}},\"coloraxis\":{\"colorbar\":{\"outlinewidth\":0,\"ticks\":\"\"}},\"colorscale\":{\"sequential\":[[0.0,\"#0d0887\"],[0.1111111111111111,\"#46039f\"],[0.2222222222222222,\"#7201a8\"],[0.3333333333333333,\"#9c179e\"],[0.4444444444444444,\"#bd3786\"],[0.5555555555555556,\"#d8576b\"],[0.6666666666666666,\"#ed7953\"],[0.7777777777777778,\"#fb9f3a\"],[0.8888888888888888,\"#fdca26\"],[1.0,\"#f0f921\"]],\"sequentialminus\":[[0.0,\"#0d0887\"],[0.1111111111111111,\"#46039f\"],[0.2222222222222222,\"#7201a8\"],[0.3333333333333333,\"#9c179e\"],[0.4444444444444444,\"#bd3786\"],[0.5555555555555556,\"#d8576b\"],[0.6666666666666666,\"#ed7953\"],[0.7777777777777778,\"#fb9f3a\"],[0.8888888888888888,\"#fdca26\"],[1.0,\"#f0f921\"]],\"diverging\":[[0,\"#8e0152\"],[0.1,\"#c51b7d\"],[0.2,\"#de77ae\"],[0.3,\"#f1b6da\"],[0.4,\"#fde0ef\"],[0.5,\"#f7f7f7\"],[0.6,\"#e6f5d0\"],[0.7,\"#b8e186\"],[0.8,\"#7fbc41\"],[0.9,\"#4d9221\"],[1,\"#276419\"]]},\"xaxis\":{\"gridcolor\":\"white\",\"linecolor\":\"white\",\"ticks\":\"\",\"title\":{\"standoff\":15},\"zerolinecolor\":\"white\",\"automargin\":true,\"zerolinewidth\":2},\"yaxis\":{\"gridcolor\":\"white\",\"linecolor\":\"white\",\"ticks\":\"\",\"title\":{\"standoff\":15},\"zerolinecolor\":\"white\",\"automargin\":true,\"zerolinewidth\":2},\"scene\":{\"xaxis\":{\"backgroundcolor\":\"#E5ECF6\",\"gridcolor\":\"white\",\"linecolor\":\"white\",\"showbackground\":true,\"ticks\":\"\",\"zerolinecolor\":\"white\",\"gridwidth\":2},\"yaxis\":{\"backgroundcolor\":\"#E5ECF6\",\"gridcolor\":\"white\",\"linecolor\":\"white\",\"showbackground\":true,\"ticks\":\"\",\"zerolinecolor\":\"white\",\"gridwidth\":2},\"zaxis\":{\"backgroundcolor\":\"#E5ECF6\",\"gridcolor\":\"white\",\"linecolor\":\"white\",\"showbackground\":true,\"ticks\":\"\",\"zerolinecolor\":\"white\",\"gridwidth\":2}},\"shapedefaults\":{\"line\":{\"color\":\"#2a3f5f\"}},\"annotationdefaults\":{\"arrowcolor\":\"#2a3f5f\",\"arrowhead\":0,\"arrowwidth\":1},\"geo\":{\"bgcolor\":\"white\",\"landcolor\":\"#E5ECF6\",\"subunitcolor\":\"white\",\"showland\":true,\"showlakes\":true,\"lakecolor\":\"white\"},\"title\":{\"x\":0.05},\"mapbox\":{\"style\":\"light\"}}},\"xaxis\":{\"anchor\":\"y\",\"domain\":[0.0,1.0],\"title\":{\"text\":\"Year\"}},\"yaxis\":{\"anchor\":\"x\",\"domain\":[0.0,1.0],\"title\":{\"text\":\"Relative frequency (%)\"},\"tickformat\":\"%\"},\"legend\":{\"title\":{\"text\":\"\"},\"tracegroupgap\":0,\"font\":{\"size\":9},\"orientation\":\"h\",\"yanchor\":\"bottom\",\"y\":1.1,\"xanchor\":\"center\",\"x\":0.5},\"margin\":{\"t\":60,\"l\":20,\"r\":20,\"b\":20},\"title\":{\"x\":0.5},\"showlegend\":true,\"width\":600,\"height\":400},                        {\"responsive\": true}                    ).then(function(){\n",
       "                            \n",
       "var gd = document.getElementById('50676c5f-215b-4547-a3e6-e39a2aab6e50');\n",
       "var x = new MutationObserver(function (mutations, observer) {{\n",
       "        var display = window.getComputedStyle(gd).display;\n",
       "        if (!display || display === 'none') {{\n",
       "            console.log([gd, 'removed!']);\n",
       "            Plotly.purge(gd);\n",
       "            observer.disconnect();\n",
       "        }}\n",
       "}});\n",
       "\n",
       "// Listen for the removal of the full notebook cells\n",
       "var notebookContainer = gd.closest('#notebook-container');\n",
       "if (notebookContainer) {{\n",
       "    x.observe(notebookContainer, {childList: true});\n",
       "}}\n",
       "\n",
       "// Listen for the clearing of the current output cell\n",
       "var outputEl = gd.closest('.output');\n",
       "if (outputEl) {{\n",
       "    x.observe(outputEl, {childList: true});\n",
       "}}\n",
       "\n",
       "                        })                };                });            </script>        </div>"
      ]
     },
     "metadata": {},
     "output_type": "display_data"
    }
   ],
   "source": [
    "import pandas as pd\n",
    "import numpy as np\n",
    "import plotly.express as px\n",
    "import ast\n",
    "\n",
    "# Assume the dataframe 'df' is already loaded and prepared\n",
    "\n",
    "# Step 1: Check and ensure attack_tactic column contains lists\n",
    "def ensure_list_format(x):\n",
    "    if isinstance(x, str):\n",
    "        try:\n",
    "            return ast.literal_eval(x)\n",
    "        except (ValueError, SyntaxError):\n",
    "            return x  # Return as-is if it's already a valid string or list\n",
    "    elif isinstance(x, list):\n",
    "        return x  # Return as-is if it's already a list\n",
    "    else:\n",
    "        return np.nan  # Set invalid values to NaN\n",
    "\n",
    "attack_df['attack_tactic'] = attack_df['attack_tactic'].apply(ensure_list_format)\n",
    "\n",
    "# Step 2: Drop rows with NaN in attack_tactic and make a copy to avoid the SettingWithCopyWarning\n",
    "a33_df = attack_df.dropna(subset=['attack_tactic']).copy()\n",
    "\n",
    "# Step 3: Extract the year from the published_date column using .loc[] to avoid the warning\n",
    "a33_df.loc[:, 'published_year'] = pd.to_datetime(a33_df['published_date']).dt.year\n",
    "\n",
    "# Step 4: Explode the attack_tactic list into separate rows to count each tactic per year\n",
    "a33_df = a33_df.explode('attack_tactic')\n",
    "\n",
    "# Step 4: Create the mapping between dataset format and the ATT&CK kill chain\n",
    "tactic_mapping = {\n",
    "    'reconnaissance': 'Reconnaissance',\n",
    "    'resource-development': 'Resource Development',\n",
    "    'initial-access': 'Initial Access',\n",
    "    'execution': 'Execution',\n",
    "    'persistence': 'Persistence',\n",
    "    'privilege-escalation': 'Privilege Escalation',\n",
    "    'defense-evasion': 'Defense Evasion',\n",
    "    'credential-access': 'Credential Access',\n",
    "    'discovery': 'Discovery',\n",
    "    'lateral-movement': 'Lateral Movement',\n",
    "    'collection': 'Collection',\n",
    "    'command-and-control': 'Command and Control',\n",
    "    'exfiltration': 'Exfiltration',\n",
    "    'impact': 'Impact'\n",
    "}\n",
    "\n",
    "# Step 5: Translate the attack_tactic values using the mapping and filter only mapped values\n",
    "a33_df['attack_tactic_translated'] = a33_df['attack_tactic'].map(tactic_mapping)\n",
    "a33_df = a33_df.dropna(subset=['attack_tactic_translated'])\n",
    "\n",
    "# Step 6: Group the data by year and translated attack_tactic, and count occurrences\n",
    "tactic_by_year = a33_df.groupby(['published_year', 'attack_tactic_translated']).size().reset_index(name='count')\n",
    "\n",
    "# Step 7: Pivot the data so that each column represents an attack tactic, and each row represents a year\n",
    "pivot_tactic_year = tactic_by_year.pivot(index='published_year', columns='attack_tactic_translated', values='count').fillna(0)\n",
    "\n",
    "# Step 8: Normalize the data by year to calculate the relative amount of each attack tactic (in percentage)\n",
    "pivot_tactic_year_normalized = pivot_tactic_year.div(pivot_tactic_year.sum(axis=1), axis=0).fillna(0)  # Multiply by 100 to get percentage values\n",
    "\n",
    "color_discrete_map = {\n",
    "    'Reconnaissance': '#1f77b4',  # Muted Blue\n",
    "    'Resource Development': '#ff7f0e',  # Orange\n",
    "    'Initial Access': '#2ca02c',  # Green\n",
    "    'Execution': '#d62728',  # Red\n",
    "    'Persistence': '#9467bd',  # Purple\n",
    "    'Privilege Escalation': '#8c564b',  # Brown\n",
    "    'Defense Evasion': '#e377c2',  # Pink\n",
    "    'Credential Access': '#17becf',  # Teal\n",
    "    'Discovery': '#bcbd22',  # Olive Yellow\n",
    "    'Lateral Movement': '#7f7f7f',  # Dark Gray\n",
    "    'Collection': '#c5b0d5',  # Light Purple\n",
    "    'Command and Control': '#f7b6d2',  # Light Pink\n",
    "    'Exfiltration': '#98df8a',  # Light Green\n",
    "    'Impact': '#ff9896',  # Coral Red\n",
    "}\n",
    "\n",
    "# Step 9: Plot a Streamgraph using Plotly with distinct colors for each tactic\n",
    "fig = px.area(\n",
    "    pivot_tactic_year_normalized,\n",
    "    x=pivot_tactic_year_normalized.index,\n",
    "    y=pivot_tactic_year_normalized.columns,\n",
    "    labels={\n",
    "        \"value\": \"Relative frequency (%)\",  # Update label to show percentage\n",
    "        \"published_year\": \"Year\",\n",
    "        \"attack_tactic_translated\": \"\"\n",
    "    },\n",
    "    color_discrete_map=color_discrete_map\n",
    ")\n",
    "\n",
    "# Update layout to remove the legend title and position the legend above the figure\n",
    "fig.update_layout(\n",
    "    showlegend=True,\n",
    "    legend=dict(\n",
    "        orientation=\"h\",\n",
    "        yanchor=\"bottom\",\n",
    "        y=1.1,  # Position the legend above the figure\n",
    "        xanchor=\"center\",\n",
    "        x=0.5,\n",
    "        font=dict(size=9)  # Set the font size for the legend\n",
    "\n",
    "    ),\n",
    "    width=600,\n",
    "    height=400,\n",
    "    title={'x': 0.5},  # Center the title\n",
    "    margin=dict(l=20, r=20, t=60, b=20),  # Adjust margins for better spacing\n",
    "    yaxis_tickformat='%',  # Set y-axis to show percentage\n",
    ")\n",
    "# Display the Streamgraph\n",
    "fig.show()\n"
   ]
  },
  {
   "cell_type": "markdown",
   "id": "627d8a8d-3f3d-46d8-9ac3-a6b2ed9775e4",
   "metadata": {},
   "source": [
    "### CPE Analysis"
   ]
  },
  {
   "cell_type": "code",
   "execution_count": 55,
   "id": "17df18db-6c6f-44b8-9b9e-f3ec2c35595f",
   "metadata": {},
   "outputs": [],
   "source": [
    "# Step 0: Transform cpe_strings from strings to actual lists\n",
    "attack_df['cpe_strings'] = attack_df['cpe_strings'].apply(lambda x: ast.literal_eval(x) if isinstance(x, str) else x)\n",
    "\n",
    "# Step 1: Filter out rows with empty CPE strings\n",
    "a34_df = attack_df[attack_df['cpe_strings'].apply(lambda x: len(x) > 0 and x != [])].copy()\n",
    "\n",
    "# Step 2: Categorize CPE Strings by operating system (o), application (a), and hardware (h)\n",
    "def categorize_cpe(cpe_strings):\n",
    "    os_cpes = []\n",
    "    app_cpes = []\n",
    "    hw_cpes = []\n",
    "    \n",
    "    if isinstance(cpe_strings, list):  # Ensure it's a list\n",
    "        for cpe in cpe_strings:\n",
    "            if isinstance(cpe, str):\n",
    "                if cpe.startswith('cpe:2.3:o'):\n",
    "                    os_cpes.append(cpe)\n",
    "                elif cpe.startswith('cpe:2.3:a'):\n",
    "                    app_cpes.append(cpe)\n",
    "                elif cpe.startswith('cpe:2.3:h'):\n",
    "                    hw_cpes.append(cpe)\n",
    "    return os_cpes, app_cpes, hw_cpes\n",
    "\n",
    "# Apply the categorization function to each row\n",
    "a34_df['os_cpes'], a34_df['app_cpes'], a34_df['hw_cpes'] = zip(*a34_df['cpe_strings'].apply(categorize_cpe))\n",
    "\n",
    "# Keep only necessary columns\n",
    "a34_df = a34_df[['cve_id', 'published_date', 'cpe_strings', 'attack_tactic', 'attack_technique', 'os_cpes', 'app_cpes', 'hw_cpes']]\n"
   ]
  },
  {
   "cell_type": "code",
   "execution_count": 56,
   "id": "cf7f02ce-2904-4e9d-bac6-b7bcad3c3691",
   "metadata": {},
   "outputs": [
    {
     "name": "stdout",
     "output_type": "stream",
     "text": [
      "Hardware: 1584 CVEs (1.27%)\n",
      "Operating Systems: 28142 CVEs (22.51%)\n",
      "Software: 105651 CVEs (84.51%)\n",
      "TOTAL: 135377 of 159301 0.8498188963032247\n",
      "\\begin{tabular}{lrrr}\n",
      "\\toprule\n",
      " \\textbf{ATT\\&CK Tactic} & \\textbf{Hardware} & \\textbf{Operating System} & \\textbf{Software} \\\\\n",
      "\\midrule\n",
      "Reconnaissance & 0.03\\% & 0.06\\% & 0.12\\% \\\\\n",
      "Resource Development & 0.40\\% & 0.56\\% & 1.46\\% \\\\\n",
      "Initial Access & 3.63\\% & 2.00\\% & 7.69\\% \\\\\n",
      "Execution & 4.74\\% & 11.51\\% & $\\bullet$\\ 17.43\\% \\\\\n",
      "Persistence & 7.26\\% & 4.58\\% & 6.84\\% \\\\\n",
      "Privilege Escalation & 7.38\\% & $\\bullet$\\ 20.24\\% & 9.05\\% \\\\\n",
      "Defense Evasion & $\\bullet$\\ 18.76\\% & $\\bullet$\\ 21.03\\% & $\\bullet$\\ 19.43\\% \\\\\n",
      "Credential Access & $\\bullet$\\ 11.10\\% & 2.78\\% & 5.37\\% \\\\\n",
      "Discovery & 6.61\\% & 4.99\\% & 6.18\\% \\\\\n",
      "Lateral Movement & 2.83\\% & 2.26\\% & 2.73\\% \\\\\n",
      "Collection & 2.28\\% & 2.23\\% & 3.02\\% \\\\\n",
      "Command and Control & 7.44\\% & 2.90\\% & 4.98\\% \\\\\n",
      "Exfiltration & 0.28\\% & 0.08\\% & 0.07\\% \\\\\n",
      "Impact & $\\bullet$\\ 27.25\\% & $\\bullet$\\ 24.77\\% & $\\bullet$\\ 15.62\\% \\\\\n",
      "$\\sum$ & 99.99\\% & 99.99\\% & 99.99\\% \\\\\n",
      "\\bottomrule\n",
      "\\end{tabular}\n"
     ]
    }
   ],
   "source": [
    "a34_df = a34_df.explode('attack_tactic')\n",
    "\n",
    "# Step 1: Define a function to calculate the absolute count and percentage of CVEs for each category\n",
    "def calculate_cve_statistics(df, cpe_column):\n",
    "    # Filter the dataframe to only include rows where the corresponding cpe_column is not empty\n",
    "    category_df = df[df[cpe_column].apply(lambda x: len(x) > 0)]\n",
    "    total_cves = len(df.drop_duplicates(subset='cve_id'))  # Total unique CVEs in the dataset\n",
    "    cve_count = len(category_df['cve_id'].unique())  # Unique CVEs affecting this category\n",
    "    \n",
    "    # Calculate percentage of CVEs affecting this category\n",
    "    cve_percentage = (cve_count / total_cves) * 100 if total_cves > 0 else 0\n",
    "    return cve_count, cve_percentage\n",
    "\n",
    "# Step 2: Calculate absolute counts and percentages for each category (Hardware, OS, Software)\n",
    "hw_cve_count, hw_cve_percentage = calculate_cve_statistics(a34_df, 'hw_cpes')\n",
    "os_cve_count, os_cve_percentage = calculate_cve_statistics(a34_df, 'os_cpes')\n",
    "app_cve_count, app_cve_percentage = calculate_cve_statistics(a34_df, 'app_cpes')\n",
    "\n",
    "# Display the results\n",
    "print(f\"Hardware: {hw_cve_count} CVEs ({hw_cve_percentage:.2f}%)\")\n",
    "print(f\"Operating Systems: {os_cve_count} CVEs ({os_cve_percentage:.2f}%)\")\n",
    "print(f\"Software: {app_cve_count} CVEs ({app_cve_percentage:.2f}%)\")\n",
    "total = hw_cve_count+os_cve_count+app_cve_count\n",
    "print(f\"TOTAL: {total} of {len(attack_df['cve_id'].unique())} {total/len(attack_df['cve_id'].unique())}\")\n",
    "\n",
    "\n",
    "# Step 1: Define a function to calculate the percentage for each category (HW, OS, SW)\n",
    "def calculate_percentages(df, cpe_column, tactic_column):\n",
    "    # Filter the dataframe to only include rows where the corresponding cpe_column is not empty\n",
    "    category_df = df[df[cpe_column].apply(lambda x: len(x) > 0)]\n",
    "    \n",
    "    # Total number of CVEs in this category (for tactics where the corresponding CPEs are present)\n",
    "    total_cves_in_category = len(category_df)\n",
    "    \n",
    "    # Count how many CVEs affect each tactic in this category\n",
    "    tactic_counts = category_df.groupby(tactic_column)[cpe_column].apply(\n",
    "        lambda x: sum([1 for cpe_list in x if len(cpe_list) > 0])\n",
    "    )\n",
    "    \n",
    "    # Return the percentage for each tactic\n",
    "    return (tactic_counts / total_cves_in_category) * 100 if total_cves_in_category > 0 else pd.Series([])\n",
    "\n",
    "# Step 2: Calculate percentages for each category (Hardware, Operating Systems, and Applications)\n",
    "hw_percentages = calculate_percentages(a34_df, 'hw_cpes', 'attack_tactic')  # Hardware\n",
    "os_percentages = calculate_percentages(a34_df, 'os_cpes', 'attack_tactic')  # Operating Systems\n",
    "app_percentages = calculate_percentages(a34_df, 'app_cpes', 'attack_tactic')  # Applications\n",
    "\n",
    "\n",
    "# Combine all percentages into a single DataFrame and fill missing values with 0\n",
    "percentages_df = pd.DataFrame({\n",
    "    'HW': hw_percentages,\n",
    "    'OS': os_percentages,\n",
    "    'SW': app_percentages\n",
    "}).fillna(0)\n",
    "\n",
    "# Capitalize and format tactic names (and maintain the correct order)\n",
    "ordered_tactic_names = [\n",
    "    'Reconnaissance', 'Resource Development', 'Initial Access', 'Execution', \n",
    "    'Persistence', 'Privilege Escalation', 'Defense Evasion', 'Credential Access',\n",
    "    'Discovery', 'Lateral Movement', 'Collection', 'Command and Control', \n",
    "    'Exfiltration', 'Impact'\n",
    "]\n",
    "\n",
    "# Apply the tactic name mapping to the index and reorder the rows\n",
    "tactic_name_map = {\n",
    "    'resource-development': 'Resource Development',\n",
    "    'collection': 'Collection',\n",
    "    'command-and-control': 'Command and Control',\n",
    "    'credential-access': 'Credential Access',\n",
    "    'defense-evasion': 'Defense Evasion',\n",
    "    'discovery': 'Discovery',\n",
    "    'execution': 'Execution',\n",
    "    'exfiltration': 'Exfiltration',\n",
    "    'impact': 'Impact',\n",
    "    'initial-access': 'Initial Access',\n",
    "    'lateral-movement': 'Lateral Movement',\n",
    "    'persistence': 'Persistence',\n",
    "    'privilege-escalation': 'Privilege Escalation',\n",
    "    'reconnaissance': 'Reconnaissance'\n",
    "}\n",
    "percentages_df.index = percentages_df.index.map(tactic_name_map)\n",
    "percentages_df = percentages_df.reindex(ordered_tactic_names)\n",
    "\n",
    "# Round the percentages for better readability\n",
    "percentages_df = percentages_df.round(2)\n",
    "\n",
    "# Step 3: Add a bullet before the top 3 values in each column\n",
    "def format_column_top3_with_bullet(df):\n",
    "    # Iterate through each column to identify the top 3 values and apply bullet formatting\n",
    "    for column in df.columns:\n",
    "        top3_indices = df[column].nlargest(3).index  # Get the indices of the top 3 values\n",
    "        df[column] = df[column].apply(lambda x: f'$\\\\bullet$\\\\ {x:.2f}\\\\%' if x in df.loc[top3_indices, column].values else f'{x:.2f}\\\\%')\n",
    "    return df\n",
    "\n",
    "# Format the DataFrame with bullets for the top 3 values in each column\n",
    "formatted_df = format_column_top3_with_bullet(percentages_df.copy())\n",
    "\n",
    "# Step 4: Calculate the sum for each column and add as the last row\n",
    "summary_row = percentages_df.sum().round(2).apply(lambda x: f'{x:.2f}\\\\%')\n",
    "formatted_df.loc['$\\sum$'] = summary_row\n",
    "\n",
    "# Step 5: Generate the LaTeX table\n",
    "latex_table = \"\\\\begin{tabular}{lrrr}\\n\\\\toprule\\n\"\n",
    "latex_table += \" \\\\textbf{ATT\\&CK Tactic} & \\\\textbf{Hardware} & \\\\textbf{Operating System} & \\\\textbf{Software} \\\\\\\\\\n\\\\midrule\\n\"\n",
    "\n",
    "for idx, row in formatted_df.iterrows():  # Iterate over the DataFrame rows\n",
    "    row_values = \" & \".join(row)\n",
    "    latex_table += f\"{idx} & {row_values} \\\\\\\\\\n\"\n",
    "\n",
    "latex_table += \"\\\\bottomrule\\n\\\\end{tabular}\"\n",
    "\n",
    "# Output the generated LaTeX table\n",
    "print(latex_table)\n"
   ]
  },
  {
   "cell_type": "code",
   "execution_count": 57,
   "id": "e3643b25",
   "metadata": {},
   "outputs": [
    {
     "data": {
      "image/png": "[encoded data removed]",
      "text/plain": [
       "<Figure size 1000x800 with 2 Axes>"
      ]
     },
     "metadata": {},
     "output_type": "display_data"
    }
   ],
   "source": [
    "# Step 2: Filter out NaN values from 'attack_tactic' and ensure all values are lists\n",
    "a35_df = attack_df.dropna(subset=['attack_tactic']).copy()  # Make a copy to avoid SettingWithCopyWarning\n",
    "a35_df.loc[:, 'attack_tactic'] = a35_df['attack_tactic'].apply(lambda x: ast.literal_eval(x) if isinstance(x, str) else x)\n",
    "\n",
    "# Step 3: Translate attack tactics using the mapping and filter only mapped values\n",
    "def translate_tactics(tactics):\n",
    "    # Use tactic_mapping to translate each tactic\n",
    "    return [tactic_mapping[t] for t in tactics if t in tactic_mapping]\n",
    "\n",
    "a35_df.loc[:, 'attack_tactic'] = a35_df['attack_tactic'].apply(translate_tactics)\n",
    "\n",
    "# Step 4: Remove rows where no valid tactics are left after mapping\n",
    "a35_df = a35_df[a35_df['attack_tactic'].apply(lambda x: len(x) > 0)]\n",
    "\n",
    "# Step 5: Grouping by CVE ID and converting attack tactics into a list\n",
    "# Flatten any nested lists (in case of double nesting)\n",
    "def flatten(tactic_list):\n",
    "    return [item for sublist in tactic_list for item in sublist] if isinstance(tactic_list[0], list) else tactic_list\n",
    "\n",
    "co_occurrence = a35_df.groupby('cve_id')['attack_tactic'].apply(lambda x: flatten(list(x)))\n",
    "\n",
    "# Step 6: MultiLabelBinarizer transformation to create binary matrix for attack tactics\n",
    "mlb = MultiLabelBinarizer()\n",
    "\n",
    "# Use tqdm to monitor the transformation process\n",
    "binary_matrix = pd.DataFrame(mlb.fit_transform(co_occurrence), columns=mlb.classes_, index=co_occurrence.index)\n",
    "\n",
    "# Step 7: Create co-occurrence matrix (how often tactics occur together)\n",
    "co_occurrence_matrix = binary_matrix.T.dot(binary_matrix)\n",
    "\n",
    "# Visualize the co-occurrence matrix\n",
    "plt.figure(figsize=(10, 8))\n",
    "sns.heatmap(co_occurrence_matrix, cmap=\"Blues\", annot=False)\n",
    "plt.title('Co-Occurrence matrix of ATT&CK tactics')\n",
    "plt.show()"
   ]
  },
  {
   "cell_type": "code",
   "execution_count": 58,
   "id": "a49eaee2",
   "metadata": {},
   "outputs": [
    {
     "name": "stdout",
     "output_type": "stream",
     "text": [
      "CVEs with only one unique tactic: 88157 out of 159301 CVEs\n",
      "Percentage of CVEs with one unique tactic: 55.34%\n",
      "CVEs with two unique tactics: 48463 out of 159301 CVEs\n",
      "Percentage of CVEs with two unique tactics: 30.42%\n",
      "CVEs with three unique tactics: 15743 out of 159301 CVEs\n",
      "Percentage of CVEs with three unique tactics: 9.88%\n",
      "CVEs with four unique tactics: 4906 out of 159301 CVEs\n",
      "Percentage of CVEs with four unique tactics: 3.08%\n",
      "CVEs with five unique tactics: 1385 out of 159301 CVEs\n",
      "Percentage of CVEs with five unique tactics: 0.87%\n",
      "CVEs with six unique tactics: 422 out of 159301 CVEs\n",
      "Percentage of CVEs with six unique tactics: 0.26%\n",
      "CVEs with seven unique tactics: 191 out of 159301 CVEs\n",
      "Percentage of CVEs with seven unique tactics: 0.12%\n",
      "CVEs with eight unique tactics: 33 out of 159301 CVEs\n",
      "Percentage of CVEs with eight unique tactics: 0.02%\n",
      "CVEs with nine unique tactics: 1 out of 159301 CVEs\n",
      "Percentage of CVEs with nine unique tactics: 0.00%\n",
      "CVEs with ten unique tactics: 0 out of 159301 CVEs\n",
      "Percentage of CVEs with ten unique tactics: 0.00%\n",
      "CVEs with eleven unique tactics: 0 out of 159301 CVEs\n",
      "Percentage of CVEs with eleven unique tactics: 0.00%\n",
      "CVEs with twelve unique tactics: 0 out of 159301 CVEs\n",
      "Percentage of CVEs with twelve unique tactics: 0.00%\n",
      "CVEs with thirteen unique tactics: 0 out of 159301 CVEs\n",
      "Percentage of CVEs with thirteen unique tactics: 0.00%\n",
      "CVEs with fourteen unique tactics: 0 out of 159301 CVEs\n",
      "Percentage of CVEs with fourteen unique tactics: 0.00%\n"
     ]
    }
   ],
   "source": [
    "import pandas as pd\n",
    "import ast\n",
    "\n",
    "# Assuming 'df' is your original DataFrame that contains 'cve_id' and 'attack_tactic' columns\n",
    "\n",
    "# Step 1: Ensure 'attack_tactic' is a list (if it's stored as a string in some cases)\n",
    "attack_df['attack_tactic'] = attack_df['attack_tactic'].apply(lambda x: ast.literal_eval(x) if isinstance(x, str) else x)\n",
    "\n",
    "# Step 2: Drop rows where 'attack_tactic' is NaN or invalid (e.g., not a list)\n",
    "a35_df = attack_df.dropna(subset=['attack_tactic'])\n",
    "\n",
    "# Step 3: Aggregate attack tactics by CVE ID\n",
    "a35_df = a35_df.groupby('cve_id')['attack_tactic'].agg(lambda x: [item for sublist in x for item in sublist]).reset_index()\n",
    "\n",
    "# Step 4: Filter CVEs based on the number of unique tactics\n",
    "a35_df['unique_tactics'] = a35_df['attack_tactic'].apply(lambda tactics: len(set(tactics)))  # Count unique tactics\n",
    "\n",
    "# Step 5: Calculate the number and percentage of CVEs with 1 to 14 unique tactics\n",
    "total_cves = a35_df['cve_id'].nunique()\n",
    "\n",
    "single_tactic_cves = a35_df[a35_df['unique_tactics'] == 1]['cve_id'].nunique()\n",
    "two_tactic_cves = a35_df[a35_df['unique_tactics'] == 2]['cve_id'].nunique()\n",
    "three_tactic_cves = a35_df[a35_df['unique_tactics'] == 3]['cve_id'].nunique()\n",
    "four_tactic_cves = a35_df[a35_df['unique_tactics'] == 4]['cve_id'].nunique()\n",
    "five_tactic_cves = a35_df[a35_df['unique_tactics'] == 5]['cve_id'].nunique()\n",
    "six_tactic_cves = a35_df[a35_df['unique_tactics'] == 6]['cve_id'].nunique()\n",
    "seven_tactic_cves = a35_df[a35_df['unique_tactics'] == 7]['cve_id'].nunique()\n",
    "eight_tactic_cves = a35_df[a35_df['unique_tactics'] == 8]['cve_id'].nunique()\n",
    "nine_tactic_cves = a35_df[a35_df['unique_tactics'] == 9]['cve_id'].nunique()\n",
    "ten_tactic_cves = a35_df[a35_df['unique_tactics'] == 10]['cve_id'].nunique()\n",
    "eleven_tactic_cves = a35_df[a35_df['unique_tactics'] == 11]['cve_id'].nunique()\n",
    "twelve_tactic_cves = a35_df[a35_df['unique_tactics'] == 12]['cve_id'].nunique()\n",
    "thirteen_tactic_cves = a35_df[a35_df['unique_tactics'] == 13]['cve_id'].nunique()\n",
    "fourteen_tactic_cves = a35_df[a35_df['unique_tactics'] == 14]['cve_id'].nunique()\n",
    "\n",
    "# Calculate percentages\n",
    "percentage_single_tactic = (single_tactic_cves / total_cves) * 100\n",
    "percentage_two_tactic = (two_tactic_cves / total_cves) * 100\n",
    "percentage_three_tactic = (three_tactic_cves / total_cves) * 100\n",
    "percentage_four_tactic = (four_tactic_cves / total_cves) * 100\n",
    "percentage_five_tactic = (five_tactic_cves / total_cves) * 100\n",
    "percentage_six_tactic = (six_tactic_cves / total_cves) * 100\n",
    "percentage_seven_tactic = (seven_tactic_cves / total_cves) * 100\n",
    "percentage_eight_tactic = (eight_tactic_cves / total_cves) * 100\n",
    "percentage_nine_tactic = (nine_tactic_cves / total_cves) * 100\n",
    "percentage_ten_tactic = (ten_tactic_cves / total_cves) * 100\n",
    "percentage_eleven_tactic = (eleven_tactic_cves / total_cves) * 100\n",
    "percentage_twelve_tactic = (twelve_tactic_cves / total_cves) * 100\n",
    "percentage_thirteen_tactic = (thirteen_tactic_cves / total_cves) * 100\n",
    "percentage_fourteen_tactic = (fourteen_tactic_cves / total_cves) * 100\n",
    "\n",
    "# Step 6: Display the results\n",
    "print(f\"CVEs with only one unique tactic: {single_tactic_cves} out of {total_cves} CVEs\")\n",
    "print(f\"Percentage of CVEs with one unique tactic: {percentage_single_tactic:.2f}%\")\n",
    "\n",
    "print(f\"CVEs with two unique tactics: {two_tactic_cves} out of {total_cves} CVEs\")\n",
    "print(f\"Percentage of CVEs with two unique tactics: {percentage_two_tactic:.2f}%\")\n",
    "\n",
    "print(f\"CVEs with three unique tactics: {three_tactic_cves} out of {total_cves} CVEs\")\n",
    "print(f\"Percentage of CVEs with three unique tactics: {percentage_three_tactic:.2f}%\")\n",
    "\n",
    "print(f\"CVEs with four unique tactics: {four_tactic_cves} out of {total_cves} CVEs\")\n",
    "print(f\"Percentage of CVEs with four unique tactics: {percentage_four_tactic:.2f}%\")\n",
    "\n",
    "print(f\"CVEs with five unique tactics: {five_tactic_cves} out of {total_cves} CVEs\")\n",
    "print(f\"Percentage of CVEs with five unique tactics: {percentage_five_tactic:.2f}%\")\n",
    "\n",
    "print(f\"CVEs with six unique tactics: {six_tactic_cves} out of {total_cves} CVEs\")\n",
    "print(f\"Percentage of CVEs with six unique tactics: {percentage_six_tactic:.2f}%\")\n",
    "\n",
    "print(f\"CVEs with seven unique tactics: {seven_tactic_cves} out of {total_cves} CVEs\")\n",
    "print(f\"Percentage of CVEs with seven unique tactics: {percentage_seven_tactic:.2f}%\")\n",
    "\n",
    "print(f\"CVEs with eight unique tactics: {eight_tactic_cves} out of {total_cves} CVEs\")\n",
    "print(f\"Percentage of CVEs with eight unique tactics: {percentage_eight_tactic:.2f}%\")\n",
    "\n",
    "print(f\"CVEs with nine unique tactics: {nine_tactic_cves} out of {total_cves} CVEs\")\n",
    "print(f\"Percentage of CVEs with nine unique tactics: {percentage_nine_tactic:.2f}%\")\n",
    "\n",
    "print(f\"CVEs with ten unique tactics: {ten_tactic_cves} out of {total_cves} CVEs\")\n",
    "print(f\"Percentage of CVEs with ten unique tactics: {percentage_ten_tactic:.2f}%\")\n",
    "\n",
    "print(f\"CVEs with eleven unique tactics: {eleven_tactic_cves} out of {total_cves} CVEs\")\n",
    "print(f\"Percentage of CVEs with eleven unique tactics: {percentage_eleven_tactic:.2f}%\")\n",
    "\n",
    "print(f\"CVEs with twelve unique tactics: {twelve_tactic_cves} out of {total_cves} CVEs\")\n",
    "print(f\"Percentage of CVEs with twelve unique tactics: {percentage_twelve_tactic:.2f}%\")\n",
    "\n",
    "print(f\"CVEs with thirteen unique tactics: {thirteen_tactic_cves} out of {total_cves} CVEs\")\n",
    "print(f\"Percentage of CVEs with thirteen unique tactics: {percentage_thirteen_tactic:.2f}%\")\n",
    "\n",
    "print(f\"CVEs with fourteen unique tactics: {fourteen_tactic_cves} out of {total_cves} CVEs\")\n",
    "print(f\"Percentage of CVEs with fourteen unique tactics: {percentage_fourteen_tactic:.2f}%\")\n",
    "\n",
    "# Optionally, save the results to a file\n",
    "# df_aggregated.to_csv(\"cves_with_tactic_counts.csv\", index=False)\n"
   ]
  },
  {
   "cell_type": "code",
   "execution_count": 59,
   "id": "40266ac7",
   "metadata": {},
   "outputs": [
    {
     "name": "stderr",
     "output_type": "stream",
     "text": [
      "  7%|███▏                                        | 1/14 [00:01<00:13,  1.02s/it]"
     ]
    },
    {
     "name": "stdout",
     "output_type": "stream",
     "text": [
      "                           Logit Regression Results                           \n",
      "==============================================================================\n",
      "Dep. Variable:             Collection   No. Observations:               159301\n",
      "Model:                          Logit   Df Residuals:                   159287\n",
      "Method:                           MLE   Df Model:                           13\n",
      "Date:                Mon, 18 Nov 2024   Pseudo R-squ.:                  0.1129\n",
      "Time:                        10:23:18   Log-Likelihood:                -28044.\n",
      "converged:                       True   LL-Null:                       -31615.\n",
      "Covariance Type:            nonrobust   LLR p-value:                     0.000\n",
      "========================================================================================\n",
      "                           coef    std err          z      P>|z|      [0.025      0.975]\n",
      "----------------------------------------------------------------------------------------\n",
      "const                   -1.2292      0.029    -42.930      0.000      -1.285      -1.173\n",
      "Command and Control     -1.4735      0.055    -26.855      0.000      -1.581      -1.366\n",
      "Credential Access       -0.1810      0.039     -4.605      0.000      -0.258      -0.104\n",
      "Defense Evasion         -1.3398      0.034    -39.342      0.000      -1.407      -1.273\n",
      "Discovery               -1.1506      0.044    -26.063      0.000      -1.237      -1.064\n",
      "Execution               -1.8317      0.037    -50.095      0.000      -1.903      -1.760\n",
      "Exfiltration            -0.9801      0.369     -2.654      0.008      -1.704      -0.256\n",
      "Impact                  -1.8624      0.041    -45.274      0.000      -1.943      -1.782\n",
      "Initial Access          -1.5894      0.053    -29.728      0.000      -1.694      -1.485\n",
      "Lateral Movement         0.4039      0.042      9.652      0.000       0.322       0.486\n",
      "Persistence             -0.9651      0.044    -21.874      0.000      -1.052      -0.879\n",
      "Privilege Escalation    -1.6084      0.056    -28.528      0.000      -1.719      -1.498\n",
      "Reconnaissance          -0.0757      0.186     -0.406      0.685      -0.441       0.289\n",
      "Resource Development    -1.2268      0.109    -11.256      0.000      -1.440      -1.013\n",
      "========================================================================================\n"
     ]
    },
    {
     "name": "stderr",
     "output_type": "stream",
     "text": [
      " 14%|██████▎                                     | 2/14 [00:02<00:14,  1.21s/it]"
     ]
    },
    {
     "name": "stdout",
     "output_type": "stream",
     "text": [
      "                            Logit Regression Results                           \n",
      "===============================================================================\n",
      "Dep. Variable:     Command and Control   No. Observations:               159301\n",
      "Model:                           Logit   Df Residuals:                   159287\n",
      "Method:                            MLE   Df Model:                           13\n",
      "Date:                 Mon, 18 Nov 2024   Pseudo R-squ.:                 0.09883\n",
      "Time:                         10:23:20   Log-Likelihood:                -40283.\n",
      "converged:                        True   LL-Null:                       -44701.\n",
      "Covariance Type:             nonrobust   LLR p-value:                     0.000\n",
      "========================================================================================\n",
      "                           coef    std err          z      P>|z|      [0.025      0.975]\n",
      "----------------------------------------------------------------------------------------\n",
      "const                   -0.6748      0.022    -31.383      0.000      -0.717      -0.633\n",
      "Collection              -1.3580      0.053    -25.558      0.000      -1.462      -1.254\n",
      "Credential Access       -1.4524      0.048    -30.254      0.000      -1.547      -1.358\n",
      "Defense Evasion         -1.1329      0.027    -42.171      0.000      -1.186      -1.080\n",
      "Discovery               -1.1286      0.035    -32.068      0.000      -1.198      -1.060\n",
      "Execution               -1.4804      0.027    -55.499      0.000      -1.533      -1.428\n",
      "Exfiltration             0.0377      0.202      0.186      0.852      -0.359       0.434\n",
      "Impact                  -1.7881      0.031    -58.181      0.000      -1.848      -1.728\n",
      "Initial Access          -1.6394      0.041    -40.223      0.000      -1.719      -1.560\n",
      "Lateral Movement        -0.9666      0.054    -17.925      0.000      -1.072      -0.861\n",
      "Persistence             -1.2191      0.039    -31.092      0.000      -1.296      -1.142\n",
      "Privilege Escalation    -1.6724      0.043    -38.966      0.000      -1.756      -1.588\n",
      "Reconnaissance          -0.8254      0.209     -3.953      0.000      -1.235      -0.416\n",
      "Resource Development    -0.7725      0.067    -11.544      0.000      -0.904      -0.641\n",
      "========================================================================================\n"
     ]
    },
    {
     "name": "stderr",
     "output_type": "stream",
     "text": [
      " 21%|█████████▍                                  | 3/14 [00:03<00:11,  1.08s/it]"
     ]
    },
    {
     "name": "stdout",
     "output_type": "stream",
     "text": [
      "                           Logit Regression Results                           \n",
      "==============================================================================\n",
      "Dep. Variable:      Credential Access   No. Observations:               159301\n",
      "Model:                          Logit   Df Residuals:                   159287\n",
      "Method:                           MLE   Df Model:                           13\n",
      "Date:                Mon, 18 Nov 2024   Pseudo R-squ.:                  0.1331\n",
      "Time:                        10:23:21   Log-Likelihood:                -36762.\n",
      "converged:                       True   LL-Null:                       -42406.\n",
      "Covariance Type:            nonrobust   LLR p-value:                     0.000\n",
      "========================================================================================\n",
      "                           coef    std err          z      P>|z|      [0.025      0.975]\n",
      "----------------------------------------------------------------------------------------\n",
      "const                   -1.8796      0.022    -84.877      0.000      -1.923      -1.836\n",
      "Collection               0.2398      0.037      6.485      0.000       0.167       0.312\n",
      "Command and Control     -0.9662      0.047    -20.707      0.000      -1.058      -0.875\n",
      "Defense Evasion          0.1092      0.023      4.750      0.000       0.064       0.154\n",
      "Discovery                0.0069      0.030      0.228      0.820      -0.052       0.066\n",
      "Execution               -1.2909      0.030    -43.174      0.000      -1.350      -1.232\n",
      "Exfiltration            -0.8224      0.389     -2.112      0.035      -1.585      -0.059\n",
      "Impact                  -1.7515      0.040    -43.421      0.000      -1.831      -1.672\n",
      "Initial Access          -1.2430      0.048    -25.638      0.000      -1.338      -1.148\n",
      "Lateral Movement         0.3437      0.037      9.336      0.000       0.272       0.416\n",
      "Persistence              1.0181      0.024     41.900      0.000       0.970       1.066\n",
      "Privilege Escalation    -1.3125      0.035    -37.575      0.000      -1.381      -1.244\n",
      "Reconnaissance          -0.6436      0.253     -2.543      0.011      -1.140      -0.148\n",
      "Resource Development    -1.5582      0.108    -14.430      0.000      -1.770      -1.347\n",
      "========================================================================================\n"
     ]
    },
    {
     "name": "stderr",
     "output_type": "stream",
     "text": [
      " 29%|████████████▌                               | 4/14 [00:04<00:09,  1.03it/s]"
     ]
    },
    {
     "name": "stdout",
     "output_type": "stream",
     "text": [
      "                           Logit Regression Results                           \n",
      "==============================================================================\n",
      "Dep. Variable:        Defense Evasion   No. Observations:               159301\n",
      "Model:                          Logit   Df Residuals:                   159287\n",
      "Method:                           MLE   Df Model:                           13\n",
      "Date:                Mon, 18 Nov 2024   Pseudo R-squ.:                  0.2358\n",
      "Time:                        10:23:21   Log-Likelihood:                -77407.\n",
      "converged:                       True   LL-Null:                   -1.0129e+05\n",
      "Covariance Type:            nonrobust   LLR p-value:                     0.000\n",
      "========================================================================================\n",
      "                           coef    std err          z      P>|z|      [0.025      0.975]\n",
      "----------------------------------------------------------------------------------------\n",
      "const                   -0.5133      0.012    -41.796      0.000      -0.537      -0.489\n",
      "Collection              -1.0061      0.032    -31.392      0.000      -1.069      -0.943\n",
      "Command and Control     -0.6922      0.025    -28.188      0.000      -0.740      -0.644\n",
      "Credential Access        0.1029      0.022      4.628      0.000       0.059       0.146\n",
      "Discovery               -0.4163      0.021    -19.736      0.000      -0.458      -0.375\n",
      "Execution               -1.0736      0.015    -69.344      0.000      -1.104      -1.043\n",
      "Exfiltration            -0.4194      0.187     -2.237      0.025      -0.787      -0.052\n",
      "Impact                  -0.9659      0.018    -53.994      0.000      -1.001      -0.931\n",
      "Initial Access          -0.9858      0.023    -42.813      0.000      -1.031      -0.941\n",
      "Lateral Movement         0.5973      0.027     22.515      0.000       0.545       0.649\n",
      "Persistence              0.3828      0.019     20.348      0.000       0.346       0.420\n",
      "Privilege Escalation     2.5362      0.019    134.509      0.000       2.499       2.573\n",
      "Reconnaissance          -1.7366      0.214     -8.133      0.000      -2.155      -1.318\n",
      "Resource Development     1.0666      0.039     27.307      0.000       0.990       1.143\n",
      "========================================================================================\n"
     ]
    },
    {
     "name": "stderr",
     "output_type": "stream",
     "text": [
      " 36%|███████████████▋                            | 5/14 [00:04<00:08,  1.06it/s]"
     ]
    },
    {
     "name": "stdout",
     "output_type": "stream",
     "text": [
      "                           Logit Regression Results                           \n",
      "==============================================================================\n",
      "Dep. Variable:              Discovery   No. Observations:               159301\n",
      "Model:                          Logit   Df Residuals:                   159287\n",
      "Method:                           MLE   Df Model:                           13\n",
      "Date:                Mon, 18 Nov 2024   Pseudo R-squ.:                  0.1432\n",
      "Time:                        10:23:22   Log-Likelihood:                -43913.\n",
      "converged:                       True   LL-Null:                       -51252.\n",
      "Covariance Type:            nonrobust   LLR p-value:                     0.000\n",
      "========================================================================================\n",
      "                           coef    std err          z      P>|z|      [0.025      0.975]\n",
      "----------------------------------------------------------------------------------------\n",
      "const                   -0.4145      0.019    -22.041      0.000      -0.451      -0.378\n",
      "Collection              -1.0447      0.042    -24.975      0.000      -1.127      -0.963\n",
      "Command and Control     -1.1441      0.035    -33.011      0.000      -1.212      -1.076\n",
      "Credential Access       -0.4636      0.031    -14.778      0.000      -0.525      -0.402\n",
      "Defense Evasion         -0.8152      0.023    -35.879      0.000      -0.860      -0.771\n",
      "Execution               -1.9058      0.026    -72.289      0.000      -1.958      -1.854\n",
      "Exfiltration            -1.0855      0.280     -3.873      0.000      -1.635      -0.536\n",
      "Impact                  -2.5413      0.034    -74.927      0.000      -2.608      -2.475\n",
      "Initial Access          -2.2655      0.049    -46.639      0.000      -2.361      -2.170\n",
      "Lateral Movement        -1.1049      0.049    -22.462      0.000      -1.201      -1.009\n",
      "Persistence             -1.2921      0.034    -38.223      0.000      -1.358      -1.226\n",
      "Privilege Escalation    -1.4049      0.032    -43.652      0.000      -1.468      -1.342\n",
      "Reconnaissance          -0.2238      0.158     -1.413      0.158      -0.534       0.087\n",
      "Resource Development    -2.0479      0.097    -21.097      0.000      -2.238      -1.858\n",
      "========================================================================================\n"
     ]
    },
    {
     "name": "stderr",
     "output_type": "stream",
     "text": [
      " 43%|██████████████████▊                         | 6/14 [00:05<00:07,  1.10it/s]"
     ]
    },
    {
     "name": "stdout",
     "output_type": "stream",
     "text": [
      "                           Logit Regression Results                           \n",
      "==============================================================================\n",
      "Dep. Variable:              Execution   No. Observations:               159301\n",
      "Model:                          Logit   Df Residuals:                   159287\n",
      "Method:                           MLE   Df Model:                           13\n",
      "Date:                Mon, 18 Nov 2024   Pseudo R-squ.:                  0.1721\n",
      "Time:                        10:23:23   Log-Likelihood:                -83051.\n",
      "converged:                       True   LL-Null:                   -1.0031e+05\n",
      "Covariance Type:            nonrobust   LLR p-value:                     0.000\n",
      "========================================================================================\n",
      "                           coef    std err          z      P>|z|      [0.025      0.975]\n",
      "----------------------------------------------------------------------------------------\n",
      "const                    0.4902      0.011     44.624      0.000       0.469       0.512\n",
      "Collection              -1.4392      0.032    -44.297      0.000      -1.503      -1.376\n",
      "Command and Control     -1.1061      0.024    -46.427      0.000      -1.153      -1.059\n",
      "Credential Access       -1.4683      0.029    -49.869      0.000      -1.526      -1.411\n",
      "Defense Evasion         -1.1688      0.016    -74.560      0.000      -1.200      -1.138\n",
      "Discovery               -1.5572      0.024    -64.163      0.000      -1.605      -1.510\n",
      "Exfiltration            -1.3091      0.211     -6.198      0.000      -1.723      -0.895\n",
      "Impact                  -2.1444      0.019   -112.680      0.000      -2.182      -2.107\n",
      "Initial Access           0.3915      0.018     21.684      0.000       0.356       0.427\n",
      "Lateral Movement        -0.1818      0.028     -6.457      0.000      -0.237      -0.127\n",
      "Persistence             -0.9204      0.021    -43.091      0.000      -0.962      -0.879\n",
      "Privilege Escalation    -0.5370      0.019    -27.571      0.000      -0.575      -0.499\n",
      "Reconnaissance          -0.9486      0.142     -6.668      0.000      -1.227      -0.670\n",
      "Resource Development    -1.5470      0.055    -28.043      0.000      -1.655      -1.439\n",
      "========================================================================================\n"
     ]
    },
    {
     "name": "stderr",
     "output_type": "stream",
     "text": [
      "/Users/philipempl/anaconda3/lib/python3.11/site-packages/statsmodels/base/model.py:607: ConvergenceWarning:\n",
      "\n",
      "Maximum Likelihood optimization failed to converge. Check mle_retvals\n",
      "\n",
      " 50%|██████████████████████                      | 7/14 [00:08<00:10,  1.48s/it]"
     ]
    },
    {
     "name": "stdout",
     "output_type": "stream",
     "text": [
      "                           Logit Regression Results                           \n",
      "==============================================================================\n",
      "Dep. Variable:           Exfiltration   No. Observations:               159301\n",
      "Model:                          Logit   Df Residuals:                   159287\n",
      "Method:                           MLE   Df Model:                           13\n",
      "Date:                Mon, 18 Nov 2024   Pseudo R-squ.:                 0.05192\n",
      "Time:                        10:23:26   Log-Likelihood:                -1411.7\n",
      "converged:                      False   LL-Null:                       -1489.0\n",
      "Covariance Type:            nonrobust   LLR p-value:                 2.422e-26\n",
      "========================================================================================\n",
      "                           coef    std err          z      P>|z|      [0.025      0.975]\n",
      "----------------------------------------------------------------------------------------\n",
      "const                   -5.0627      0.236    -21.420      0.000      -5.526      -4.599\n",
      "Collection              -1.0568      0.395     -2.673      0.008      -1.832      -0.282\n",
      "Command and Control     -0.2209      0.260     -0.849      0.396      -0.731       0.289\n",
      "Credential Access       -1.4798      0.423     -3.502      0.000      -2.308      -0.652\n",
      "Defense Evasion         -0.9789      0.236     -4.149      0.000      -1.441      -0.516\n",
      "Discovery               -1.2916      0.320     -4.038      0.000      -1.919      -0.665\n",
      "Execution               -1.7788      0.269     -6.613      0.000      -2.306      -1.252\n",
      "Impact                  -0.9447      0.248     -3.815      0.000      -1.430      -0.459\n",
      "Initial Access          -2.1204      0.448     -4.738      0.000      -2.998      -1.243\n",
      "Lateral Movement        -0.7694      0.405     -1.898      0.058      -1.564       0.025\n",
      "Persistence             -2.1566      0.486     -4.436      0.000      -3.109      -1.204\n",
      "Privilege Escalation    -1.7161      0.366     -4.692      0.000      -2.433      -0.999\n",
      "Reconnaissance         -14.0826   1230.578     -0.011      0.991   -2425.972    2397.807\n",
      "Resource Development    -2.1480      1.011     -2.125      0.034      -4.129      -0.167\n",
      "========================================================================================\n",
      "\n",
      "Possibly complete quasi-separation: A fraction 0.11 of observations can be\n",
      "perfectly predicted. This might indicate that there is complete\n",
      "quasi-separation. In this case some parameters will not be identified.\n"
     ]
    },
    {
     "name": "stderr",
     "output_type": "stream",
     "text": [
      " 57%|█████████████████████████▏                  | 8/14 [00:09<00:07,  1.28s/it]"
     ]
    },
    {
     "name": "stdout",
     "output_type": "stream",
     "text": [
      "                           Logit Regression Results                           \n",
      "==============================================================================\n",
      "Dep. Variable:                 Impact   No. Observations:               159301\n",
      "Model:                          Logit   Df Residuals:                   159287\n",
      "Method:                           MLE   Df Model:                           13\n",
      "Date:                Mon, 18 Nov 2024   Pseudo R-squ.:                  0.2982\n",
      "Time:                        10:23:27   Log-Likelihood:                -58114.\n",
      "converged:                       True   LL-Null:                       -82802.\n",
      "Covariance Type:            nonrobust   LLR p-value:                     0.000\n",
      "========================================================================================\n",
      "                           coef    std err          z      P>|z|      [0.025      0.975]\n",
      "----------------------------------------------------------------------------------------\n",
      "const                    1.0511      0.014     73.984      0.000       1.023       1.079\n",
      "Collection              -1.8317      0.038    -47.623      0.000      -1.907      -1.756\n",
      "Command and Control     -2.0070      0.030    -67.966      0.000      -2.065      -1.949\n",
      "Credential Access       -2.5843      0.041    -62.515      0.000      -2.665      -2.503\n",
      "Defense Evasion         -1.6312      0.020    -82.792      0.000      -1.670      -1.593\n",
      "Discovery               -2.7542      0.034    -82.067      0.000      -2.820      -2.688\n",
      "Execution               -2.6861      0.021   -128.332      0.000      -2.727      -2.645\n",
      "Exfiltration            -0.9266      0.181     -5.117      0.000      -1.282      -0.572\n",
      "Initial Access          -2.3254      0.031    -76.005      0.000      -2.385      -2.265\n",
      "Lateral Movement        -2.6215      0.061    -43.144      0.000      -2.741      -2.502\n",
      "Persistence             -2.6294      0.036    -73.407      0.000      -2.700      -2.559\n",
      "Privilege Escalation    -2.0571      0.029    -71.205      0.000      -2.114      -2.000\n",
      "Reconnaissance          -3.9356      0.419     -9.401      0.000      -4.756      -3.115\n",
      "Resource Development    -3.2172      0.105    -30.599      0.000      -3.423      -3.011\n",
      "========================================================================================\n"
     ]
    },
    {
     "name": "stderr",
     "output_type": "stream",
     "text": [
      " 64%|████████████████████████████▎               | 9/14 [00:10<00:05,  1.17s/it]"
     ]
    },
    {
     "name": "stdout",
     "output_type": "stream",
     "text": [
      "                           Logit Regression Results                           \n",
      "==============================================================================\n",
      "Dep. Variable:         Initial Access   No. Observations:               159301\n",
      "Model:                          Logit   Df Residuals:                   159287\n",
      "Method:                           MLE   Df Model:                           13\n",
      "Date:                Mon, 18 Nov 2024   Pseudo R-squ.:                  0.1273\n",
      "Time:                        10:23:28   Log-Likelihood:                -52618.\n",
      "converged:                       True   LL-Null:                       -60294.\n",
      "Covariance Type:            nonrobust   LLR p-value:                     0.000\n",
      "========================================================================================\n",
      "                           coef    std err          z      P>|z|      [0.025      0.975]\n",
      "----------------------------------------------------------------------------------------\n",
      "const                   -1.1487      0.018    -62.211      0.000      -1.185      -1.113\n",
      "Collection              -1.1248      0.051    -22.061      0.000      -1.225      -1.025\n",
      "Command and Control     -1.2181      0.040    -30.702      0.000      -1.296      -1.140\n",
      "Credential Access       -1.3563      0.048    -28.042      0.000      -1.451      -1.262\n",
      "Defense Evasion         -1.0498      0.024    -44.323      0.000      -1.096      -1.003\n",
      "Discovery               -1.8426      0.048    -38.533      0.000      -1.936      -1.749\n",
      "Execution                0.3447      0.019     17.849      0.000       0.307       0.383\n",
      "Exfiltration            -1.6037      0.419     -3.823      0.000      -2.426      -0.782\n",
      "Impact                  -1.6726      0.030    -56.027      0.000      -1.731      -1.614\n",
      "Lateral Movement        -0.9992      0.049    -20.548      0.000      -1.094      -0.904\n",
      "Persistence             -0.0711      0.027     -2.652      0.008      -0.124      -0.019\n",
      "Privilege Escalation    -0.4603      0.029    -15.980      0.000      -0.517      -0.404\n",
      "Reconnaissance          -0.6602      0.207     -3.192      0.001      -1.066      -0.255\n",
      "Resource Development    -1.1268      0.084    -13.395      0.000      -1.292      -0.962\n",
      "========================================================================================\n"
     ]
    },
    {
     "name": "stderr",
     "output_type": "stream",
     "text": [
      " 71%|██████████████████████████████▋            | 10/14 [00:11<00:04,  1.07s/it]"
     ]
    },
    {
     "name": "stdout",
     "output_type": "stream",
     "text": [
      "                           Logit Regression Results                           \n",
      "==============================================================================\n",
      "Dep. Variable:       Lateral Movement   No. Observations:               159301\n",
      "Model:                          Logit   Df Residuals:                   159287\n",
      "Method:                           MLE   Df Model:                           13\n",
      "Date:                Mon, 18 Nov 2024   Pseudo R-squ.:                 0.08477\n",
      "Time:                        10:23:28   Log-Likelihood:                -27998.\n",
      "converged:                       True   LL-Null:                       -30591.\n",
      "Covariance Type:            nonrobust   LLR p-value:                     0.000\n",
      "========================================================================================\n",
      "                           coef    std err          z      P>|z|      [0.025      0.975]\n",
      "----------------------------------------------------------------------------------------\n",
      "const                   -2.5655      0.028    -91.379      0.000      -2.621      -2.510\n",
      "Collection               0.7791      0.040     19.546      0.000       0.701       0.857\n",
      "Command and Control     -0.6747      0.053    -12.667      0.000      -0.779      -0.570\n",
      "Credential Access        0.3728      0.037     10.020      0.000       0.300       0.446\n",
      "Defense Evasion          0.5868      0.028     20.733      0.000       0.531       0.642\n",
      "Discovery               -0.8728      0.049    -17.919      0.000      -0.968      -0.777\n",
      "Execution               -0.1017      0.029     -3.453      0.001      -0.159      -0.044\n",
      "Exfiltration            -0.3412      0.390     -0.875      0.382      -1.105       0.423\n",
      "Impact                  -2.1276      0.060    -35.741      0.000      -2.244      -2.011\n",
      "Initial Access          -0.9463      0.049    -19.399      0.000      -1.042      -0.851\n",
      "Persistence             -0.5296      0.041    -12.958      0.000      -0.610      -0.450\n",
      "Privilege Escalation    -1.4277      0.045    -31.877      0.000      -1.516      -1.340\n",
      "Reconnaissance           0.0744      0.235      0.316      0.752      -0.387       0.536\n",
      "Resource Development    -1.6381      0.132    -12.406      0.000      -1.897      -1.379\n",
      "========================================================================================\n"
     ]
    },
    {
     "name": "stderr",
     "output_type": "stream",
     "text": [
      " 79%|█████████████████████████████████▊         | 11/14 [00:11<00:02,  1.01it/s]"
     ]
    },
    {
     "name": "stdout",
     "output_type": "stream",
     "text": [
      "                           Logit Regression Results                           \n",
      "==============================================================================\n",
      "Dep. Variable:            Persistence   No. Observations:               159301\n",
      "Model:                          Logit   Df Residuals:                   159287\n",
      "Method:                           MLE   Df Model:                           13\n",
      "Date:                Mon, 18 Nov 2024   Pseudo R-squ.:                  0.1054\n",
      "Time:                        10:23:29   Log-Likelihood:                -50804.\n",
      "converged:                       True   LL-Null:                       -56793.\n",
      "Covariance Type:            nonrobust   LLR p-value:                     0.000\n",
      "========================================================================================\n",
      "                           coef    std err          z      P>|z|      [0.025      0.975]\n",
      "----------------------------------------------------------------------------------------\n",
      "const                   -1.9103      0.018   -105.442      0.000      -1.946      -1.875\n",
      "Collection              -0.3386      0.041     -8.249      0.000      -0.419      -0.258\n",
      "Command and Control     -0.5114      0.037    -13.909      0.000      -0.583      -0.439\n",
      "Credential Access        1.1976      0.023     50.964      0.000       1.152       1.244\n",
      "Defense Evasion          0.4477      0.020     22.832      0.000       0.409       0.486\n",
      "Discovery               -0.7323      0.033    -22.529      0.000      -0.796      -0.669\n",
      "Execution               -0.7315      0.021    -34.782      0.000      -0.773      -0.690\n",
      "Exfiltration            -1.3848      0.456     -3.034      0.002      -2.279      -0.490\n",
      "Impact                  -1.5744      0.034    -46.447      0.000      -1.641      -1.508\n",
      "Initial Access           0.1131      0.026      4.316      0.000       0.062       0.164\n",
      "Lateral Movement        -0.4728      0.041    -11.612      0.000      -0.553      -0.393\n",
      "Privilege Escalation     0.3919      0.021     18.249      0.000       0.350       0.434\n",
      "Reconnaissance          -0.9804      0.286     -3.425      0.001      -1.541      -0.419\n",
      "Resource Development    -1.0304      0.076    -13.479      0.000      -1.180      -0.881\n",
      "========================================================================================\n"
     ]
    },
    {
     "name": "stderr",
     "output_type": "stream",
     "text": [
      " 86%|████████████████████████████████████▊      | 12/14 [00:12<00:01,  1.03it/s]"
     ]
    },
    {
     "name": "stdout",
     "output_type": "stream",
     "text": [
      "                            Logit Regression Results                            \n",
      "================================================================================\n",
      "Dep. Variable:     Privilege Escalation   No. Observations:               159301\n",
      "Model:                            Logit   Df Residuals:                   159287\n",
      "Method:                             MLE   Df Model:                           13\n",
      "Date:                  Mon, 18 Nov 2024   Pseudo R-squ.:                  0.3071\n",
      "Time:                          10:23:30   Log-Likelihood:                -49421.\n",
      "converged:                         True   LL-Null:                       -71322.\n",
      "Covariance Type:              nonrobust   LLR p-value:                     0.000\n",
      "========================================================================================\n",
      "                           coef    std err          z      P>|z|      [0.025      0.975]\n",
      "----------------------------------------------------------------------------------------\n",
      "const                   -2.4484      0.020   -122.942      0.000      -2.487      -2.409\n",
      "Collection              -1.0842      0.057    -19.062      0.000      -1.196      -0.973\n",
      "Command and Control     -1.2162      0.044    -27.948      0.000      -1.302      -1.131\n",
      "Credential Access       -1.6307      0.039    -42.170      0.000      -1.706      -1.555\n",
      "Defense Evasion          2.5780      0.019    134.355      0.000       2.540       2.616\n",
      "Discovery               -0.9560      0.033    -29.307      0.000      -1.020      -0.892\n",
      "Execution               -0.3203      0.020    -16.277      0.000      -0.359      -0.282\n",
      "Exfiltration            -1.2330      0.370     -3.335      0.001      -1.958      -0.508\n",
      "Impact                  -1.4159      0.028    -50.009      0.000      -1.471      -1.360\n",
      "Initial Access          -0.3287      0.029    -11.270      0.000      -0.386      -0.272\n",
      "Lateral Movement        -1.2136      0.045    -26.732      0.000      -1.303      -1.125\n",
      "Persistence              0.7553      0.022     33.696      0.000       0.711       0.799\n",
      "Reconnaissance          -0.5684      0.284     -2.002      0.045      -1.125      -0.012\n",
      "Resource Development    -2.8398      0.098    -28.942      0.000      -3.032      -2.647\n",
      "========================================================================================\n"
     ]
    },
    {
     "name": "stderr",
     "output_type": "stream",
     "text": [
      "/Users/philipempl/anaconda3/lib/python3.11/site-packages/statsmodels/base/model.py:607: ConvergenceWarning:\n",
      "\n",
      "Maximum Likelihood optimization failed to converge. Check mle_retvals\n",
      "\n",
      " 93%|███████████████████████████████████████▉   | 13/14 [00:14<00:01,  1.31s/it]"
     ]
    },
    {
     "name": "stdout",
     "output_type": "stream",
     "text": [
      "                           Logit Regression Results                           \n",
      "==============================================================================\n",
      "Dep. Variable:         Reconnaissance   No. Observations:               159301\n",
      "Model:                          Logit   Df Residuals:                   159287\n",
      "Method:                           MLE   Df Model:                           13\n",
      "Date:                Mon, 18 Nov 2024   Pseudo R-squ.:                 0.09263\n",
      "Time:                        10:23:32   Log-Likelihood:                -1980.0\n",
      "converged:                      False   LL-Null:                       -2182.1\n",
      "Covariance Type:            nonrobust   LLR p-value:                 2.798e-78\n",
      "========================================================================================\n",
      "                           coef    std err          z      P>|z|      [0.025      0.975]\n",
      "----------------------------------------------------------------------------------------\n",
      "const                   -3.9092      0.202    -19.338      0.000      -4.305      -3.513\n",
      "Collection              -0.5904      0.234     -2.526      0.012      -1.049      -0.132\n",
      "Command and Control     -1.5277      0.263     -5.817      0.000      -2.042      -1.013\n",
      "Credential Access       -1.7049      0.296     -5.763      0.000      -2.285      -1.125\n",
      "Defense Evasion         -2.4831      0.241    -10.311      0.000      -2.955      -2.011\n",
      "Discovery               -0.9657      0.225     -4.292      0.000      -1.407      -0.525\n",
      "Execution               -1.9510      0.212     -9.185      0.000      -2.367      -1.535\n",
      "Exfiltration           -17.9936   6967.545     -0.003      0.998   -1.37e+04    1.36e+04\n",
      "Impact                  -4.3143      0.450     -9.583      0.000      -5.197      -3.432\n",
      "Initial Access          -1.6790      0.255     -6.580      0.000      -2.179      -1.179\n",
      "Lateral Movement        -0.7140      0.262     -2.724      0.006      -1.228      -0.200\n",
      "Persistence             -2.2684      0.330     -6.868      0.000      -2.916      -1.621\n",
      "Privilege Escalation    -1.6004      0.297     -5.380      0.000      -2.183      -1.017\n",
      "Resource Development    -0.3188      0.339     -0.940      0.347      -0.983       0.346\n",
      "========================================================================================\n",
      "\n",
      "Possibly complete quasi-separation: A fraction 0.17 of observations can be\n",
      "perfectly predicted. This might indicate that there is complete\n",
      "quasi-separation. In this case some parameters will not be identified.\n"
     ]
    },
    {
     "name": "stderr",
     "output_type": "stream",
     "text": [
      "100%|███████████████████████████████████████████| 14/14 [00:15<00:00,  1.13s/it]"
     ]
    },
    {
     "name": "stdout",
     "output_type": "stream",
     "text": [
      "                            Logit Regression Results                            \n",
      "================================================================================\n",
      "Dep. Variable:     Resource Development   No. Observations:               159301\n",
      "Model:                            Logit   Df Residuals:                   159287\n",
      "Method:                             MLE   Df Model:                           13\n",
      "Date:                  Mon, 18 Nov 2024   Pseudo R-squ.:                  0.1801\n",
      "Time:                          10:23:33   Log-Likelihood:                -12620.\n",
      "converged:                         True   LL-Null:                       -15391.\n",
      "Covariance Type:              nonrobust   LLR p-value:                     0.000\n",
      "========================================================================================\n",
      "                           coef    std err          z      P>|z|      [0.025      0.975]\n",
      "----------------------------------------------------------------------------------------\n",
      "const                   -1.9833      0.061    -32.443      0.000      -2.103      -1.864\n",
      "Collection              -1.5865      0.116    -13.721      0.000      -1.813      -1.360\n",
      "Command and Control     -1.1953      0.080    -14.917      0.000      -1.352      -1.038\n",
      "Credential Access       -1.9766      0.115    -17.155      0.000      -2.202      -1.751\n",
      "Defense Evasion          0.0353      0.060      0.585      0.559      -0.083       0.154\n",
      "Discovery               -2.3793      0.105    -22.679      0.000      -2.585      -2.174\n",
      "Execution               -2.2135      0.071    -31.003      0.000      -2.353      -2.074\n",
      "Exfiltration            -2.4077      1.007     -2.392      0.017      -4.381      -0.435\n",
      "Impact                  -3.5741      0.113    -31.538      0.000      -3.796      -3.352\n",
      "Initial Access          -1.8346      0.095    -19.253      0.000      -2.021      -1.648\n",
      "Lateral Movement        -1.8442      0.134    -13.793      0.000      -2.106      -1.582\n",
      "Persistence             -1.6294      0.086    -18.860      0.000      -1.799      -1.460\n",
      "Privilege Escalation    -2.9612      0.098    -30.227      0.000      -3.153      -2.769\n",
      "Reconnaissance          -0.3695      0.318     -1.162      0.245      -0.993       0.254\n",
      "========================================================================================\n"
     ]
    },
    {
     "name": "stderr",
     "output_type": "stream",
     "text": [
      "\n"
     ]
    }
   ],
   "source": [
    "\n",
    "# Step 5: Perform logistic regression for each tactic pair to analyze co-occurrence\n",
    "regression_results = {}\n",
    "\n",
    "# Use tqdm to monitor regression progress\n",
    "\n",
    "for tactic in tqdm(binary_matrix.columns):\n",
    "    y = binary_matrix[tactic]  # Dependent variable: presence of this tactic\n",
    "    \n",
    "    # Independent variables: presence of other tactics\n",
    "    X = binary_matrix.drop(columns=[tactic])  # Exclude the current tactic from independent variables\n",
    "    X = sm.add_constant(X)  # Add a constant term for the intercept\n",
    "    \n",
    "    # Perform logistic regression\n",
    "    model = sm.Logit(y, X)\n",
    "    result = model.fit(disp=0)  # Suppress output\n",
    "    \n",
    "    # Store the summary of the regression result\n",
    "    regression_results[tactic] = result.summary()\n",
    "    print(result.summary())"
   ]
  },
  {
   "cell_type": "code",
   "execution_count": 60,
   "id": "58fe0aaa",
   "metadata": {},
   "outputs": [
    {
     "name": "stderr",
     "output_type": "stream",
     "text": [
      "100%|███████████████████████████████████████████| 14/14 [00:31<00:00,  2.23s/it]"
     ]
    },
    {
     "name": "stdout",
     "output_type": "stream",
     "text": [
      "\\begin{table*}[ht]\n",
      "\\centering\n",
      "\\resizebox{\\textwidth}{!}{%\n",
      "\\begin{tabular}{lrrrrrrrrrrrrrr}\n",
      "\\toprule\n",
      "& \\rotatebox{70}{Reconnaissance} & \\rotatebox{70}{Resource Development} & \\rotatebox{70}{Initial Access} & \\rotatebox{70}{Execution} & \\rotatebox{70}{Persistence} & \\rotatebox{70}{Privilege Escalation} & \\rotatebox{70}{Defense Evasion} & \\rotatebox{70}{Credential Access} & \\rotatebox{70}{Discovery} & \\rotatebox{70}{Lateral Movement} & \\rotatebox{70}{Collection} & \\rotatebox{70}{Command and Control} & \\rotatebox{70}{Exfiltration} & \\rotatebox{70}{Impact} \\\\\n",
      "\\midrule\n",
      "Reconnaissance & -- & \\textbf{$-0.19$} & $-1.62^{***}$ & $-1.87^{***}$ & $-2.17^{***}$ & $-1.5^{***}$ & $-2.38^{***}$ & $-1.63^{***}$ & $-0.88^{***}$ & $-0.65^{*}$ & $-0.53^{*}$ & $-1.44^{***}$ & $-0.32$ & $-4.24^{***}$ \\\\\n",
      "Resource Development & $-0.36$ & -- & $-1.83^{***}$ & $-2.21^{***}$ & $-1.63^{***}$ & $-2.96^{***}$ & \\textbf{$0.04$} & $-1.98^{***}$ & $-2.38^{***}$ & $-1.84^{***}$ & $-1.59^{***}$ & $-1.19^{***}$ & $-2.45^{*}$ & $-3.57^{***}$ \\\\\n",
      "Initial Access & $-0.66^{**}$ & $-1.13^{***}$ & -- & \\textbf{$0.34^{***}$} & $-0.07^{**}$ & $-0.46^{***}$ & $-1.05^{***}$ & $-1.36^{***}$ & $-1.84^{***}$ & $-1.0^{***}$ & $-1.12^{***}$ & $-1.22^{***}$ & $-1.59^{***}$ & $-1.67^{***}$ \\\\\n",
      "Execution & $-0.95^{***}$ & $-1.55^{***}$ & \\textbf{$0.39^{***}$} & -- & $-0.92^{***}$ & $-0.54^{***}$ & $-1.17^{***}$ & $-1.47^{***}$ & $-1.56^{***}$ & $-0.18^{***}$ & $-1.44^{***}$ & $-1.11^{***}$ & $-1.31^{***}$ & $-2.14^{***}$ \\\\\n",
      "Persistence & $-0.98^{***}$ & $-1.03^{***}$ & $0.11^{***}$ & $-0.73^{***}$ & -- & $0.39^{***}$ & $0.45^{***}$ & \\textbf{$1.2^{***}$} & $-0.73^{***}$ & $-0.47^{***}$ & $-0.34^{***}$ & $-0.51^{***}$ & $-1.39^{**}$ & $-1.57^{***}$ \\\\\n",
      "Privilege Escalation & $-0.65^{*}$ & $-2.84^{***}$ & $-0.33^{***}$ & $-0.32^{***}$ & $0.76^{***}$ & -- & \\textbf{$2.58^{***}$} & $-1.63^{***}$ & $-0.95^{***}$ & $-1.21^{***}$ & $-1.08^{***}$ & $-1.22^{***}$ & $-1.07^{**}$ & $-1.42^{***}$ \\\\\n",
      "Defense Evasion & $-1.75^{***}$ & $1.07^{***}$ & $-0.99^{***}$ & $-1.07^{***}$ & $0.38^{***}$ & \\textbf{$2.54^{***}$} & -- & $0.1^{***}$ & $-0.42^{***}$ & $0.6^{***}$ & $-1.01^{***}$ & $-0.69^{***}$ & $-0.38^{*}$ & $-0.97^{***}$ \\\\\n",
      "Credential Access & $-0.64^{*}$ & $-1.56^{***}$ & $-1.24^{***}$ & $-1.29^{***}$ & \\textbf{$1.02^{***}$} & $-1.31^{***}$ & $0.11^{***}$ & -- & $0.01$ & $0.34^{***}$ & $0.24^{***}$ & $-0.96^{***}$ & $-0.84^{*}$ & $-1.75^{***}$ \\\\\n",
      "Discovery & \\textbf{$-0.22$} & $-2.05^{***}$ & $-2.27^{***}$ & $-1.91^{***}$ & $-1.29^{***}$ & $-1.4^{***}$ & $-0.82^{***}$ & $-0.46^{***}$ & -- & $-1.1^{***}$ & $-1.04^{***}$ & $-1.14^{***}$ & $-1.09^{***}$ & $-2.54^{***}$ \\\\\n",
      "Lateral Movement & $0.1$ & $-1.64^{***}$ & $-0.95^{***}$ & $-0.1^{***}$ & $-0.53^{***}$ & $-1.43^{***}$ & $0.59^{***}$ & $0.37^{***}$ & $-0.87^{***}$ & -- & \\textbf{$0.78^{***}$} & $-0.68^{***}$ & $-0.25$ & $-2.13^{***}$ \\\\\n",
      "Collection & $-0.07$ & $-1.23^{***}$ & $-1.59^{***}$ & $-1.83^{***}$ & $-0.97^{***}$ & $-1.61^{***}$ & $-1.34^{***}$ & $-0.18^{***}$ & $-1.15^{***}$ & \\textbf{$0.4^{***}$} & -- & $-1.47^{***}$ & $-0.98^{**}$ & $-1.86^{***}$ \\\\\n",
      "Command and Control & $-0.82^{***}$ & $-0.77^{***}$ & $-1.64^{***}$ & $-1.48^{***}$ & $-1.22^{***}$ & $-1.67^{***}$ & $-1.13^{***}$ & $-1.45^{***}$ & $-1.13^{***}$ & $-0.97^{***}$ & $-1.36^{***}$ & -- & \\textbf{$0.04$} & $-1.79^{***}$ \\\\\n",
      "Exfiltration & $-0.31$ & $-1.48^{*}$ & $-2.06^{***}$ & $-1.69^{***}$ & $-2.09^{***}$ & $-1.79^{***}$ & $-0.87^{***}$ & $-1.31^{**}$ & $-1.09^{***}$ & $-0.64$ & $-0.87^{*}$ & \\textbf{$-0.08$} & -- & $-0.82^{***}$ \\\\\n",
      "Impact & $-3.95^{***}$ & $-3.22^{***}$ & $-2.33^{***}$ & $-2.69^{***}$ & $-2.63^{***}$ & $-2.06^{***}$ & $-1.63^{***}$ & $-2.58^{***}$ & $-2.75^{***}$ & $-2.62^{***}$ & $-1.83^{***}$ & $-2.01^{***}$ & \\textbf{$-0.92^{***}$} & -- \\\\\n",
      "\\bottomrule\n",
      "\\end{tabular}}\n",
      "\\caption{Logistic Regression Coefficients for Tactic Co-Occurrence.}\n",
      "\\label{tab:logistic_regression}\n",
      "\\end{table*}\n"
     ]
    },
    {
     "name": "stderr",
     "output_type": "stream",
     "text": [
      "\n"
     ]
    }
   ],
   "source": [
    "import pandas as pd\n",
    "import numpy as np\n",
    "import statsmodels.api as sm\n",
    "from tqdm import tqdm\n",
    "import re\n",
    "\n",
    "def create_aggregated_latex_table(binary_matrix, regression_results):\n",
    "    \"\"\"\n",
    "    This function performs logistic regressions on each attack tactic and creates an aggregated\n",
    "    table of regression coefficients with superscript symbols for significance levels.\n",
    "    It then outputs the table in LaTeX format with rotated column names and uses top, mid, and\n",
    "    bottom rules for better formatting.\n",
    "    \n",
    "    Parameters:\n",
    "    - binary_matrix: pandas DataFrame with binary data for each tactic (1 if the tactic is present, 0 if not).\n",
    "    - regression_results: a dictionary to store logistic regression results for each tactic.\n",
    "\n",
    "    Returns:\n",
    "    - LaTeX code for the aggregated table with rotated column names and formatted coefficients.\n",
    "    \"\"\"\n",
    "    # Create an empty DataFrame to store the coefficients from each logistic regression model\n",
    "    aggregated_table = pd.DataFrame(index=binary_matrix.columns, columns=binary_matrix.columns)\n",
    "\n",
    "    # Loop through each tactic and perform logistic regression\n",
    "    for tactic in tqdm(binary_matrix.columns):\n",
    "        y = binary_matrix[tactic]  # Dependent variable: presence of this tactic\n",
    "        X = binary_matrix.drop(columns=[tactic])  # Exclude the current tactic from independent variables\n",
    "        X = sm.add_constant(X)  # Add a constant term for the intercept\n",
    "\n",
    "        # Perform logistic regression\n",
    "        model = sm.Logit(y, X)\n",
    "        result = model.fit(disp=0, method='bfgs', maxiter=1000)  # Try BFGS solver\n",
    "\n",
    "        # Extract the coefficients and p-values from the result\n",
    "        coef = result.params\n",
    "        pvalues = result.pvalues\n",
    "        \n",
    "        # Store the coefficients in the aggregated table (fill NaN for the current dependent variable)\n",
    "        for predictor in coef.index:\n",
    "            if predictor == \"const\":\n",
    "                continue\n",
    "            value = round(coef[predictor], 2)  # Round to 2 decimal places\n",
    "            # Append significance symbols as superscript based on p-value and wrap in math environment\n",
    "            if pvalues[predictor] <= 0.001:\n",
    "                value_str = f\"${value}^{{***}}$\"\n",
    "            elif pvalues[predictor] <= 0.01:\n",
    "                value_str = f\"${value}^{{**}}$\"\n",
    "            elif pvalues[predictor] <= 0.05:\n",
    "                value_str = f\"${value}^{{*}}$\"\n",
    "            else:\n",
    "                value_str = f\"${value}$\"\n",
    "            aggregated_table.at[tactic, predictor] = value_str\n",
    "\n",
    "    # Replace NaN values with \"-\"\n",
    "    aggregated_table = aggregated_table.fillna(\"-\")\n",
    "\n",
    "    # Define the required sorted order\n",
    "    sorted_order = [\n",
    "        'Reconnaissance', 'Resource Development', 'Initial Access', 'Execution', 'Persistence',\n",
    "        'Privilege Escalation', 'Defense Evasion', 'Credential Access', 'Discovery', \n",
    "        'Lateral Movement', 'Collection', 'Command and Control', 'Exfiltration', 'Impact'\n",
    "    ]\n",
    "    \n",
    "    # Reindex the table according to the sorted order\n",
    "    aggregated_table = aggregated_table.reindex(index=sorted_order, columns=sorted_order)\n",
    "    \n",
    "    # Create LaTeX code for the table\n",
    "    latex_code = \"\\\\begin{table*}[ht]\\n\\\\centering\\n\\\\resizebox{\\\\textwidth}{!}{%\\n\"\n",
    "    latex_code += \"\\\\begin{tabular}{l\" + \"r\" * len(binary_matrix.columns) + \"}\\n\"\n",
    "    \n",
    "    # Add header with rotated column names\n",
    "    latex_code += \"\\\\toprule\\n\"\n",
    "    latex_code += \"& \" + \" & \".join([f\"\\\\rotatebox{{70}}{{{col}}}\" for col in sorted_order]) + \" \\\\\\\\\\n\"\n",
    "    latex_code += \"\\\\midrule\\n\"\n",
    "    \n",
    "    # Add each row\n",
    "    for index, row in aggregated_table.iterrows():\n",
    "        latex_code += f\"{index} & \"\n",
    "        \n",
    "        # Identify the maximum value in the row (ignoring \"-\")\n",
    "        numeric_values = row.apply(lambda x: float(re.sub(r'[^\\d.-]', '', x)) if x != \"-\" else np.nan)\n",
    "        max_value = numeric_values.max()\n",
    "        \n",
    "        for col in sorted_order:\n",
    "            value = row[col]\n",
    "            if value == \"-\":\n",
    "                latex_code += \"-- & \"\n",
    "            else:\n",
    "                # Format coefficient to two decimal places, keep any significance symbols, and wrap in math environment\n",
    "                formatted_value = value\n",
    "                \n",
    "                # Apply bold formatting if the value is the maximum in the row\n",
    "                if numeric_values[col] == max_value:\n",
    "                    latex_code += f\"\\\\textbf{{{formatted_value}}} & \"\n",
    "                else:\n",
    "                    latex_code += f\"{formatted_value} & \"\n",
    "                    \n",
    "        latex_code = latex_code.rstrip(\" & \")  # Remove trailing \"&\" for each row\n",
    "        latex_code += \" \\\\\\\\\\n\"\n",
    "    \n",
    "    latex_code += \"\\\\bottomrule\\n\"\n",
    "    latex_code += \"\\\\end{tabular}}\\n\\\\caption{Logistic Regression Coefficients for Tactic Co-Occurrence.}\\n\"\n",
    "    latex_code += \"\\\\label{tab:logistic_regression}\\n\\\\end{table*}\"\n",
    "\n",
    "    # Return the LaTeX code for the table\n",
    "    return latex_code\n",
    "\n",
    "\n",
    "# Usage Example\n",
    "latex_table = create_aggregated_latex_table(binary_matrix, regression_results)\n",
    "\n",
    "# To view the LaTeX table:\n",
    "print(latex_table)\n"
   ]
  },
  {
   "cell_type": "code",
   "execution_count": 61,
   "id": "326ce555-fca7-4881-ae46-178315fcca63",
   "metadata": {},
   "outputs": [
    {
     "name": "stderr",
     "output_type": "stream",
     "text": [
      "100%|███████████████████████████████████████████| 14/14 [00:30<00:00,  2.19s/it]\n",
      "/var/folders/qb/z7q3w2md0c3c0s29ngj6p0600000gn/T/ipykernel_91459/1277149211.py:30: FutureWarning:\n",
      "\n",
      "Downcasting object dtype arrays on .fillna, .ffill, .bfill is deprecated and will change in a future version. Call result.infer_objects(copy=False) instead. To opt-in to the future behavior, set `pd.set_option('future.no_silent_downcasting', True)`\n",
      "\n"
     ]
    },
    {
     "data": {
      "text/plain": [
       "'tactic_flowchart.svg'"
      ]
     },
     "execution_count": 61,
     "metadata": {},
     "output_type": "execute_result"
    }
   ],
   "source": [
    "from graphviz import Digraph\n",
    "\n",
    "# Create DataFrames for coefficients and p-values\n",
    "aggregated_table = pd.DataFrame(index=binary_matrix.columns, columns=binary_matrix.columns)\n",
    "p_values_table = pd.DataFrame(index=binary_matrix.columns, columns=binary_matrix.columns)\n",
    "\n",
    "# Loop through each tactic and perform logistic regression\n",
    "for tactic in tqdm(binary_matrix.columns):\n",
    "    y = binary_matrix[tactic]  # Dependent variable: presence of this tactic\n",
    "    X = binary_matrix.drop(columns=[tactic])  # Exclude the current tactic from independent variables\n",
    "    X = sm.add_constant(X)  # Add a constant term for the intercept\n",
    "\n",
    "    # Perform logistic regression\n",
    "    model = sm.Logit(y, X)\n",
    "    result = model.fit(disp=0, method='bfgs', maxiter=1000)  # Try BFGS solver\n",
    "    \n",
    "    # Extract coefficients and p-values\n",
    "    coef = result.params\n",
    "    pvalues = result.pvalues\n",
    "    \n",
    "    # Store coefficients and p-values in respective tables (fill NaN for the current dependent variable)\n",
    "    for predictor in coef.index:\n",
    "        if predictor == \"const\":\n",
    "            continue\n",
    "        aggregated_table.at[tactic, predictor] = coef[predictor]\n",
    "        p_values_table.at[tactic, predictor] = pvalues[predictor]\n",
    "\n",
    "# Fill NaN values with \"-\"\n",
    "aggregated_table = aggregated_table.fillna(\"-\")\n",
    "p_values_table = p_values_table.fillna(1.0)  # Set default p-values to 1.0 for missing values\n",
    "\n",
    "# Function to create a flowchart\n",
    "def create_flowchart_for_significant_relationships(aggregated_table, p_values_table, significance_level=0.01):\n",
    "    \"\"\"\n",
    "    Create a flowchart showing the likely co-occurrence of attack tactics based on significant, positive logistic regression results.\n",
    "\n",
    "    Parameters:\n",
    "    - aggregated_table: DataFrame containing the regression coefficients.\n",
    "    - p_values_table: DataFrame containing the p-values corresponding to each coefficient.\n",
    "    - significance_level: The p-value threshold to consider a result significant (default is 0.05).\n",
    "\n",
    "    Returns:\n",
    "    - A flowchart in Graphviz format.\n",
    "    \"\"\"\n",
    "    dot = Digraph(comment='Attack Tactic Co-Occurrence Flowchart', format='svg')\n",
    "    \n",
    "    # Loop through the p-values and coefficients\n",
    "    for tactic in p_values_table.index:\n",
    "        for predictor in p_values_table.columns:\n",
    "            if predictor != tactic:  # Exclude self-relationships\n",
    "                p_value = p_values_table.at[tactic, predictor]\n",
    "                coefficient = aggregated_table.at[tactic, predictor]\n",
    "\n",
    "                # Check if the relationship is significant and positive\n",
    "                if p_value < significance_level and coefficient > 0:\n",
    "                    # Add an edge from predictor to tactic\n",
    "                    dot.edge(predictor, tactic, label=f'{coefficient:.2f}')\n",
    "\n",
    "    return dot\n",
    "\n",
    "# Create flowchart and output as SVG\n",
    "flowchart = create_flowchart_for_significant_relationships(aggregated_table, p_values_table)\n",
    "flowchart_path = \"./tactic_flowchart\"\n",
    "flowchart.render(flowchart_path)"
   ]
  },
  {
   "cell_type": "code",
   "execution_count": 62,
   "id": "a04ff4c3-c3cf-4027-88fd-b03be664bc2b",
   "metadata": {},
   "outputs": [
    {
     "name": "stderr",
     "output_type": "stream",
     "text": [
      "/var/folders/qb/z7q3w2md0c3c0s29ngj6p0600000gn/T/ipykernel_91459/1613220135.py:23: FutureWarning:\n",
      "\n",
      "The default of observed=False is deprecated and will be changed to True in a future version of pandas. Pass observed=False to retain current behavior or observed=True to adopt the future default and silence this warning.\n",
      "\n"
     ]
    },
    {
     "data": {
      "image/png": "[encoded data removed]",
      "text/plain": [
       "<Figure size 1200x600 with 1 Axes>"
      ]
     },
     "metadata": {},
     "output_type": "display_data"
    }
   ],
   "source": [
    "import pandas as pd\n",
    "import matplotlib.pyplot as plt\n",
    "import seaborn as sns\n",
    "\n",
    "# Convert lists in 'attack_tactic' column to tuples to make them hashable\n",
    "attack_df['attack_tactic'] = attack_df['attack_tactic'].apply(lambda x: tuple(x) if isinstance(x, list) else x)\n",
    "\n",
    "# Remove duplicate rows based on 'cve_id' and 'attack_tactic'\n",
    "a1234 = attack_df.drop_duplicates(subset=['cve_id', 'attack_tactic'])\n",
    "\n",
    "# Explode the 'attack_tactic' column to handle multiple tactics per CVE\n",
    "a1234 = a1234.explode('attack_tactic').reset_index(drop=True)  # Reset index to keep it unique after exploding\n",
    "\n",
    "# Sort by median CVSS score\n",
    "ordered_tactics = a1234.groupby('attack_tactic')['cvss_score'].median().sort_values(ascending=False).index\n",
    "a1234['attack_tactic'] = pd.Categorical(a1234['attack_tactic'], categories=ordered_tactics, ordered=True)\n",
    "\n",
    "# Create the box plot for CVSS score by attack tactic without outliers\n",
    "plt.figure(figsize=(12, 6))  # Define figure size\n",
    "sns.boxplot(x='attack_tactic', y='cvss_score', data=a1234, showfliers=False, color=\"#EEE\")  # Set color to light gray and hide outliers\n",
    "\n",
    "# Calculate the median values and annotate on the plot\n",
    "medians = a1234.groupby('attack_tactic')['cvss_score'].median()\n",
    "\n",
    "# Adding median labels above each box\n",
    "for index, tactic in enumerate(ordered_tactics):\n",
    "    median_value = medians[tactic]\n",
    "    plt.text(index, median_value, f'{median_value:.2f}', ha='center', va='bottom', color='black', fontsize=10)\n",
    "\n",
    "# Customize plot appearance\n",
    "plt.ylabel('CVSS Score', fontsize=12)\n",
    "plt.xticks(rotation=45, ha='right', fontsize=12)  # Rotate x-axis labels for readability\n",
    "plt.xlabel('')  # Remove x-axis label\n",
    "\n",
    "\n",
    "# Adjust layout for better spacing and display\n",
    "plt.tight_layout()\n",
    "plt.savefig(\"attack_cvss.pdf\", format='pdf', dpi=300)\n",
    "plt.show()\n"
   ]
  },
  {
   "cell_type": "code",
   "execution_count": 63,
   "id": "ea62cdfc-d09f-49c4-8d45-277e8c7419a7",
   "metadata": {},
   "outputs": [
    {
     "data": {
      "text/html": [
       "<div>\n",
       "<style scoped>\n",
       "    .dataframe tbody tr th:only-of-type {\n",
       "        vertical-align: middle;\n",
       "    }\n",
       "\n",
       "    .dataframe tbody tr th {\n",
       "        vertical-align: top;\n",
       "    }\n",
       "\n",
       "    .dataframe thead th {\n",
       "        text-align: right;\n",
       "    }\n",
       "</style>\n",
       "<table border=\"1\" class=\"dataframe\">\n",
       "  <thead>\n",
       "    <tr style=\"text-align: right;\">\n",
       "      <th></th>\n",
       "      <th>attack_technique</th>\n",
       "      <th>kill_chain_phases</th>\n",
       "      <th>apt_groups</th>\n",
       "    </tr>\n",
       "  </thead>\n",
       "  <tbody>\n",
       "    <tr>\n",
       "      <th>0</th>\n",
       "      <td>T1003.001</td>\n",
       "      <td>[credential-access]</td>\n",
       "      <td>[Threat Group-3390, Earth Lusca, APT32, Operat...</td>\n",
       "    </tr>\n",
       "    <tr>\n",
       "      <th>1</th>\n",
       "      <td>T1204.001</td>\n",
       "      <td>[execution]</td>\n",
       "      <td>[Transparent Tribe, TA505, Dragonfly 2.0, Eart...</td>\n",
       "    </tr>\n",
       "    <tr>\n",
       "      <th>2</th>\n",
       "      <td>T1059.001</td>\n",
       "      <td>[execution]</td>\n",
       "      <td>[FIN10, Threat Group-3390, TA505, Dragonfly 2....</td>\n",
       "    </tr>\n",
       "    <tr>\n",
       "      <th>3</th>\n",
       "      <td>T1571</td>\n",
       "      <td>[command-and-control]</td>\n",
       "      <td>[APT33, DarkVishnya, Magic Hound, FIN7, Silenc...</td>\n",
       "    </tr>\n",
       "    <tr>\n",
       "      <th>4</th>\n",
       "      <td>T1560</td>\n",
       "      <td>[collection]</td>\n",
       "      <td>[Patchwork, Dragonfly, APT32, Honeybee, menuPa...</td>\n",
       "    </tr>\n",
       "    <tr>\n",
       "      <th>...</th>\n",
       "      <td>...</td>\n",
       "      <td>...</td>\n",
       "      <td>...</td>\n",
       "    </tr>\n",
       "    <tr>\n",
       "      <th>414</th>\n",
       "      <td>T1086</td>\n",
       "      <td>[execution]</td>\n",
       "      <td>[G0057, Dragonfly]</td>\n",
       "    </tr>\n",
       "    <tr>\n",
       "      <th>415</th>\n",
       "      <td>T1100</td>\n",
       "      <td>[persistence, privilege-escalation]</td>\n",
       "      <td>[G0057, Dragonfly]</td>\n",
       "    </tr>\n",
       "    <tr>\n",
       "      <th>416</th>\n",
       "      <td>T1081</td>\n",
       "      <td>[credential-access]</td>\n",
       "      <td>[APT28]</td>\n",
       "    </tr>\n",
       "    <tr>\n",
       "      <th>417</th>\n",
       "      <td>T1107</td>\n",
       "      <td>[defense-evasion]</td>\n",
       "      <td>[G0057, Dragonfly, APT32]</td>\n",
       "    </tr>\n",
       "    <tr>\n",
       "      <th>418</th>\n",
       "      <td>T1089</td>\n",
       "      <td>[defense-evasion]</td>\n",
       "      <td>[Dragonfly]</td>\n",
       "    </tr>\n",
       "  </tbody>\n",
       "</table>\n",
       "<p>419 rows × 3 columns</p>\n",
       "</div>"
      ],
      "text/plain": [
       "    attack_technique                    kill_chain_phases  \\\n",
       "0          T1003.001                  [credential-access]   \n",
       "1          T1204.001                          [execution]   \n",
       "2          T1059.001                          [execution]   \n",
       "3              T1571                [command-and-control]   \n",
       "4              T1560                         [collection]   \n",
       "..               ...                                  ...   \n",
       "414            T1086                          [execution]   \n",
       "415            T1100  [persistence, privilege-escalation]   \n",
       "416            T1081                  [credential-access]   \n",
       "417            T1107                    [defense-evasion]   \n",
       "418            T1089                    [defense-evasion]   \n",
       "\n",
       "                                            apt_groups  \n",
       "0    [Threat Group-3390, Earth Lusca, APT32, Operat...  \n",
       "1    [Transparent Tribe, TA505, Dragonfly 2.0, Eart...  \n",
       "2    [FIN10, Threat Group-3390, TA505, Dragonfly 2....  \n",
       "3    [APT33, DarkVishnya, Magic Hound, FIN7, Silenc...  \n",
       "4    [Patchwork, Dragonfly, APT32, Honeybee, menuPa...  \n",
       "..                                                 ...  \n",
       "414                                 [G0057, Dragonfly]  \n",
       "415                                 [G0057, Dragonfly]  \n",
       "416                                            [APT28]  \n",
       "417                          [G0057, Dragonfly, APT32]  \n",
       "418                                        [Dragonfly]  \n",
       "\n",
       "[419 rows x 3 columns]"
      ]
     },
     "metadata": {},
     "output_type": "display_data"
    }
   ],
   "source": [
    "import requests\n",
    "import pandas as pd\n",
    "\n",
    "# Step 1: Load JSON data from URL\n",
    "url = \"https://raw.githubusercontent.com/mitre-attack/attack-stix-data/refs/heads/master/enterprise-attack/enterprise-attack-12.0.json\"\n",
    "response = requests.get(url)\n",
    "data = response.json()\n",
    "\n",
    "# Step 2: Extract APT groups and attack patterns with relationships\n",
    "attack_patterns = {}\n",
    "apt_groups = {}\n",
    "relationships = []\n",
    "\n",
    "for item in data[\"objects\"]:\n",
    "    # Extract attack patterns\n",
    "    if item[\"type\"] == \"attack-pattern\":\n",
    "        ext_ref = next((ref for ref in item.get(\"external_references\", []) if ref.get(\"source_name\") == \"mitre-attack\"), None)\n",
    "        attack_id = ext_ref[\"external_id\"] if ext_ref else None\n",
    "        if attack_id:\n",
    "            kill_chain_phases = [phase[\"phase_name\"] for phase in item.get(\"kill_chain_phases\", [])]\n",
    "            attack_patterns[item[\"id\"]] = {\n",
    "                \"attack_technique\": attack_id,\n",
    "                \"kill_chain_phases\": kill_chain_phases\n",
    "            }\n",
    "    \n",
    "    # Extract APT groups, using alias or fallback to external_id if alias is missing\n",
    "    elif item[\"type\"] == \"intrusion-set\":\n",
    "        aliases = item.get(\"aliases\", [])\n",
    "        if aliases:\n",
    "            apt_groups[item[\"id\"]] = aliases[0]\n",
    "        else:\n",
    "            # Fallback to external_id if available, print warning otherwise\n",
    "            ext_ref = next((ref for ref in item.get(\"external_references\", []) if ref.get(\"source_name\") == \"mitre-attack\"), None)\n",
    "            if ext_ref and \"external_id\" in ext_ref:\n",
    "                apt_groups[item[\"id\"]] = ext_ref[\"external_id\"]\n",
    "            else:\n",
    "                print(f\"No alias or external_id for intrusion-set ID: {item['id']}\")\n",
    "    \n",
    "    # Extract relationships\n",
    "    elif item[\"type\"] == \"relationship\" and item[\"relationship_type\"] == \"uses\":\n",
    "        source_ref = item.get(\"source_ref\")\n",
    "        target_ref = item.get(\"target_ref\")\n",
    "        if source_ref in apt_groups and target_ref in attack_patterns:\n",
    "            relationships.append({\n",
    "                \"apt_group\": apt_groups[source_ref],\n",
    "                \"attack_pattern_id\": target_ref\n",
    "            })\n",
    "\n",
    "# Step 3: Map relationships to create a DataFrame with Attack Technique, Kill Chain Phases, and APT groups\n",
    "apt_mapping = {}\n",
    "for rel in relationships:\n",
    "    attack_id = rel[\"attack_pattern_id\"]\n",
    "    apt_name = rel[\"apt_group\"]\n",
    "    if attack_id in attack_patterns:\n",
    "        technique = attack_patterns[attack_id][\"attack_technique\"]\n",
    "        kill_chain_phases = attack_patterns[attack_id][\"kill_chain_phases\"]\n",
    "        \n",
    "        if technique not in apt_mapping:\n",
    "            apt_mapping[technique] = {\n",
    "                \"attack_technique\": technique,\n",
    "                \"kill_chain_phases\": kill_chain_phases,\n",
    "                \"apt_groups\": [apt_name]\n",
    "            }\n",
    "        else:\n",
    "            apt_mapping[technique][\"apt_groups\"].append(apt_name)\n",
    "\n",
    "# Step 4: Convert to DataFrame and display\n",
    "apt_df = pd.DataFrame(apt_mapping.values())\n",
    "apt_df[\"apt_groups\"] = apt_df[\"apt_groups\"].apply(lambda x: list(set(x)))  # Remove duplicates\n",
    "display(apt_df)\n"
   ]
  },
  {
   "cell_type": "code",
   "execution_count": 64,
   "id": "4f8f70d1-4efd-4abf-9233-a89dd1cc0f17",
   "metadata": {},
   "outputs": [
    {
     "name": "stderr",
     "output_type": "stream",
     "text": [
      "/var/folders/qb/z7q3w2md0c3c0s29ngj6p0600000gn/T/ipykernel_91459/3971425813.py:23: UserWarning:\n",
      "\n",
      "set_ticklabels() should only be used with a fixed number of ticks, i.e. after set_ticks() or using a FixedLocator.\n",
      "\n"
     ]
    },
    {
     "data": {
      "image/png": "[encoded data removed]",
      "text/plain": [
       "<Figure size 1600x600 with 2 Axes>"
      ]
     },
     "metadata": {},
     "output_type": "display_data"
    }
   ],
   "source": [
    "# Count occurrences of each attack technique in attack_df\n",
    "technique_counts = attack_df['attack_technique'].value_counts().head(50).reset_index()\n",
    "technique_counts.columns = ['attack_technique', 'count']\n",
    "\n",
    "# Merge with apt_df to add APT group data\n",
    "merged_df = technique_counts.merge(apt_df, on='attack_technique', how='left')\n",
    "\n",
    "# Calculate the percentage of APT groups capable of executing each technique\n",
    "total_apt_groups = 149  # Total number of unique APT groups\n",
    "merged_df['apt_percentage'] = merged_df['apt_groups'].apply(lambda x: len(x) if isinstance(x, list) else 0) / total_apt_groups * 100\n",
    "\n",
    "# Calculate the percentage of techniques per CVE\n",
    "total_cves = len(attack_df['cve_id'].unique())  # Total number of unique CVEs\n",
    "merged_df['technique_per_cve_percentage'] = (merged_df['count'] / total_cves) * 100\n",
    "\n",
    "# Create plot with dual y-axes\n",
    "fig, ax1 = plt.subplots(figsize=(16, 6))\n",
    "\n",
    "# Bar chart for APT group percentage (left y-axis)\n",
    "ax1.bar(merged_df['attack_technique'], merged_df['apt_percentage'], color=(198/255, 63/255, 31/255, 0.1), edgecolor='black', label='Threat Group Percentage')\n",
    "ax1.set_ylabel('Threat groups using ATT&CK techniques (in %)', color='black', fontsize=14, fontweight=\"bold\", labelpad=15)  # Increase distance with labelpad\n",
    "ax1.tick_params(axis='y', labelcolor='black')\n",
    "ax1.set_xticklabels(merged_df['attack_technique'], rotation=90, fontsize=14)\n",
    "\n",
    "# Remove whitespace by adjusting x-axis limits\n",
    "ax1.set_xlim(-0.4, len(merged_df['attack_technique']) - 0.6)\n",
    "\n",
    "# Secondary y-axis for technique percentage per CVE (line plot) with y-axis labels\n",
    "ax2 = ax1.twinx()\n",
    "ax2.plot(merged_df['attack_technique'], merged_df['technique_per_cve_percentage'], color='black', linestyle='-', linewidth=1.5, label='Technique per CVE (%)')\n",
    "ax2.set_ylabel('ATT&CK technique relevance (in %)', color='black',fontsize=14, fontweight=\"bold\", labelpad=15)  # Increase distance with labelpad\n",
    "ax2.tick_params(axis='y', labelcolor='black')\n",
    "\n",
    "# Titles and grid\n",
    "fig.tight_layout()\n",
    "# plt.grid(axis='y', linestyle='--', linewidth=1)\n",
    "# Add both the bar and line chart to the legend\n",
    "handles1, labels1 = ax1.get_legend_handles_labels()  # Get handles and labels for bar chart\n",
    "handles2, labels2 = ax2.get_legend_handles_labels()  # Get handles and labels for line chart\n",
    "legend = ax2.legend(handles1 + handles2, labels1 + labels2, fontsize=12, loc='upper right', facecolor='white', edgecolor='white', frameon=True)\n",
    "\n",
    "# Customize legend with white background and black border for Technique Count only\n",
    "#legend = ax2.legend(['ATT&CK technique relevance (in %)'], fontsize=12, loc='upper right', facecolor='white', edgecolor='white', frameon=True)\n",
    "legend.get_frame().set_linewidth(1.5)\n",
    "fig.savefig(\"attack_technique_analysis.pdf\", format='pdf', dpi=300)\n",
    "plt.show()\n"
   ]
  },
  {
   "cell_type": "code",
   "execution_count": 65,
   "id": "b5628281-5294-4638-aeee-7b8f9cf45987",
   "metadata": {},
   "outputs": [
    {
     "name": "stdout",
     "output_type": "stream",
     "text": [
      "\\begin{table}\n",
      "\\caption{Top 10 APT Groups by Potential CVE Exploits (1-10)}\n",
      "\\label{tab:top_apt_groups_1}\n",
      "\\begin{tabular}{rll}\n",
      "\\toprule\n",
      "Rank & APT Group & Potential CVEs Exploited \\\\\n",
      "\\midrule\n",
      "1 & APT28 & 130,509 \\\\\n",
      "2 & Dragonfly & 106,246 \\\\\n",
      "3 & APT29 & 103,474 \\\\\n",
      "4 & Sandworm Team & 96,180 \\\\\n",
      "5 & APT32 & 95,086 \\\\\n",
      "6 & Lazarus Group & 93,865 \\\\\n",
      "7 & Threat Group-3390 & 86,860 \\\\\n",
      "8 & APT41 & 79,639 \\\\\n",
      "9 & MuddyWater & 79,431 \\\\\n",
      "10 & Cobalt Group & 76,738 \\\\\n",
      "\\bottomrule\n",
      "\\end{tabular}\n",
      "\\end{table}\n",
      "\n",
      "\\begin{table}\n",
      "\\caption{Top 10 APT Groups by Potential CVE Exploits (11-20)}\n",
      "\\label{tab:top_apt_groups_2}\n",
      "\\begin{tabular}{rll}\n",
      "\\toprule\n",
      "Rank & APT Group & Potential CVEs Exploited \\\\\n",
      "\\midrule\n",
      "11 & APT37 & 71,008 \\\\\n",
      "12 & BRONZE BUTLER & 64,761 \\\\\n",
      "13 & APT33 & 62,658 \\\\\n",
      "14 & Axiom & 61,719 \\\\\n",
      "15 & APT39 & 61,567 \\\\\n",
      "16 & BITTER & 61,455 \\\\\n",
      "17 & Tropic Trooper & 61,078 \\\\\n",
      "18 & APT3 & 59,094 \\\\\n",
      "19 & Ke3chang & 57,871 \\\\\n",
      "20 & Patchwork & 57,759 \\\\\n",
      "\\bottomrule\n",
      "\\end{tabular}\n",
      "\\end{table}\n",
      "\n"
     ]
    }
   ],
   "source": [
    "# Count CVEs per technique from `merged_df`\n",
    "cve_counts_per_technique = attack_df.groupby('attack_technique')['cve_id'].nunique().reset_index()\n",
    "cve_counts_per_technique.columns = ['attack_technique', 'cve_count']\n",
    "\n",
    "# Merge with `apt_df` to associate APT groups with CVE counts per technique\n",
    "apt_technique_cve_df = apt_df.explode('apt_groups').merge(cve_counts_per_technique, on='attack_technique', how='left')\n",
    "\n",
    "# Group by APT group to sum up the potential CVE exploit counts, removing duplicates\n",
    "top_apt_groups = apt_technique_cve_df.drop_duplicates(subset=['apt_groups', 'attack_technique']).groupby('apt_groups')['cve_count'].sum().nlargest(20).reset_index()\n",
    "\n",
    "# Format the cve_count column with commas and remove decimals\n",
    "top_apt_groups['cve_count'] = top_apt_groups['cve_count'].apply(lambda x: f\"{int(x):,}\")\n",
    "\n",
    "# Add a ranking column at the start\n",
    "top_apt_groups.insert(0, 'Rank', top_apt_groups.index + 1)\n",
    "\n",
    "# Split into two tables\n",
    "first_half = top_apt_groups.iloc[:10].copy()\n",
    "second_half = top_apt_groups.iloc[10:].copy()\n",
    "\n",
    "# LaTeX table for first half\n",
    "latex_table_1 = first_half.to_latex(index=False, header=['Rank', 'APT Group', 'Potential CVEs Exploited'], caption=\"Top 10 APT Groups by Potential CVE Exploits (1-10)\", label=\"tab:top_apt_groups_1\", column_format=\"rll\")\n",
    "print(latex_table_1)\n",
    "\n",
    "# LaTeX table for second half\n",
    "latex_table_2 = second_half.to_latex(index=False, header=['Rank', 'APT Group', 'Potential CVEs Exploited'], caption=\"Top 10 APT Groups by Potential CVE Exploits (11-20)\", label=\"tab:top_apt_groups_2\", column_format=\"rll\")\n",
    "print(latex_table_2)\n"
   ]
  }
 ],
 "metadata": {
  "colab": {
   "provenance": []
  },
  "kernelspec": {
   "display_name": "Python 3 (ipykernel)",
   "language": "python",
   "name": "python3"
  },
  "language_info": {
   "codemirror_mode": {
    "name": "ipython",
    "version": 3
   },
   "file_extension": ".py",
   "mimetype": "text/x-python",
   "name": "python",
   "nbconvert_exporter": "python",
   "pygments_lexer": "ipython3",
   "version": "3.11.5"
  }
 },
 "nbformat": 4,
 "nbformat_minor": 5
}
