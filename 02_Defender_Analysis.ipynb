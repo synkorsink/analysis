{
 "cells": [
  {
   "cell_type": "markdown",
   "id": "828437ac-395a-4212-9df6-73e82650e6f7",
   "metadata": {},
   "source": [
    "# Defender Analysis"
   ]
  },
  {
   "cell_type": "markdown",
   "id": "6395be01-42a4-469e-bb21-b5da9ae337a8",
   "metadata": {},
   "source": [
    "## Setup"
   ]
  },
  {
   "cell_type": "code",
   "execution_count": 3,
   "id": "47974e11-45e4-48d8-a36c-3be61cb21eef",
   "metadata": {},
   "outputs": [],
   "source": [
    "techniques_list = {\n",
    "    'Model': ['ConfigurationInventory','AccessModeling','OrganizationMapping','AssetVulnerabilityEnumeration','DataInventory',\n",
    "              'NetworkNodeInventory','SystemVulnerabilityAssessment','OperationalRiskAssessment','DataExchangeMapping', 'SystemDependencyMapping',\n",
    "              'SoftwareInventory', 'OperationalDependencyMapping','ServiceDependencyMapping','NetworkTrafficPolicyMapping', 'HardwareComponentInventory','LogicalLinkMapping',\n",
    "               'PhysicalLinkMapping'\n",
    "              ],\n",
    "    'Harden': ['CredentialRotation','UserAccountPermissions','MessageAuthentication','MessageEncryption','SoftwareUpdate','SystemConfigurationPermissions',\n",
    "               'DomainTrustPolicy','StrongPasswordPolicy','CredentialTransmissionScoping','ApplicationConfigurationHardening','DeadCodeElimination','ExceptionHandlerPointerValidation',\n",
    "                'PointerAuthentication','ProcessSegmentExecutionPrevention','SegmentAddressOffsetRandomization','StackFrameCanaryValidation','BiometricAuthentication','Certificate-basedAuthentication',\n",
    "                'CertificatePinning','Multi-factorAuthentication','One-timePassword','TransferAgenAuthentication','BootloaderAuthentication','DiskEncryption','DriverLoadIntegrityChecking','FileEncryption',\n",
    "                'LocalFilePermissions','RFShielding','TPMBootIntegrity'\n",
    "               ],\n",
    "    'Detect': ['IdentifierReputationAnalysis','DynamicAnalysis','SenderReputationAnalysis','URLAnalysis', 'LocalAccountMonitoring',\n",
    "               'UserGeolocationLogonPatternAnalysis','OperatingSystemMonitoring','FileHashing', 'IdentifierActivityAnalysis', 'AuthenticationEventThresholding',\n",
    "               'AuthorizationEventThresholding', 'ResourceAccessPatternAnalysis','AdministrativeNetworkActivityAnalysis','FileIntegrityMonitoring',\n",
    "               'DatabaseQueryStringAnalysis','SenderMTAReputationAnalysis','ConnectionAttemptAnalysis','InboundSessionVolumeAnalysis', 'FirmwareBehaviorAnalysis',\n",
    "               'ProtocolMetadataAnomalyDetection','FirmwareVerification','ProcessSpawnAnalysis','SystemCallAnalysis','ScriptExecutionAnalysis',\n",
    "               'RemoteTerminalSessionDetection','DNSTrafficAnalysis','FileAccessPatternAnalysis','DomainAccountMonitoring','ProcessCodeSegmentVerification',\n",
    "                'ShadowStackComparisons','Client-serverPayloadProfiling','NetworkTrafficCommunityDeviation','CredentialCompromiseScopeAnalysis','RPCTrafficAnalysis',\n",
    "                'JobFunctionAccessPatternAnalysis','FileContentAnalysis','CertificateAnalysis','NetworkTrafficSignatureAnalysis','RelayPatternAnalysis','FirmwareEmbeddedMonitoringCode',\n",
    "                'EmulatedFileAnalysis','HomoglyphDetection','ByteSequenceEmulation','FileCarving','IPCTrafficAnalysis','PerHostDownload-UploadRatioAnalysis',\n",
    "                'IndirectBranchCallAnalysis','ProcessSelf-ModificationDetection','SessionDurationAnalysis','UserDataTransferAnalysis','WebSessionActivityAnalysis'\n",
    "               ],\n",
    "    'Isolate': ['Hardware-basedProcessIsolation','IOPortRestriction','Kernel-basedProcessIsolation','NetworkTrafficFiltering','ExecutableDenylisting','BroadcastDomainIsolation','ExecutableAllowlisting','DNSDenylisting','DNSAllowlisting','EncryptedTunnels'],\n",
    "    'Deceive': ['ConnectedHoneynet','IntegratedHoneynet','StandaloneHoneynet','DecoyFile','DecoyNetworkResource','DecoyPersona','DecoyPublicRelease','DecoySessionToken','DecoyUserCredential'],\n",
    "    'Evict': ['AccountLocking','FileRemoval','ProcessTermination','HostShutdown','CredentialRevoking','AuthenticationCacheInvalidation','ProcessSuspension','SessionTermination','DiskFormatting','DNSCacheEviction','DomainRegistrationTakedown','RegistryKeyDeletion'],\n",
    "    'Restore': ['ReissueCredential','RestoreNetworkAccess','RestoreFile','RestoreUserAccountAccess','RestoreDiskImage','RestoreConfiguration','RestoreDatabase','RestoreSoftware']\n",
    "    }"
   ]
  },
  {
   "cell_type": "markdown",
   "id": "61b28af9-d1bd-4249-83bf-2ccf30b25ed9",
   "metadata": {
    "jp-MarkdownHeadingCollapsed": true
   },
   "source": [
    "### Import Statements + Install Kaggle"
   ]
  },
  {
   "cell_type": "code",
   "execution_count": 4,
   "id": "b31d5524-ff74-4d81-87f4-a3f3b83b992e",
   "metadata": {},
   "outputs": [
    {
     "name": "stdout",
     "output_type": "stream",
     "text": [
      "Requirement already satisfied: kaggle in d:\\programme\\anaconda\\lib\\site-packages (1.6.17)\n",
      "Requirement already satisfied: six>=1.10 in d:\\programme\\anaconda\\lib\\site-packages (from kaggle) (1.16.0)\n",
      "Requirement already satisfied: certifi>=2023.7.22 in d:\\programme\\anaconda\\lib\\site-packages (from kaggle) (2024.8.30)\n",
      "Requirement already satisfied: python-dateutil in d:\\programme\\anaconda\\lib\\site-packages (from kaggle) (2.9.0.post0)\n",
      "Requirement already satisfied: requests in d:\\programme\\anaconda\\lib\\site-packages (from kaggle) (2.32.2)\n",
      "Requirement already satisfied: tqdm in d:\\programme\\anaconda\\lib\\site-packages (from kaggle) (4.66.4)\n",
      "Requirement already satisfied: python-slugify in d:\\programme\\anaconda\\lib\\site-packages (from kaggle) (5.0.2)\n",
      "Requirement already satisfied: urllib3 in d:\\programme\\anaconda\\lib\\site-packages (from kaggle) (2.2.2)\n",
      "Requirement already satisfied: bleach in d:\\programme\\anaconda\\lib\\site-packages (from kaggle) (4.1.0)\n",
      "Requirement already satisfied: packaging in d:\\programme\\anaconda\\lib\\site-packages (from bleach->kaggle) (23.2)\n",
      "Requirement already satisfied: webencodings in d:\\programme\\anaconda\\lib\\site-packages (from bleach->kaggle) (0.5.1)\n",
      "Requirement already satisfied: text-unidecode>=1.3 in d:\\programme\\anaconda\\lib\\site-packages (from python-slugify->kaggle) (1.3)\n",
      "Requirement already satisfied: charset-normalizer<4,>=2 in d:\\programme\\anaconda\\lib\\site-packages (from requests->kaggle) (2.0.4)\n",
      "Requirement already satisfied: idna<4,>=2.5 in d:\\programme\\anaconda\\lib\\site-packages (from requests->kaggle) (3.7)\n",
      "Requirement already satisfied: colorama in d:\\programme\\anaconda\\lib\\site-packages (from tqdm->kaggle) (0.4.6)\n"
     ]
    }
   ],
   "source": [
    "import pandas as pd\n",
    "import math\n",
    "import ast\n",
    "import matplotlib.pyplot as plt\n",
    "import numpy as np\n",
    "import os\n",
    "import zipfile\n",
    "import requests\n",
    "!pip install kaggle\n"
   ]
  },
  {
   "cell_type": "markdown",
   "id": "eb382728-e24d-46c2-b168-01f3ebe4a5b3",
   "metadata": {
    "jp-MarkdownHeadingCollapsed": true
   },
   "source": [
    "### Download Dataset from Kaggle"
   ]
  },
  {
   "cell_type": "code",
   "execution_count": 5,
   "id": "99f98cef-c026-4d1f-97f6-902e48f22c05",
   "metadata": {},
   "outputs": [
    {
     "name": "stdout",
     "output_type": "stream",
     "text": [
      "Dataset URL: https://www.kaggle.com/datasets/synkorsink/playbook-d3fend\n",
      "License(s): unknown\n",
      "Downloading playbook-d3fend.zip to kaggle_dataset\n",
      "\n"
     ]
    },
    {
     "name": "stderr",
     "output_type": "stream",
     "text": [
      "\n",
      "  0%|          | 0.00/199k [00:00<?, ?B/s]\n",
      "100%|##########| 199k/199k [00:00<00:00, 486kB/s]\n",
      "100%|##########| 199k/199k [00:00<00:00, 485kB/s]\n"
     ]
    }
   ],
   "source": [
    "\n",
    "# Step 2: Define the dataset identifier\n",
    "dataset_identifier = 'synkorsink/playbook-d3fend'  # Replace with your dataset identifier\n",
    " \n",
    "# Step 3: Create a directory to store the dataset\n",
    "os.makedirs('kaggle_dataset', exist_ok=True)\n",
    " \n",
    "# Step 4: Download the dataset\n",
    "!kaggle datasets download -d {dataset_identifier} -p kaggle_dataset --force\n",
    " \n",
    "# Step 5: List all downloaded files\n",
    "downloaded_files = os.listdir('kaggle_dataset')\n",
    " \n",
    "# Step 6: Extract all zip files in the directory\n",
    "for file_name in downloaded_files:\n",
    "    if file_name.endswith('.zip'):\n",
    "        with zipfile.ZipFile(os.path.join('kaggle_dataset', file_name), 'r') as zip_ref:\n",
    "            zip_ref.extractall('kaggle_dataset')\n",
    " \n",
    "\n",
    "# Save the DataFrame to a CSV file\n",
    "#df_final.to_csv('playbook_d3fend_mapping.csv', index=False)"
   ]
  },
  {
   "cell_type": "code",
   "execution_count": 17,
   "id": "a27e3878-81e4-4206-a95e-e3a8228896f1",
   "metadata": {},
   "outputs": [],
   "source": [
    "df_def = pd.read_csv('kaggle_dataset/playbook_d3fend_mapping.csv', delimiter=';')\n",
    "#df_final.head()"
   ]
  },
  {
   "cell_type": "markdown",
   "id": "738b8f18-67fe-4ff0-a22a-40e53ad85d63",
   "metadata": {
    "jp-MarkdownHeadingCollapsed": true
   },
   "source": [
    "### Load playbook dataset from GIthub"
   ]
  },
  {
   "cell_type": "code",
   "execution_count": 19,
   "id": "480ea1f9-a7c9-4928-9787-caea5888b62c",
   "metadata": {},
   "outputs": [
    {
     "name": "stdout",
     "output_type": "stream",
     "text": [
      "File downloaded successfully as playbooks.csv\n"
     ]
    },
    {
     "data": {
      "text/html": [
       "<div>\n",
       "<style scoped>\n",
       "    .dataframe tbody tr th:only-of-type {\n",
       "        vertical-align: middle;\n",
       "    }\n",
       "\n",
       "    .dataframe tbody tr th {\n",
       "        vertical-align: top;\n",
       "    }\n",
       "\n",
       "    .dataframe thead th {\n",
       "        text-align: right;\n",
       "    }\n",
       "</style>\n",
       "<table border=\"1\" class=\"dataframe\">\n",
       "  <thead>\n",
       "    <tr style=\"text-align: right;\">\n",
       "      <th></th>\n",
       "      <th>index</th>\n",
       "      <th>id</th>\n",
       "      <th>vendor</th>\n",
       "      <th>playbook_name</th>\n",
       "      <th>playbook_description</th>\n",
       "      <th>tags</th>\n",
       "      <th>steps</th>\n",
       "      <th>actuator</th>\n",
       "      <th>step_types</th>\n",
       "      <th>step_names</th>\n",
       "    </tr>\n",
       "  </thead>\n",
       "  <tbody>\n",
       "    <tr>\n",
       "      <th>0</th>\n",
       "      <td>0</td>\n",
       "      <td>p1</td>\n",
       "      <td>FortiSOAR</td>\n",
       "      <td>Action (Type All) - Block Indicators</td>\n",
       "      <td>Blocks all types of indicators on the firewall...</td>\n",
       "      <td>['Subroutine', 'Mitigation']</td>\n",
       "      <td>10</td>\n",
       "      <td>['', '', '', '', '', '', '', '', '', 'cyops_ut...</td>\n",
       "      <td>['Start', 'Configuration', 'Condition', 'Playb...</td>\n",
       "      <td>['Start', 'Configuration', 'Check Type of Indi...</td>\n",
       "    </tr>\n",
       "    <tr>\n",
       "      <th>1</th>\n",
       "      <td>1</td>\n",
       "      <td>p2</td>\n",
       "      <td>FortiSOAR</td>\n",
       "      <td>Action - Asset Mitigation</td>\n",
       "      <td>Carries out a sequence of processes such as Cl...</td>\n",
       "      <td>['ManualAction', 'Mitigation']</td>\n",
       "      <td>17</td>\n",
       "      <td>['', '', '', '', '', '', '', '', '', '', '', '...</td>\n",
       "      <td>['Manual task', 'Manual task', 'User decision'...</td>\n",
       "      <td>['Note about AV Scan', 'Add Note', 'Take Snaps...</td>\n",
       "    </tr>\n",
       "    <tr>\n",
       "      <th>2</th>\n",
       "      <td>2</td>\n",
       "      <td>p3</td>\n",
       "      <td>FortiSOAR</td>\n",
       "      <td>Action - Domain - Block (Indicator)</td>\n",
       "      <td>Blocks the indicators of type 'Domain' on the ...</td>\n",
       "      <td>['ManualAction', 'Mitigation']</td>\n",
       "      <td>6</td>\n",
       "      <td>['', '', '', '', '', '']</td>\n",
       "      <td>['Start', 'API call', 'Manual task', 'API call...</td>\n",
       "      <td>['Start', 'Mark as TBD', 'Add note to Indicato...</td>\n",
       "    </tr>\n",
       "    <tr>\n",
       "      <th>3</th>\n",
       "      <td>3</td>\n",
       "      <td>p4</td>\n",
       "      <td>FortiSOAR</td>\n",
       "      <td>Action - Domain - Block (Specified by User)</td>\n",
       "      <td>Creates an indicator for the domain name speci...</td>\n",
       "      <td>['ManualAction', 'Mitigation']</td>\n",
       "      <td>4</td>\n",
       "      <td>['', '', '', 'cyops_utilities']</td>\n",
       "      <td>['Playbook execution', 'Start', 'Manual task',...</td>\n",
       "      <td>['Block Domain', 'Start', 'Create Domain Indic...</td>\n",
       "    </tr>\n",
       "    <tr>\n",
       "      <th>4</th>\n",
       "      <td>4</td>\n",
       "      <td>p5</td>\n",
       "      <td>FortiSOAR</td>\n",
       "      <td>Action - Domain - Unblock (Indicator)</td>\n",
       "      <td>Unblocks the indicators of type 'Domain' on th...</td>\n",
       "      <td>['ManualAction', 'Mitigation']</td>\n",
       "      <td>6</td>\n",
       "      <td>['', '', '', '', '', '']</td>\n",
       "      <td>['Manual task', 'Start', 'API call', 'User dec...</td>\n",
       "      <td>['Add note to Indicator', 'Start', 'Mark as Un...</td>\n",
       "    </tr>\n",
       "  </tbody>\n",
       "</table>\n",
       "</div>"
      ],
      "text/plain": [
       "   index  id     vendor                                playbook_name  \\\n",
       "0      0  p1  FortiSOAR         Action (Type All) - Block Indicators   \n",
       "1      1  p2  FortiSOAR                    Action - Asset Mitigation   \n",
       "2      2  p3  FortiSOAR          Action - Domain - Block (Indicator)   \n",
       "3      3  p4  FortiSOAR  Action - Domain - Block (Specified by User)   \n",
       "4      4  p5  FortiSOAR        Action - Domain - Unblock (Indicator)   \n",
       "\n",
       "                                playbook_description  \\\n",
       "0  Blocks all types of indicators on the firewall...   \n",
       "1  Carries out a sequence of processes such as Cl...   \n",
       "2  Blocks the indicators of type 'Domain' on the ...   \n",
       "3  Creates an indicator for the domain name speci...   \n",
       "4  Unblocks the indicators of type 'Domain' on th...   \n",
       "\n",
       "                             tags  steps  \\\n",
       "0    ['Subroutine', 'Mitigation']     10   \n",
       "1  ['ManualAction', 'Mitigation']     17   \n",
       "2  ['ManualAction', 'Mitigation']      6   \n",
       "3  ['ManualAction', 'Mitigation']      4   \n",
       "4  ['ManualAction', 'Mitigation']      6   \n",
       "\n",
       "                                            actuator  \\\n",
       "0  ['', '', '', '', '', '', '', '', '', 'cyops_ut...   \n",
       "1  ['', '', '', '', '', '', '', '', '', '', '', '...   \n",
       "2                           ['', '', '', '', '', '']   \n",
       "3                    ['', '', '', 'cyops_utilities']   \n",
       "4                           ['', '', '', '', '', '']   \n",
       "\n",
       "                                          step_types  \\\n",
       "0  ['Start', 'Configuration', 'Condition', 'Playb...   \n",
       "1  ['Manual task', 'Manual task', 'User decision'...   \n",
       "2  ['Start', 'API call', 'Manual task', 'API call...   \n",
       "3  ['Playbook execution', 'Start', 'Manual task',...   \n",
       "4  ['Manual task', 'Start', 'API call', 'User dec...   \n",
       "\n",
       "                                          step_names  \n",
       "0  ['Start', 'Configuration', 'Check Type of Indi...  \n",
       "1  ['Note about AV Scan', 'Add Note', 'Take Snaps...  \n",
       "2  ['Start', 'Mark as TBD', 'Add note to Indicato...  \n",
       "3  ['Block Domain', 'Start', 'Create Domain Indic...  \n",
       "4  ['Add note to Indicator', 'Start', 'Mark as Un...  "
      ]
     },
     "execution_count": 19,
     "metadata": {},
     "output_type": "execute_result"
    }
   ],
   "source": [
    "playbook_url = 'https://raw.githubusercontent.com/luduslibrum/awesome-playbooks/refs/heads/main/analysis/coding/playbooks.csv'\n",
    "local_file_url = \"playbooks.csv\"\n",
    "response = requests.get(playbook_url)\n",
    "if response.status_code == 200:\n",
    "    with open(local_file_url, 'wb') as file:\n",
    "        file.write(response.content)\n",
    "    print(f\"File downloaded successfully as {local_file_url}\")\n",
    "else:\n",
    "    print(f\"Failed to download file. Status code: {response.status_code}\")\n",
    "\n",
    "df_playbooks = pd.read_csv('playbooks.csv')\n",
    "df_playbooks.head()"
   ]
  },
  {
   "cell_type": "markdown",
   "id": "99d9c4bf-6077-4444-9dec-1d7ee46d8153",
   "metadata": {
    "jp-MarkdownHeadingCollapsed": true
   },
   "source": [
    "### Merge vendors playbooks with mapping playbooks"
   ]
  },
  {
   "cell_type": "code",
   "execution_count": 21,
   "id": "d3738824-d8ba-4eb5-9f12-9fb93fc06a5e",
   "metadata": {},
   "outputs": [
    {
     "data": {
      "text/html": [
       "<div>\n",
       "<style scoped>\n",
       "    .dataframe tbody tr th:only-of-type {\n",
       "        vertical-align: middle;\n",
       "    }\n",
       "\n",
       "    .dataframe tbody tr th {\n",
       "        vertical-align: top;\n",
       "    }\n",
       "\n",
       "    .dataframe thead th {\n",
       "        text-align: right;\n",
       "    }\n",
       "</style>\n",
       "<table border=\"1\" class=\"dataframe\">\n",
       "  <thead>\n",
       "    <tr style=\"text-align: right;\">\n",
       "      <th></th>\n",
       "      <th>playbook_id</th>\n",
       "      <th>techniques</th>\n",
       "      <th>pb_name</th>\n",
       "      <th>pb_description</th>\n",
       "      <th>techniques_clean</th>\n",
       "      <th>techniques_count</th>\n",
       "      <th>steps</th>\n",
       "      <th>ratio_t_s</th>\n",
       "      <th>artifacts</th>\n",
       "      <th>artifacts_count</th>\n",
       "      <th>tactics</th>\n",
       "      <th>tactics_count</th>\n",
       "      <th>ratio_a_s</th>\n",
       "    </tr>\n",
       "  </thead>\n",
       "  <tbody>\n",
       "    <tr>\n",
       "      <th>0</th>\n",
       "      <td>p122</td>\n",
       "      <td>['c:CTI_Input', 'IdentifierReputationAnalysis'...</td>\n",
       "      <td>Indicator (File MD5) - Get Latest Reputation</td>\n",
       "      <td>Retrieves the reputation of indicators of type...</td>\n",
       "      <td>['IdentifierReputationAnalysis', 'IdentifierAn...</td>\n",
       "      <td>2</td>\n",
       "      <td>11</td>\n",
       "      <td>0.181818</td>\n",
       "      <td>[]</td>\n",
       "      <td>0</td>\n",
       "      <td>['Detect']</td>\n",
       "      <td>1</td>\n",
       "      <td>0.000000</td>\n",
       "    </tr>\n",
       "    <tr>\n",
       "      <th>1</th>\n",
       "      <td>p123</td>\n",
       "      <td>['c:CTI_Input', 'FileAnalysis', 'IdentifierRep...</td>\n",
       "      <td>Indicator (File) - Get Latest Reputation</td>\n",
       "      <td>Uploads a file to a sandbox and then retrieves...</td>\n",
       "      <td>['FileAnalysis', 'IdentifierReputationAnalysis...</td>\n",
       "      <td>4</td>\n",
       "      <td>1</td>\n",
       "      <td>4.000000</td>\n",
       "      <td>['Identifier']</td>\n",
       "      <td>1</td>\n",
       "      <td>['Detect']</td>\n",
       "      <td>1</td>\n",
       "      <td>1.000000</td>\n",
       "    </tr>\n",
       "    <tr>\n",
       "      <th>2</th>\n",
       "      <td>p124</td>\n",
       "      <td>['IdentifierReputationAnalysis', 'IdentifierAn...</td>\n",
       "      <td>Indicator (IP Address) - Get Latest Reputation</td>\n",
       "      <td>Retrieves the reputation of indicators of type...</td>\n",
       "      <td>['IdentifierReputationAnalysis', 'IdentifierAn...</td>\n",
       "      <td>2</td>\n",
       "      <td>5</td>\n",
       "      <td>0.400000</td>\n",
       "      <td>['Identifier', 'Identifier', 'Identifier', 'Id...</td>\n",
       "      <td>5</td>\n",
       "      <td>['Detect']</td>\n",
       "      <td>1</td>\n",
       "      <td>1.000000</td>\n",
       "    </tr>\n",
       "    <tr>\n",
       "      <th>3</th>\n",
       "      <td>p125</td>\n",
       "      <td>['c:CTI_Input', 'IdentifierReputationAnalysis'...</td>\n",
       "      <td>Indicator (Manual Trigger) - Get Latest Reputa...</td>\n",
       "      <td>Retrieves the reputation of indicators using c...</td>\n",
       "      <td>['IdentifierReputationAnalysis', 'IdentifierAn...</td>\n",
       "      <td>2</td>\n",
       "      <td>3</td>\n",
       "      <td>0.666667</td>\n",
       "      <td>[]</td>\n",
       "      <td>0</td>\n",
       "      <td>['Detect']</td>\n",
       "      <td>1</td>\n",
       "      <td>0.000000</td>\n",
       "    </tr>\n",
       "    <tr>\n",
       "      <th>4</th>\n",
       "      <td>p126</td>\n",
       "      <td>['c:CTI_Input', 'IdentifierReputationAnalysis'...</td>\n",
       "      <td>Indicator (Type All) - Get Latest Reputation</td>\n",
       "      <td>Based on the type of indicator  this playbook ...</td>\n",
       "      <td>['IdentifierReputationAnalysis', 'IdentifierAn...</td>\n",
       "      <td>2</td>\n",
       "      <td>7</td>\n",
       "      <td>0.285714</td>\n",
       "      <td>['Identifier', 'Identifier', 'Identifier', 'Id...</td>\n",
       "      <td>6</td>\n",
       "      <td>['Detect']</td>\n",
       "      <td>1</td>\n",
       "      <td>0.857143</td>\n",
       "    </tr>\n",
       "  </tbody>\n",
       "</table>\n",
       "</div>"
      ],
      "text/plain": [
       "  playbook_id                                         techniques  \\\n",
       "0        p122  ['c:CTI_Input', 'IdentifierReputationAnalysis'...   \n",
       "1        p123  ['c:CTI_Input', 'FileAnalysis', 'IdentifierRep...   \n",
       "2        p124  ['IdentifierReputationAnalysis', 'IdentifierAn...   \n",
       "3        p125  ['c:CTI_Input', 'IdentifierReputationAnalysis'...   \n",
       "4        p126  ['c:CTI_Input', 'IdentifierReputationAnalysis'...   \n",
       "\n",
       "                                             pb_name  \\\n",
       "0       Indicator (File MD5) - Get Latest Reputation   \n",
       "1           Indicator (File) - Get Latest Reputation   \n",
       "2     Indicator (IP Address) - Get Latest Reputation   \n",
       "3  Indicator (Manual Trigger) - Get Latest Reputa...   \n",
       "4       Indicator (Type All) - Get Latest Reputation   \n",
       "\n",
       "                                      pb_description  \\\n",
       "0  Retrieves the reputation of indicators of type...   \n",
       "1  Uploads a file to a sandbox and then retrieves...   \n",
       "2  Retrieves the reputation of indicators of type...   \n",
       "3  Retrieves the reputation of indicators using c...   \n",
       "4  Based on the type of indicator  this playbook ...   \n",
       "\n",
       "                                    techniques_clean  techniques_count  steps  \\\n",
       "0  ['IdentifierReputationAnalysis', 'IdentifierAn...                 2     11   \n",
       "1  ['FileAnalysis', 'IdentifierReputationAnalysis...                 4      1   \n",
       "2  ['IdentifierReputationAnalysis', 'IdentifierAn...                 2      5   \n",
       "3  ['IdentifierReputationAnalysis', 'IdentifierAn...                 2      3   \n",
       "4  ['IdentifierReputationAnalysis', 'IdentifierAn...                 2      7   \n",
       "\n",
       "   ratio_t_s                                          artifacts  \\\n",
       "0   0.181818                                                 []   \n",
       "1   4.000000                                     ['Identifier']   \n",
       "2   0.400000  ['Identifier', 'Identifier', 'Identifier', 'Id...   \n",
       "3   0.666667                                                 []   \n",
       "4   0.285714  ['Identifier', 'Identifier', 'Identifier', 'Id...   \n",
       "\n",
       "   artifacts_count     tactics  tactics_count  ratio_a_s  \n",
       "0                0  ['Detect']              1   0.000000  \n",
       "1                1  ['Detect']              1   1.000000  \n",
       "2                5  ['Detect']              1   1.000000  \n",
       "3                0  ['Detect']              1   0.000000  \n",
       "4                6  ['Detect']              1   0.857143  "
      ]
     },
     "execution_count": 21,
     "metadata": {},
     "output_type": "execute_result"
    }
   ],
   "source": [
    "vendor_df = df_playbooks[['id','vendor', 'tags', 'steps']]\n",
    "\n",
    "df_big = df_def[(df_def['steps'] >= 10) & (df_def['steps'] < 20)]\n",
    "df_small = df_def[df_def['steps'] < 10] \n",
    "df_very_big =  df_def[df_def['steps'] >= 20] \n",
    "\n",
    "df_def.head()"
   ]
  },
  {
   "cell_type": "markdown",
   "id": "d8968c6b-5b75-4918-8943-a83513f82f0b",
   "metadata": {
    "jp-MarkdownHeadingCollapsed": true
   },
   "source": [
    "## Total Numbers"
   ]
  },
  {
   "cell_type": "code",
   "execution_count": 23,
   "id": "fab084d9-ffc2-4eef-a4e7-d3eebb0e6dc7",
   "metadata": {},
   "outputs": [
    {
     "name": "stdout",
     "output_type": "stream",
     "text": [
      "Playbook Number (Origin):1221\n",
      "Playbook Number(Categorized): 1221\n",
      "Playbooks (Uncategorized = c:misc): 0\n",
      "Playbooks(Only Custom):369\n",
      "Playbooks(Total not D3FEND):369\n",
      "Playbooks(D3FEND):852\n",
      "Total Tactics = D3FEND Playbooks: 1046\n",
      "Total Techniques: 2721\n",
      "0.0\n"
     ]
    }
   ],
   "source": [
    "print(f'Playbook Number (Origin):{len(df_playbooks)}')\n",
    "print(f'Playbook Number(Categorized): {len(df_def)}')\n",
    "print(f'Playbooks (Uncategorized = c:misc): {len(df_playbooks) -len(df_def) }')\n",
    "print(f'Playbooks(Only Custom):{df_def[df_def['tactics_count'] == 0].shape[0]}')\n",
    "print(f'Playbooks(Total not D3FEND):{df_def[df_def['tactics_count'] == 0].shape[0]+len(df_playbooks) -len(df_def) }')\n",
    "print(f'Playbooks(D3FEND):{df_def[df_def['tactics_count'] > 0].shape[0]}')\n",
    "print(f'Total Tactics = D3FEND Playbooks: {df_def['tactics_count'].sum()}')\n",
    "print(f'Total Techniques: {df_def['techniques_count'].sum()}')\n",
    "\n",
    "sum = 0 \n",
    "for index, value in df_def.iterrows():\n",
    "    techniques = value['techniques_clean']\n",
    "    techniques_under = []\n",
    "    for t in techniques:\n",
    "        for ta in techniques_list:\n",
    "            if t in techniques_list[ta]:\n",
    "                sum += 1\n",
    "                techniques_under.append(t)\n",
    "    df_def.at[index, 'techniques_count_under'] = len(techniques_under)\n",
    "\n",
    "df_def.head()\n",
    "print(df_def['techniques_count_under'].sum())               "
   ]
  },
  {
   "cell_type": "markdown",
   "id": "22e5e301-4a85-49aa-9658-6ce0f700d5c2",
   "metadata": {
    "jp-MarkdownHeadingCollapsed": true
   },
   "source": [
    "## Vendor Coverage"
   ]
  },
  {
   "cell_type": "code",
   "execution_count": 70,
   "id": "80839e8e-0a72-45c9-9934-b308b530293c",
   "metadata": {},
   "outputs": [
    {
     "name": "stdout",
     "output_type": "stream",
     "text": [
      "['FortiSOAR', 'Rapid7', 'Resolve', 'Splunk', 'XSOAR']\n",
      "{'Model': ['AccessModeling', 'SystemDependencyMapping', 'SoftwareInventory', 'HardwareComponentInventory', 'NetworkNodeInventory', 'ConfigurationInventory', 'AssetVulnerabilityEnumeration', 'SystemVulnerabilityAssessment', 'OperationalRiskAssessment', 'DataInventory', 'OrganizationMapping', 'OperationalDependencyMapping', 'ServiceDependencyMapping', 'NetworkTrafficPolicyMapping', 'DataExchangeMapping'], 'Harden': ['SoftwareUpdate', 'CredentialRotation', 'UserAccountPermissions', 'SystemConfigurationPermissions', 'DomainTrustPolicy', 'StrongPasswordPolicy', 'CredentialTransmissionScoping', 'ApplicationConfigurationHardening', 'MessageEncryption'], 'Detect': ['IdentifierReputationAnalysis', 'URLAnalysis', 'SenderReputationAnalysis', 'DynamicAnalysis', 'IdentifierActivityAnalysis', 'FileHashing', 'LocalAccountMonitoring', 'UserGeolocationLogonPatternAnalysis', 'OperatingSystemMonitoring', 'AuthenticationEventThresholding', 'AuthorizationEventThresholding', 'CertificateAnalysis', 'DNSTrafficAnalysis', 'FileContentAnalysis', 'JobFunctionAccessPatternAnalysis', 'FirmwareVerification', 'DatabaseQueryStringAnalysis', 'FileIntegrityMonitoring', 'DomainAccountMonitoring', 'AdministrativeNetworkActivityAnalysis', 'CredentialCompromiseScopeAnalysis', 'FileAccessPatternAnalysis', 'ProcessSpawnAnalysis', 'Client-serverPayloadProfiling', 'NetworkTrafficSignatureAnalysis', 'RemoteTerminalSessionDetection', 'ResourceAccessPatternAnalysis', 'RPCTrafficAnalysis', 'ConnectionAttemptAnalysis', 'ProtocolMetadataAnomalyDetection', 'RelayPatternAnalysis', 'FirmwareBehaviorAnalysis', 'FirmwareEmbeddedMonitoringCode', 'SenderMTAReputationAnalysis', 'EmulatedFileAnalysis'], 'Isolate': ['NetworkTrafficFiltering', 'ExecutableDenylisting', 'BroadcastDomainIsolation', 'DNSDenylisting', 'ExecutableAllowlisting'], 'Deceive': [], 'Evict': ['ProcessTermination', 'AccountLocking', 'HostShutdown', 'CredentialRevoking', 'FileRemoval', 'AuthenticationCacheInvalidation', 'ProcessSuspension'], 'Restore': ['RestoreNetworkAccess', 'RestoreFile', 'RestoreUserAccountAccess', 'RestoreDatabase', 'RestoreDiskImage', 'RestoreConfiguration']}\n",
      "[88.23529411764706, 31.03448275862069, 70.0, 50.0, 0.0, 58.333333333333336, 75.0]\n"
     ]
    },
    {
     "data": {
      "image/png": "[encoded data removed]",
      "text/plain": [
       "<Figure size 640x480 with 1 Axes>"
      ]
     },
     "metadata": {},
     "output_type": "display_data"
    },
    {
     "data": {
      "text/plain": [
       "<Figure size 1500x1200 with 0 Axes>"
      ]
     },
     "metadata": {},
     "output_type": "display_data"
    }
   ],
   "source": [
    "# vendor_df\n",
    "# filtered_only_upper_unsorted\n",
    "# filtered_only_under\n",
    "import random\n",
    "from scipy.interpolate import make_interp_spline\n",
    "import matplotlib.ticker as mtick\n",
    "\n",
    "\n",
    "\n",
    "\n",
    "barchart_tactics = ['Model','Harden','Detect','Isolate','Deceive','Evict','Restore']\n",
    "vendor_list = []\n",
    "vendor_excluded = ['Catalyst','IACD','OasisOpen', 'Chronicle','Tines','Demisto','LogicHub','Shuffle','ThreatConnect','CISA']\n",
    "n = len(barchart_tactics)\n",
    "\n",
    "\n",
    "df_vendor_playbooks = df_def[['playbook_id', 'techniques_clean']]\n",
    "df_vendor_playbooks.columns = ['id','mapping']\n",
    "#pd.read_csv('mapping.csv', header=None, names=['id','mapping'])\n",
    "\n",
    "#df_vendor_playbooks['mapping'] = df_vendor_playbooks['mapping'].apply(ast.literal_eval)\n",
    "\n",
    "\n",
    "merged_df = pd.merge(vendor_df, df_vendor_playbooks, on='id')\n",
    "# print(merged_df.head())\n",
    "index = np.arange(n)\n",
    "\n",
    "for vendor in vendor_df['vendor']:\n",
    "    if vendor not in vendor_list:\n",
    "        if vendor not in vendor_excluded:\n",
    "            vendor_list.append(vendor)\n",
    "print(vendor_list)\n",
    "\n",
    "# Function to generate random colors\n",
    "def get_random_color(number):\n",
    "    colors = ['#5e4c5f','#ffbb6f','#999999','#804c12','#eaa8ed']\n",
    "    return colors[number]\n",
    "\n",
    "# Keep track of used colors\n",
    "used_colors = set()\n",
    "\n",
    "bar_width = 0.35\n",
    "# max coverage numeric value based on the under techniques\n",
    "max_coverage = {'Model': 17, 'Harden': 29, 'Detect': 50, 'Isolate': 10, 'Deceive': 9, 'Evict': 12, 'Restore': 8}\n",
    "\n",
    "coverage_kum = {'Model': [], 'Harden': [], 'Detect': [], 'Isolate': [], 'Deceive': [], 'Evict': [], 'Restore': []}\n",
    "percentages_kum = []\n",
    "color_start_index = 0\n",
    "\n",
    "for vendor in vendor_list:\n",
    "    color = get_random_color(color_start_index)\n",
    "    color_start_index += 1\n",
    "    df_vendor = merged_df[merged_df['vendor'] == vendor]\n",
    "    # 1: List for the values\n",
    "    percentage = []\n",
    "    # 2: Iterate through the tactics and calculate coverage for the vendor\n",
    "    for tactic in barchart_tactics:\n",
    "        max_list = []\n",
    "        matched_techniques = []\n",
    "        data_value_number = 0\n",
    "        for x in techniques_list[tactic]:\n",
    "            max_list.append(x)\n",
    "        for index, row in df_vendor.iterrows():\n",
    "            mappings = row['mapping']\n",
    "            mappings = ast.literal_eval(mappings)\n",
    "            for map in mappings:\n",
    "                if map in max_list:\n",
    "                    if map not in matched_techniques:\n",
    "                        matched_techniques.append(map)\n",
    "                        data_value_number += 1\n",
    "                    if map not in coverage_kum[tactic]:\n",
    "                        coverage_kum[tactic].append(map)\n",
    "  \n",
    "        data_value_percentage = (data_value_number / max_coverage[tactic]) * 100\n",
    "        percentage.append(data_value_percentage)\n",
    "   \n",
    "    # 3: Plot the bar for the vendor\n",
    "    #    --> plt.bar(index, values1, bar_width, label='Value Set 1')\n",
    "    label_x = f'{vendor}'\n",
    "    x_numeric = np.arange(len(barchart_tactics))\n",
    "    x_smooth = np.linspace(x_numeric.min(), x_numeric.max(), 300)\n",
    "    spl = make_interp_spline(x_numeric, percentage, k=2)  # k=3 for cubic spline\n",
    "   # print(percentage)\n",
    "    if vendor == \"XSOAR\":\n",
    "        y_smooth = spl(x_smooth)\n",
    "       # y_smooth = np.clip(y_smooth, 0,  0.5)\n",
    "    else:\n",
    "        y_smooth = spl(x_smooth)\n",
    "        y_smooth = np.clip(y_smooth, 0,  0.88)\n",
    "    # y_smooth = np.array(percentage)\n",
    "    plt.plot(x_numeric, percentage, label=vendor, color=color, linewidth=1, marker='o')\n",
    "    plt.xticks(x_numeric, barchart_tactics)\n",
    "    \n",
    "    plt.legend(loc='right',bbox_to_anchor=(0.34, 0.85), frameon=False)\n",
    "   # plt.plot(x_smooth, y_smooth, label=vendor, color=color, linewidth=1, marker='o')\n",
    "   # plt.xticks(x_numeric, barchart_tactics)\n",
    "   # plt.legend(loc='right',bbox_to_anchor=(1.27, 0.15))\n",
    "    for i, value in enumerate(percentage):\n",
    "        plt.annotate(f'{value:.2f}', (x_numeric[i], percentage[i]), \n",
    "                     textcoords=\"offset points\", xytext=(0,5), ha='center', fontsize=8, color='black')\n",
    "print(coverage_kum)\n",
    "# Plot the kumulative plot across the vendors\n",
    "\n",
    "for tactic in coverage_kum:\n",
    "    percentages_kum.append((len(coverage_kum[tactic])/max_coverage[tactic])*100)\n",
    "  # print(len(coverage_kum[tactic]))\n",
    "   # print(max_coverage[tactic])\n",
    "x_numeric_kum = np.arange(len(barchart_tactics))\n",
    "x_smooth_kum = np.linspace(x_numeric_kum.min(), x_numeric_kum.max(), 300)\n",
    "print(percentages_kum)\n",
    "#spl_kum = make_interp_spline(x_numeric_kum, percentages_kum, k=2)  # k=3 for cubic spline\n",
    "#y_smooth_kum = spl_kum(x_smooth_kum)\n",
    "#y_smooth_kum = np.clip(y_smooth_kum, 0,  1.1)\n",
    "\n",
    "#plt.xlabel('Mitre D3FEND Tactics')\n",
    "plt.ylabel('Percentage of Technique Coverage')\n",
    "# Set y-axis to display percentages\n",
    "ax = plt.gca()  # Get current axis\n",
    "#ax.yaxis.set_major_formatter(mtick.PercentFormatter(1.0))  # If your data is in 0-1 range\n",
    "# If your data is in 0-100 range, use:\n",
    "ax.yaxis.set_major_formatter(mtick.PercentFormatter())\n",
    "#plt.title('The Coverage of Playbook Vendors over Mitre D3FEND Tactics')\n",
    "plt.savefig(\"distribution_of_playbooks_lines.pdf\", format='pdf')\n",
    "plt.figure(figsize=(15,12))\n",
    "\n",
    "plt.show()"
   ]
  },
  {
   "cell_type": "markdown",
   "id": "65332a22-a83b-4c08-84bb-df2112229b33",
   "metadata": {
    "jp-MarkdownHeadingCollapsed": true
   },
   "source": [
    "## Barchart Diagram Tactics"
   ]
  },
  {
   "cell_type": "code",
   "execution_count": 33,
   "id": "7990c128-ec39-4ad9-b69b-358d44e5a597",
   "metadata": {},
   "outputs": [
    {
     "name": "stdout",
     "output_type": "stream",
     "text": [
      "   Tactics  amount\n",
      "0    Model     153\n",
      "1   Harden      35\n",
      "2   Detect     495\n",
      "3  Isolate     183\n",
      "4  Deceive       0\n",
      "5    Evict     101\n",
      "6  Restore      79\n",
      "1046\n",
      "15.920915712799166\n",
      "3.6420395421436007\n",
      "51.508844953173785\n",
      "19.042663891779394\n",
      "0.0\n",
      "10.509885535900104\n",
      "8.220603537981269\n"
     ]
    },
    {
     "data": {
      "image/png": "[encoded data removed]",
      "text/plain": [
       "<Figure size 640x480 with 2 Axes>"
      ]
     },
     "metadata": {},
     "output_type": "display_data"
    }
   ],
   "source": [
    "from matplotlib.ticker import PercentFormatter\n",
    "\n",
    "dataframe_playbook_count = {\n",
    "    'Model':0, 'Harden':0, 'Detect':0, 'Isolate':0, 'Deceive':0, 'Evict':0, 'Restore':0  # Column with strings\n",
    "}\n",
    "colors = [(0.0, 0.3569, 0.5804, 0.1),(0.0, 0.3569, 0.5804, 0.1),(0.0, 0.3569, 0.5804, 0.1),(0.0, 0.3569, 0.5804, 0.1),(0.0, 0.3569, 0.5804, 0.1),\n",
    "          (0.0, 0.3569, 0.5804, 0.1),(0.0, 0.3569, 0.5804, 0.1),(0.0, 0.3569, 0.5804, 0.1)]\n",
    "\n",
    "coverage = [0.8823529411764706, 0.3103448275862069, 0.7, 0.5, 0.0, 0.5833333333333334, 0.75]\n",
    "coverage_perc = [88.23529411764706, 31.03448275862069, 70.0, 50.0, 0.0, 58.333333333333336, 75.0]\n",
    "\n",
    "sum = 0\n",
    "for index, value in df_def.iterrows():\n",
    "    tactics_i = value['tactics']\n",
    "    tactics_i = ast.literal_eval(tactics_i)\n",
    "    for t in tactics_i:\n",
    "        dataframe_playbook_count[t] +=1\n",
    "        sum += 1\n",
    "# Transform to DataFrame\n",
    "df_tactics = pd.DataFrame.from_dict(dataframe_playbook_count, orient='index', columns=['amount']).reset_index()\n",
    "df_tactics = df_tactics.rename(columns={'index': 'Tactics'})\n",
    "print(df_tactics)\n",
    "print(sum)\n",
    "\n",
    "for index, value in df_tactics.iterrows():  \n",
    "    df_tactics.loc[index, 'percentage_column'] = (value['amount'] / 961) * 100\n",
    "    print(df_tactics.loc[index, 'percentage_column'])\n",
    "    \n",
    "fig, ax1 = plt.subplots()\n",
    "ax1.bar(df_tactics['Tactics'],df_tactics['percentage_column'],label='Distribution', color=colors, edgecolor='black',)\n",
    "#ax1.set_xlabel('D3FEND Tactics (no Tactic = None extracted)')\n",
    "ax1.set_ylabel('Distribution over D3FEND Tactics', color='black')\n",
    "# Format y-axis of ax1 as percentages\n",
    "ax1.yaxis.set_major_formatter(PercentFormatter(decimals=0))\n",
    "\n",
    "#ax1.legend(loc='upper left', bbox_to_anchor=(0, 1.02))\n",
    "# Create a second y-axis\n",
    "ax2 = ax1.twinx()\n",
    "ax2.set_ylabel('Relative Coverage of the D3FEND Tactic', color='black')\n",
    "ax2.set_ylim(0, 105)  # Set the limits of the second y-axis\n",
    "plt.xlabel('D3FEND Tactics (Others = None extracted)')\n",
    "plt.ylabel('Relative Coverage')\n",
    "ax2.plot(x_numeric, coverage_perc, label='Coverage', color='black', linewidth=1, marker='o')\n",
    "\n",
    "for i, value in enumerate(coverage_perc):\n",
    "    ax2.annotate(f'{value:.2f}%', (x_numeric[i], coverage_perc[i]), \n",
    "                 textcoords=\"offset points\", xytext=(0,5), ha='center', fontsize=8, color='black')\n",
    "\n",
    "# Combine legends from both ax1 and ax2\n",
    "handles, labels = ax1.get_legend_handles_labels()\n",
    "handles2, labels2 = ax2.get_legend_handles_labels()\n",
    "\n",
    "ax2.legend(handles + handles2, labels + labels2,loc='upper right', bbox_to_anchor=(1, 1), frameon=False)\n",
    "ax2.yaxis.set_major_formatter(mtick.PercentFormatter())\n",
    "\n",
    "plt.savefig(\"distribution_of_playbooks.pdf\", format='pdf', bbox_inches='tight')\n",
    "fig.tight_layout()\n",
    "fig.subplots_adjust(top=0.9)\n",
    "# 1396 Techniques insgesamt\n",
    "# 1217 -909 = 308 ohne tactic\n",
    "# 71 techniques\n",
    "# d.h. gesamt techniques = 1088\n",
    "# Detect % = \n",
    "plt.show()"
   ]
  },
  {
   "cell_type": "code",
   "execution_count": 39,
   "id": "e6f8a6d3-cfdb-41f1-9033-77b7d8583390",
   "metadata": {},
   "outputs": [
    {
     "name": "stdout",
     "output_type": "stream",
     "text": [
      "{'IdentifierReputationAnalysis': 314, 'IdentifierActivityAnalysis': 68, 'AssetVulnerabilityEnumeration': 65, 'OperationalRiskAssessment': 36, 'CredentialRotation': 16, 'SoftwareUpdate': 8, 'NetworkTrafficFiltering': 127, 'BroadcastDomainIsolation': 47, 'FileRemoval': 41, 'AccountLocking': 33, 'RestoreNetworkAccess': 41, 'RestoreUserAccountAccess': 15}\n"
     ]
    }
   ],
   "source": [
    "focus_points = {'IdentifierReputationAnalysis':0,'IdentifierActivityAnalysis':0,'AssetVulnerabilityEnumeration':0,'OperationalRiskAssessment':0,\n",
    "               'CredentialRotation':0,'SoftwareUpdate':0,'NetworkTrafficFiltering':0,'BroadcastDomainIsolation':0,'FileRemoval':0,'AccountLocking':0\n",
    "               ,'RestoreNetworkAccess':0,'RestoreUserAccountAccess':0}\n",
    "\n",
    "for index, value in df_def.iterrows():\n",
    "    techniques = value['techniques_clean']\n",
    "    techniques = ast.literal_eval(techniques)\n",
    "    for i in techniques:\n",
    "        if i in focus_points:\n",
    "            focus_points[i] +=1\n",
    "\n",
    "print(focus_points)\n"
   ]
  },
  {
   "cell_type": "markdown",
   "id": "6ee12e75-7846-49cd-9726-529e3cb22d89",
   "metadata": {
    "jp-MarkdownHeadingCollapsed": true
   },
   "source": [
    "## Statistics"
   ]
  },
  {
   "cell_type": "code",
   "execution_count": 41,
   "id": "25dd62d6-f676-4b85-9314-3900fa4454ab",
   "metadata": {},
   "outputs": [
    {
     "name": "stdout",
     "output_type": "stream",
     "text": [
      "Mean Playbook Steps: 8.324324324324325\n",
      "Median Playbook Steps: 5.0\n",
      " \n",
      "Mean Playbook Tactics: 0.8566748566748567\n",
      "Median Playbook Tactics: 1.0\n",
      "Variance Playbook Tactics: 0.485178770424672\n",
      " \n",
      "Mean Playbook techniques: 2.2285012285012287\n",
      "Median Playbook techniques: 2.0\n",
      "Variance Playbook techniques: 3.468236194465702\n",
      " \n",
      "Mean Playbook techniques (Under): 0.0\n",
      "Mean artifacts: 5.687960687960688\n",
      "Median artifacts: 3.0\n",
      "Ratio artifacts: 0.712575054779911\n",
      " \n",
      "Mean Techniques per Steps: 0.904893827135457\n",
      "Median Techniques per Steps: 0.4444444444444444\n"
     ]
    }
   ],
   "source": [
    "# Arithmetische Mittel der Steps\n",
    "steps_mean = df_def['steps'].mean(skipna=False)\n",
    "steps_median = df_def['steps'].median(skipna=False)\n",
    "print(f'Mean Playbook Steps: {steps_mean}')\n",
    "print(f'Median Playbook Steps: {steps_median}')\n",
    "print(\" \")\n",
    "tactics_mean = df_def['tactics_count'].mean(skipna=False)\n",
    "tactics_median = df_def['tactics_count'].median(skipna=False)\n",
    "tactics_variance = df_def['tactics_count'].var(skipna=False)\n",
    "print(f'Mean Playbook Tactics: {tactics_mean}')\n",
    "print(f'Median Playbook Tactics: {tactics_median}')\n",
    "print(f'Variance Playbook Tactics: {tactics_variance}')\n",
    "print(\" \")\n",
    "techniques_mean = df_def['techniques_count'].mean(skipna=False)\n",
    "techniques_median = df_def['techniques_count'].median(skipna=False)\n",
    "techniques_variance = df_def['techniques_count'].var(skipna=False)\n",
    "print(f'Mean Playbook techniques: {techniques_mean}')\n",
    "print(f'Median Playbook techniques: {techniques_median}')\n",
    "print(f'Variance Playbook techniques: {techniques_variance}')\n",
    "print(\" \")\n",
    "techniques_simple_mean = df_def['techniques_count_under'].mean(skipna=False)\n",
    "print(f'Mean Playbook techniques (Under): {techniques_simple_mean}')\n",
    "\n",
    "\n",
    "artifacts_mean = df_def['artifacts_count'].mean(skipna=False)\n",
    "artifacts_median = df_def['artifacts_count'].median(skipna=False)\n",
    "artifacts_ratio = df_def['ratio_a_s'].mean(skipna=False)\n",
    "print(f'Mean artifacts: {artifacts_mean}')\n",
    "print(f'Median artifacts: {artifacts_median}')\n",
    "print(f'Ratio artifacts: {artifacts_ratio}')\n",
    "print(\" \")\n",
    "\n",
    "\n",
    "filtered_df = df_def[df_def['techniques_count'] > 1]\n",
    "\n",
    "ratio_t_s_mean = filtered_df['ratio_t_s'].mean(skipna=False)\n",
    "ratio_t_s_med = filtered_df['ratio_t_s'].median(skipna=False)\n",
    "print(f'Mean Techniques per Steps: {ratio_t_s_mean}')\n",
    "print(f'Median Techniques per Steps: {ratio_t_s_med}')\n",
    "\n"
   ]
  },
  {
   "cell_type": "markdown",
   "id": "0c9b16d0-3eb6-49e4-8bdf-923b1a31aa5f",
   "metadata": {},
   "source": [
    "### Relation of Playbook Steps and Techniques"
   ]
  },
  {
   "cell_type": "code",
   "execution_count": 44,
   "id": "78e525c2-8841-4a41-9657-6b38edb9aed4",
   "metadata": {},
   "outputs": [
    {
     "name": "stdout",
     "output_type": "stream",
     "text": [
      "6376\n",
      "Identifier: 0.0636762860727729\n",
      "D.I.Bearer: 0.05159974905897114\n",
      "D.I: 0.031053952321204517\n",
      "Network Node: 0.016938519447929738\n",
      "File: 0.012076537013801757\n",
      "IDS: 0.010978670012547051\n",
      "Network: 0.0075282308657465494\n",
      "User: 0.005489335006273526\n",
      "User Account: 0.0036072772898368883\n",
      "Metadata: 0.003136762860727729\n"
     ]
    }
   ],
   "source": [
    "# Prozentzahlen der artifacts\n",
    "\n",
    "gesamtzahl_artifacts = 6376\n",
    "print(gesamtzahl_artifacts)\n",
    "identifier_percentage = 406/gesamtzahl_artifacts\n",
    "DI_b_perc = 329/gesamtzahl_artifacts\n",
    "DI = 198/gesamtzahl_artifacts\n",
    "NN = 108/gesamtzahl_artifacts\n",
    "file_perc = 77/gesamtzahl_artifacts\n",
    "ids = 70/gesamtzahl_artifacts\n",
    "network = 48/gesamtzahl_artifacts\n",
    "User = 35/gesamtzahl_artifacts\n",
    "User_account = 23/gesamtzahl_artifacts\n",
    "Metadata = 20/gesamtzahl_artifacts\n",
    "print(f'Identifier: {identifier_percentage}')\n",
    "print(f'D.I.Bearer: {DI_b_perc}')\n",
    "print(f'D.I: {DI}')\n",
    "print(f'Network Node: {NN}')\n",
    "print(f'File: {file_perc}')\n",
    "print(f'IDS: {ids}')\n",
    "print(f'Network: {network}')\n",
    "print(f'User: {User}')\n",
    "print(f'User Account: {User_account}')\n",
    "print(f'Metadata: {Metadata}')"
   ]
  },
  {
   "cell_type": "code",
   "execution_count": 48,
   "id": "17991433-8285-4573-9319-8665e7282056",
   "metadata": {},
   "outputs": [
    {
     "name": "stdout",
     "output_type": "stream",
     "text": [
      "Model\n",
      "Harden\n",
      "Detect\n",
      "Isolate\n",
      "Deceive\n",
      "Evict\n",
      "Restore\n",
      "6966\n"
     ]
    }
   ],
   "source": [
    "calculations = {\"Model\":[],\"Harden\":[],\"Detect\":[],\"Isolate\":[],\"Deceive\":[],\"Evict\":[],\"Restore\":[]}\n",
    "\n",
    "for index, value in df_def.iterrows():\n",
    "    tactics = value['tactics']\n",
    "    tactics = ast.literal_eval(tactics)\n",
    "    artifacts = value['artifacts']\n",
    "    artifacts = ast.literal_eval(artifacts)\n",
    "    #print(artifacts)\n",
    "    for t in tactics:\n",
    "        for a in artifacts:\n",
    "            calculations[t].append(a)\n",
    "\n",
    "sum = 0\n",
    "for i in calculations:\n",
    "    print(i)\n",
    "    sum += len(calculations[i])\n",
    "\n",
    "print(sum)"
   ]
  },
  {
   "cell_type": "code",
   "execution_count": 50,
   "id": "fe3ec667-15b3-4e64-a582-2896850d4c99",
   "metadata": {},
   "outputs": [
    {
     "name": "stdout",
     "output_type": "stream",
     "text": [
      "{'Identifier': {'Model': 102, 'Harden': 19, 'Detect': 1199, 'Isolate': 424, 'Deceive': 0, 'Evict': 106, 'Restore': 56}, 'Digital Information Bearer': {'Model': 165, 'Harden': 58, 'Detect': 300, 'Isolate': 201, 'Deceive': 0, 'Evict': 159, 'Restore': 96}, 'Digital Information': {'Model': 159, 'Harden': 21, 'Detect': 261, 'Isolate': 41, 'Deceive': 0, 'Evict': 32, 'Restore': 12}, 'Network Node': {'Model': 113, 'Harden': 32, 'Detect': 146, 'Isolate': 146, 'Deceive': 0, 'Evict': 55, 'Restore': 93}, 'File': {'Model': 30, 'Harden': 1, 'Detect': 172, 'Isolate': 69, 'Deceive': 0, 'Evict': 58, 'Restore': 13}, 'Intrusion Detection System': {'Model': 46, 'Harden': 21, 'Detect': 157, 'Isolate': 56, 'Deceive': 0, 'Evict': 25, 'Restore': 11}, 'Network': {'Model': 6, 'Harden': 3, 'Detect': 94, 'Isolate': 139, 'Deceive': 0, 'Evict': 12, 'Restore': 32}, 'User': {'Model': 17, 'Harden': 16, 'Detect': 79, 'Isolate': 18, 'Deceive': 0, 'Evict': 60, 'Restore': 27}, 'User Account': {'Model': 13, 'Harden': 18, 'Detect': 39, 'Isolate': 6, 'Deceive': 0, 'Evict': 44, 'Restore': 7}, 'Metadata': {'Model': 39, 'Harden': 12, 'Detect': 123, 'Isolate': 46, 'Deceive': 0, 'Evict': 28, 'Restore': 8}}\n",
      "7069\n",
      "\\textbf{x} & Identifier& 0.0158& 0.0029& 0.1853& 0.0655& 0.0& 0.0164& 0.0087&0.2946\\\\\n",
      "\\textbf{x} & Digital Information Bearer& 0.0255& 0.009& 0.0464& 0.0311& 0.0& 0.0246& 0.0148&0.1513\\\\\n",
      "\\textbf{x} & Digital Information& 0.0246& 0.0032& 0.0403& 0.0063& 0.0& 0.0049& 0.0019&0.0813\\\\\n",
      "\\textbf{x} & Network Node& 0.0175& 0.0049& 0.0226& 0.0226& 0.0& 0.0085& 0.0144&0.0904\\\\\n",
      "\\textbf{x} & File& 0.0046& 0.0002& 0.0266& 0.0107& 0.0& 0.009& 0.002&0.053\\\\\n",
      "\\textbf{x} & Intrusion Detection System& 0.0071& 0.0032& 0.0243& 0.0087& 0.0& 0.0039& 0.0017&0.0488\\\\\n",
      "\\textbf{x} & Network& 0.0009& 0.0005& 0.0145& 0.0215& 0.0& 0.0019& 0.0049&0.0442\\\\\n",
      "\\textbf{x} & User& 0.0026& 0.0025& 0.0122& 0.0028& 0.0& 0.0093& 0.0042&0.0335\\\\\n",
      "\\textbf{x} & User Account& 0.002& 0.0028& 0.006& 0.0009& 0.0& 0.0068& 0.0011&0.0196\\\\\n",
      "\\textbf{x} & Metadata& 0.006& 0.0019& 0.019& 0.0071& 0.0& 0.0043& 0.0012&0.0396\\\\\n"
     ]
    }
   ],
   "source": [
    "calculations_artifact = {\"Model\":[],\"Harden\":[],\"Detect\":[],\"Isolate\":[],\"Deceive\":[],\"Evict\":[],\"Restore\":[]}\n",
    "artifacts_perc = {\"Identifier\":{\"Model\":0,\"Harden\":0,\"Detect\":0,\"Isolate\":0,\"Deceive\":0,\"Evict\":0,\"Restore\":0},\n",
    "                  \"Digital Information Bearer\":{\"Model\":0,\"Harden\":0,\"Detect\":0,\"Isolate\":0,\"Deceive\":0,\"Evict\":0,\"Restore\":0},\n",
    "                  \"Digital Information\":{\"Model\":0,\"Harden\":0,\"Detect\":0,\"Isolate\":0,\"Deceive\":0,\"Evict\":0,\"Restore\":0},\n",
    "             \"Network Node\":{\"Model\":0,\"Harden\":0,\"Detect\":0,\"Isolate\":0,\"Deceive\":0,\"Evict\":0,\"Restore\":0},\"File\":{\"Model\":0,\"Harden\":0,\"Detect\":0,\"Isolate\":0,\"Deceive\":0,\"Evict\":0,\"Restore\":0},\n",
    "                  \"Intrusion Detection System\":{\"Model\":0,\"Harden\":0,\"Detect\":0,\"Isolate\":0,\"Deceive\":0,\"Evict\":0,\"Restore\":0},\"Network\":{\"Model\":0,\"Harden\":0,\"Detect\":0,\"Isolate\":0,\"Deceive\":0,\"Evict\":0,\"Restore\":0},\n",
    "            \"User\":{\"Model\":0,\"Harden\":0,\"Detect\":0,\"Isolate\":0,\"Deceive\":0,\"Evict\":0,\"Restore\":0},\"User Account\":{\"Model\":0,\"Harden\":0,\"Detect\":0,\"Isolate\":0,\"Deceive\":0,\"Evict\":0,\"Restore\":0},\"Metadata\":{\"Model\":0,\"Harden\":0,\"Detect\":0,\"Isolate\":0,\"Deceive\":0,\"Evict\":0,\"Restore\":0}}\n",
    "\n",
    "other_sum = 0\n",
    "for index, value in df_def.iterrows():\n",
    "    tactics = value['tactics']\n",
    "    tactics = ast.literal_eval(tactics)\n",
    "    artifacts = value['artifacts']\n",
    "    artifacts = ast.literal_eval(artifacts)\n",
    "    for a in artifacts:\n",
    "        if a in artifacts_perc:\n",
    "            for t in tactics:\n",
    "                artifacts_perc[a][t] += 1\n",
    "        else:\n",
    "            other_sum += 1\n",
    "print(artifacts_perc)\n",
    "\n",
    "final_sum = 0\n",
    "for ar in artifacts_perc:\n",
    "    for tac in artifacts_perc[ar]:\n",
    "        artifacts_perc[ar][tac]\n",
    "        final_sum += artifacts_perc[ar][tac]\n",
    "#print(final_sum)\n",
    "#print(other_sum)\n",
    "print(final_sum + other_sum)\n",
    "\n",
    "#  Digital Information Bearer &  0.213 & 0.052 & 0.365 & 0.207 & 0.003 & 0.075 & 0.085 & XX.X\\%\n",
    "\n",
    "for art in artifacts_perc:\n",
    "    artifacts_total = 6469\n",
    "    result_latex = '\\\\textbf{x} & ' + art\n",
    "    sum_artifact_row = 0 \n",
    "    for tactic in artifacts_perc[art]:\n",
    "        sum_artifact_row += artifacts_perc[art][tactic]\n",
    "    percentage_artifact = round(sum_artifact_row/artifacts_total, 4)\n",
    "   # print(percentage_artifact)\n",
    "    for tactic in artifacts_perc[art]:\n",
    "        number_absolut = artifacts_perc[art][tactic]\n",
    "        result_latex = result_latex +  '& ' + str(round(number_absolut/artifacts_total, 4))\n",
    "    \n",
    "    result_latex += '&' + str(percentage_artifact) + \"\\\\\" + \"\\\\\"\n",
    "    print(result_latex)\n",
    "\n",
    "        "
   ]
  },
  {
   "cell_type": "code",
   "execution_count": 52,
   "id": "63798255-8994-4936-b1ea-473f6c0b0f6d",
   "metadata": {},
   "outputs": [
    {
     "name": "stdout",
     "output_type": "stream",
     "text": [
      "269\n",
      "Mean Artifacts in bin playbooks: 2.486988847583643\n",
      "Mean Artifacts in small playbooks: 2.0318396226415096\n",
      "Mean Artifacts in small playbooks: 3.0\n",
      "Mean Artifacts in all playbooks: 2.0\n",
      "848\n"
     ]
    }
   ],
   "source": [
    "print(len(df_big))\n",
    "print(f'Mean Artifacts in bin playbooks: {df_big['techniques_count'].mean(skipna= False)}')\n",
    "print(f'Mean Artifacts in small playbooks: {df_small['techniques_count'].mean(skipna= False)}')\n",
    "print(f'Mean Artifacts in small playbooks: {df_very_big['techniques_count'].median(skipna= False)}')\n",
    "print(f'Mean Artifacts in all playbooks: {df_def['techniques_count'].median(skipna= False)}')\n",
    "\n",
    "\n",
    "print(len(df_small))"
   ]
  },
  {
   "cell_type": "markdown",
   "id": "b9e5c05d-df40-4f15-82f1-e0749847f0d7",
   "metadata": {
    "jp-MarkdownHeadingCollapsed": true
   },
   "source": [
    "## Customs"
   ]
  },
  {
   "cell_type": "code",
   "execution_count": 64,
   "id": "390dd672-5ed6-4891-ba48-a3c94f54d11f",
   "metadata": {},
   "outputs": [
    {
     "name": "stdout",
     "output_type": "stream",
     "text": [
      "Custom: CTI_Input, Amount: 91\n",
      "Custom: AdditionalTask, Amount: 202\n",
      "Custom: IncidentHandlingManagement, Amount: 55\n",
      "Custom: NotifyingTask, Amount: 34\n",
      "Custom: HistoricalDataAnalysis, Amount: 5\n",
      "Custom: IncidentScoring, Amount: 12\n",
      "Custom: Compliance, Amount: 1\n",
      "Custom: SystemTest, Amount: 25\n",
      "Custom: IncidentDocumentation, Amount: 2\n",
      "Custom: IncidentResponseProcess, Amount: 1\n",
      "Custom: IncidentHandelingManagement, Amount: 10\n",
      "Custom: misc, Amount: 1\n"
     ]
    }
   ],
   "source": [
    "customs = {}\n",
    "for index, value in df_def.iterrows():\n",
    "    techniques = value['techniques']\n",
    "    techniques = ast.literal_eval(techniques)\n",
    "    for t in techniques:\n",
    "        #print(t[:])\n",
    "        if t.startswith('c:'):\n",
    "            if t in customs:\n",
    "                customs[t] += 1\n",
    "            else:\n",
    "                customs[t] = 1\n",
    "\n",
    "#print(customs)\n",
    "for c in customs:\n",
    "    print(f'Custom: {c[2:]}, Amount: {customs[c]}')"
   ]
  },
  {
   "cell_type": "code",
   "execution_count": 66,
   "id": "cf251007-1a0d-49c3-b1bd-7063659b407d",
   "metadata": {},
   "outputs": [],
   "source": [
    "df_def.to_csv('final_mapping_d3fend.csv', index=False)"
   ]
  }
 ],
 "metadata": {
  "kernelspec": {
   "display_name": "Python 3 (ipykernel)",
   "language": "python",
   "name": "python3"
  },
  "language_info": {
   "codemirror_mode": {
    "name": "ipython",
    "version": 3
   },
   "file_extension": ".py",
   "mimetype": "text/x-python",
   "name": "python",
   "nbconvert_exporter": "python",
   "pygments_lexer": "ipython3",
   "version": "3.12.4"
  }
 },
 "nbformat": 4,
 "nbformat_minor": 5
}
